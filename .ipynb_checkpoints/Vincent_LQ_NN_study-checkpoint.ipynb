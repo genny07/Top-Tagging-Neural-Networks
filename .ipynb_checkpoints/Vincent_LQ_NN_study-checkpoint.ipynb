{
 "cells": [
  {
   "cell_type": "markdown",
   "metadata": {},
   "source": [
    "# Vincent's Code implementing a pytorch DNN\n",
    "## Acquired May 15, 2019"
   ]
  },
  {
   "cell_type": "code",
   "execution_count": 1,
   "metadata": {},
   "outputs": [
    {
     "name": "stdout",
     "output_type": "stream",
     "text": [
      "3.6.8\n"
     ]
    }
   ],
   "source": [
    "import platform\n",
    "print(platform.python_version())"
   ]
  },
  {
   "cell_type": "code",
   "execution_count": 2,
   "metadata": {},
   "outputs": [
    {
     "name": "stdout",
     "output_type": "stream",
     "text": [
      "1.0.1.post2\n"
     ]
    }
   ],
   "source": [
    "import torch\n",
    "print(torch.__version__)"
   ]
  },
  {
   "cell_type": "code",
   "execution_count": 3,
   "metadata": {
    "collapsed": true
   },
   "outputs": [],
   "source": [
    "import numpy as np \n",
    "import pandas as pd \n",
    "import math\n",
    "import time\n",
    "import copy\n",
    "import torch\n",
    "from sklearn import preprocessing\n",
    "from sklearn import metrics\n",
    "\n",
    "%matplotlib inline \n",
    "import matplotlib.pyplot as plt "
   ]
  },
  {
   "cell_type": "code",
   "execution_count": 4,
   "metadata": {},
   "outputs": [
    {
     "name": "stdout",
     "output_type": "stream",
     "text": [
      "[ -1.84182247e-08   8.44581979e+02   2.30821876e+02   7.64085976e+02\n",
      "   1.13555409e+03   1.46327652e+02   7.20433960e+01   7.79357885e+02\n",
      "   7.79357899e+02   6.09414803e+02   5.69336268e+02   3.04707402e+02\n",
      "   2.84668134e+02   7.42766930e+02   6.50675476e+02] \n",
      "\n",
      "[ -1.84182247e-08  -8.93212584e-01  -1.46207305e+00  -6.28804717e-01\n",
      "   8.21203744e-02  -2.06843352e-01  -6.75281443e-01  -1.00187286e+00\n",
      "  -1.04766084e+00  -2.27068891e-01  -3.27311187e-01  -2.27068891e-01\n",
      "  -3.27311187e-01  -4.32429063e-01  -5.66309769e-01]\n"
     ]
    }
   ],
   "source": [
    "#This cell is not really needed \n",
    "loaded = np.load('/Users/vwong/RootAnalysis/Leptoquark/python/output_allVariables.npz')\n",
    "sig=loaded['sig']\n",
    "bkg=loaded['bkg']\n",
    "name=loaded['name']\n",
    "arrays_all = np.concatenate((sig,bkg))\n",
    "arrays_all[arrays_all[:,-1]>=900,-1]=0\n",
    "print(arrays_all[1,0:-1],\"\\n\")\n",
    "arrays_all[:,1:-1] = preprocessing.scale(arrays_all[:,1:-1]) \n",
    "print(arrays_all[1,0:-1])"
   ]
  },
  {
   "cell_type": "code",
   "execution_count": 5,
   "metadata": {
    "collapsed": true
   },
   "outputs": [],
   "source": [
    "#This cell is not really needed \n",
    "# split dataframe into two based on diagnosis\n",
    "df=pd.DataFrame(data=arrays_all,columns=name)\n",
    "df_sig=df[df['type'] >=900]\n",
    "df_ttbar=df[df['type'] ==1]\n",
    "df_zjets=df[df['type'] ==2]\n",
    "df_all=pd.concat([df_sig,df_ttbar,df_zjets])\n",
    "\n",
    "df_all['sig_or_bkg']=df_all['type']\n",
    "df_all.loc[df_all['type'] >= 900, 'sig_or_bkg'] = 0\n",
    "#df_all"
   ]
  },
  {
   "cell_type": "code",
   "execution_count": 6,
   "metadata": {
    "collapsed": true
   },
   "outputs": [],
   "source": [
    "run_gpu=False\n",
    "if run_gpu:\n",
    "    device = torch.device(\"cuda:0\" if torch.cuda.is_available() else \"cpu\")\n",
    "else:\n",
    "    device = torch.device(\"cpu\")"
   ]
  },
  {
   "cell_type": "code",
   "execution_count": 7,
   "metadata": {
    "collapsed": true
   },
   "outputs": [],
   "source": [
    "###### import torch\n",
    "from torch.autograd import Variable\n",
    "from torch.utils.data import Dataset, DataLoader, random_split\n",
    "\n",
    "class LQDataset(Dataset):\n",
    "    # Initialize your data, download, etc.\n",
    "    \n",
    "    #download, read data, etc.\n",
    "    def __init__(self):\n",
    "        loaded = np.load('/Users/vwong/RootAnalysis/Leptoquark/python/output_allVariables.npz')\n",
    "        sig=loaded['sig']\n",
    "        bkg=loaded['bkg']\n",
    "        arrays_all = np.concatenate((sig,bkg))\n",
    "        arrays_all=np.append(arrays_all,np.reshape(arrays_all[:,-1],(len(arrays_all[:,-1]),1)),axis=1)\n",
    "        arrays_all[arrays_all[:,-1]>=900,-1]=0 \n",
    "        self.len = arrays_all.shape[0]\n",
    "        ### normalization ###\n",
    "        ##rescaling real valued numeric attributes into the range 0 and 1\n",
    "        #arrays_all[:,1:-2] = preprocessing.normalize(arrays_all[:,1:-2]) \n",
    "        ##shifting the distribution of each attribute to have a mean of zero and a standard deviation of one (unit variance)\n",
    "        arrays_all[:,1:-2] = preprocessing.scale(arrays_all[:,1:-2]) \n",
    "        \n",
    "        self.x_data = torch.from_numpy(arrays_all[:,1:-2]).float()\n",
    "        self.y_data = torch.from_numpy(arrays_all[:,-1]).long()\n",
    "        self.rawY_data = torch.from_numpy(arrays_all[:,-2]).long()\n",
    "        self.weight = torch.from_numpy(arrays_all[:,0]).float()\n",
    "    \n",
    "    #return one item on the index\n",
    "    def __getitem__(self,index):\n",
    "        return self.x_data[index], self.y_data[index], self.weight[index], self.rawY_data[index]\n",
    "    \n",
    "    #return the data length:\n",
    "    def __len__(self):\n",
    "        return self.len"
   ]
  },
  {
   "cell_type": "code",
   "execution_count": 8,
   "metadata": {
    "collapsed": true
   },
   "outputs": [],
   "source": [
    "full_dataset = LQDataset()\n",
    "train_len = int(0.7*full_dataset.len)\n",
    "test_len = full_dataset.len - train_len\n",
    "training_dataset, testing_dataset = random_split(full_dataset, lengths=[train_len, test_len])"
   ]
  },
  {
   "cell_type": "code",
   "execution_count": 9,
   "metadata": {},
   "outputs": [
    {
     "name": "stdout",
     "output_type": "stream",
     "text": [
      "Using cpu.\n",
      "\n"
     ]
    }
   ],
   "source": [
    "#Creating Model class in PyTorch way\n",
    "class Model(torch.nn.Module): #the name <Model> is up to the user\n",
    "    def __init__(self):\n",
    "        #In the constructor we instantiate two nn.Linear module\n",
    "        super(Model,self).__init__()\n",
    "        self.linear1=torch.nn.Linear(14,80)\n",
    "        self.linear2=torch.nn.Linear(80,40)\n",
    "        self.linear3=torch.nn.Linear(40,20)\n",
    "        self.linear4=torch.nn.Linear(20,3)\n",
    "        \n",
    "    def forward(self,x):\n",
    "        out1=torch.sigmoid(self.linear1(x))\n",
    "        out2=torch.sigmoid(self.linear2(out1))\n",
    "        out3=torch.sigmoid(self.linear3(out2))\n",
    "        y_pred=torch.softmax(self.linear4(out3),1)\n",
    "        return y_pred\n",
    "    \n",
    "model=Model()\n",
    "for parameter in model.parameters():\n",
    "    #print(\"Number of parameters: {}\\n\".format(parameter))\n",
    "    pass\n",
    "if run_gpu and torch.cuda.device_count() > 1:\n",
    "    print(\"Let's use\", torch.cuda.device_count(), \"GPUs!\\n\")\n",
    "    # dim = 0 [30, xxx] -> [10, ...], [10, ...], [10, ...] on 3 GPUs\n",
    "    model = torch.nn.DataParallel(model)\n",
    "elif run_gpu:\n",
    "    print(\"Using GPU.\\n\")\n",
    "else:\n",
    "    print(\"Using cpu.\\n\")\n",
    "    \n",
    "model.to(device)\n",
    "criterion = torch.nn.CrossEntropyLoss()\n",
    "optimizer = torch.optim.Adam(model.parameters(),lr=0.001)\n",
    "num_epochs=150"
   ]
  },
  {
   "cell_type": "code",
   "execution_count": 10,
   "metadata": {},
   "outputs": [
    {
     "name": "stdout",
     "output_type": "stream",
     "text": [
      "Epoch 0/149\n",
      "----------\n",
      "Epoch 10/149\n",
      "----------\n",
      "Epoch 20/149\n",
      "----------\n",
      "Epoch 30/149\n",
      "----------\n",
      "Epoch 40/149\n",
      "----------\n",
      "Epoch 50/149\n",
      "----------\n",
      "Epoch 60/149\n",
      "----------\n",
      "Epoch 70/149\n",
      "----------\n",
      "Epoch 80/149\n",
      "----------\n",
      "Epoch 90/149\n",
      "----------\n",
      "Epoch 100/149\n",
      "----------\n",
      "Epoch 110/149\n",
      "----------\n",
      "Epoch 120/149\n",
      "----------\n",
      "Epoch 130/149\n",
      "----------\n",
      "Epoch 140/149\n",
      "----------\n",
      "Epoch 149/149\n",
      "----------\n",
      "==================================================\n",
      "Training complete in 134m 44s\n",
      "Best val Acc: 0.970799\n"
     ]
    }
   ],
   "source": [
    "\"\"\"\n",
    "DataLoader controls how to slice the data up\n",
    "batch_size is how many data points for each forward and backward loop\n",
    "num_workers is how many subprocesses to use for data loading. 0 means that the data will be loaded in the main process.\n",
    "\"\"\"\n",
    "training_loader = DataLoader(dataset=training_dataset, batch_size=32, shuffle=True, num_workers=2) \n",
    "testing_loader = DataLoader(dataset=testing_dataset, batch_size=32, shuffle=False, num_workers=2) \n",
    "\n",
    "best_model_wts = copy.deepcopy(model.state_dict())\n",
    "best_acc = 0.0\n",
    "\n",
    "since = time.time()\n",
    "\n",
    "training_loss_list=[]\n",
    "testing_loss_list=[]\n",
    "training_acc_list=[]\n",
    "testing_acc_list=[]\n",
    "\n",
    "for epoch in range(num_epochs):\n",
    "    #Training cycle (forward, backward, update)\n",
    "    if (epoch%10==0 or epoch==num_epochs - 1):\n",
    "        print('Epoch {}/{}'.format(epoch, num_epochs - 1))\n",
    "        print('-' * 10)\n",
    "\n",
    "    model.train()\n",
    "    train_loss = 0.0\n",
    "    train_corrects = 0\n",
    "\n",
    "    for i, data in enumerate(training_loader, 0):\n",
    "        \n",
    "        ### 1. get the inputs ###\n",
    "        inputs,labels,_,_=data\n",
    "    \n",
    "        ### 2. wrap them in Variable ###\n",
    "        inputs, labels = Variable(inputs), Variable(labels)\n",
    "        inputs, labels = inputs.to(device), labels.to(device)\n",
    "\n",
    "        ### 3. Run your training process ###\n",
    "        #print(\"epoch \", epoch, \", batch \",i, \"\\ninputs:\\n\", inputs.data, \"\\nlabels:\\n\", labels.data)\n",
    "        \n",
    "        #Forward pass: Compute predicted y by passing x to the model\n",
    "        outputs=model(inputs)\n",
    "        #print(\"\\npredicted outputs:\\n\", outputs.data, \"\\nlabels:\\n\", labels.data)\n",
    "        preds=torch.max(outputs.data, 1)[1]\n",
    "        \n",
    "        #Compute and print loss\n",
    "        loss=criterion(outputs,labels)\n",
    "        \n",
    "        #Zero gradients, perform a backward pass, and update the weights\n",
    "        optimizer.zero_grad()\n",
    "        loss.backward()\n",
    "        optimizer.step()\n",
    "        \n",
    "        train_loss += loss.item() * inputs.size(0)\n",
    "        train_corrects += torch.sum(preds == labels.data)\n",
    "        \n",
    "    epoch_loss = train_loss / train_len\n",
    "    epoch_acc = train_corrects.double() / train_len\n",
    "\n",
    "    training_loss_list.append(epoch_loss)\n",
    "    training_acc_list.append(epoch_acc)\n",
    "#    print('Training Loss: \\t{:.4f} Acc: {:.4f}'.format(epoch_loss, epoch_acc))\n",
    "    \n",
    "    #Testing cycle (forward, save)\n",
    "    model.eval()\n",
    "    test_loss=0.\n",
    "    test_corrects=0\n",
    "    \n",
    "    with torch.no_grad():\n",
    "        for data in testing_loader:\n",
    "            inputs,labels,_,_=data\n",
    "            inputs, labels = Variable(inputs), Variable(labels)\n",
    "            outputs = model(inputs)\n",
    "            #sum up batch loss\n",
    "            loss = criterion(outputs, labels)\n",
    "            #get the index of the max log-probability\n",
    "            preds=torch.max(outputs.data, 1)[1]\n",
    "            test_loss += loss.item() * inputs.size(0)\n",
    "            test_corrects += torch.sum(preds == labels.data)\n",
    "            \n",
    "        epoch_loss = test_loss / test_len\n",
    "        epoch_acc = test_corrects.double() / test_len\n",
    "        testing_loss_list.append(epoch_loss)\n",
    "        testing_acc_list.append(epoch_acc)\n",
    "#        print('Test Loss: \\t{:.4f} Acc: {:.4f}\\n'.format(epoch_loss, epoch_acc))\n",
    "        \n",
    "        # deep copy the model\n",
    "        if epoch_acc > best_acc:\n",
    "            best_acc = epoch_acc\n",
    "            best_model_wts = copy.deepcopy(model.state_dict())\n",
    "            \n",
    "time_elapsed = time.time() - since\n",
    "print('=' * 50)\n",
    "print('Training complete in {:.0f}m {:.0f}s'.format(time_elapsed // 60, time_elapsed % 60))\n",
    "print('Best val Acc: {:4f}'.format(best_acc))\n",
    "\n",
    "# load best model weights\n",
    "model.load_state_dict(best_model_wts)\n"
   ]
  },
  {
   "cell_type": "code",
   "execution_count": 11,
   "metadata": {},
   "outputs": [
    {
     "data": {
      "text/plain": [
       "<matplotlib.legend.Legend at 0x1a47508e80>"
      ]
     },
     "execution_count": 11,
     "metadata": {},
     "output_type": "execute_result"
    },
    {
     "data": {
      "image/png": "[encoded data removed]",
      "text/plain": [
       "<Figure size 432x288 with 1 Axes>"
      ]
     },
     "metadata": {},
     "output_type": "display_data"
    }
   ],
   "source": [
    "x=range(num_epochs)\n",
    "y_train=training_loss_list\n",
    "y_test=testing_loss_list\n",
    "plt.plot(x,y_train,marker='o',markersize=3,linewidth=2,linestyle='dashed',color='r',label=\"training loss\")\n",
    "plt.plot(x,y_test,marker='o',markersize=3,linewidth=2,color='b',label=\"test loss\")\n",
    "plt.legend(loc='upper right')\n",
    "plt.legend()"
   ]
  },
  {
   "cell_type": "code",
   "execution_count": 12,
   "metadata": {},
   "outputs": [
    {
     "data": {
      "text/plain": [
       "<matplotlib.legend.Legend at 0x1a26c0def0>"
      ]
     },
     "execution_count": 12,
     "metadata": {},
     "output_type": "execute_result"
    },
    {
     "data": {
      "image/png": "[encoded data removed]",
      "text/plain": [
       "<Figure size 432x288 with 1 Axes>"
      ]
     },
     "metadata": {},
     "output_type": "display_data"
    }
   ],
   "source": [
    "x=range(num_epochs)\n",
    "y_train=training_acc_list\n",
    "y_test=testing_acc_list\n",
    "plt.plot(x,y_train,marker='o',markersize=3,linewidth=2,linestyle='dashed',color='r',label=\"training accuracy\")\n",
    "plt.plot(x,y_test,marker='o',markersize=3,linewidth=2,color='b',label=\"test accuracy\")\n",
    "plt.legend(loc='upper right')\n",
    "plt.legend()"
   ]
  },
  {
   "cell_type": "code",
   "execution_count": 13,
   "metadata": {
    "collapsed": true
   },
   "outputs": [],
   "source": [
    "model.eval()\n",
    "pred_list_mLQ900=[]\n",
    "truth_list_mLQ900=[]\n",
    "weight_list_mLQ900=[]\n",
    "pred_list_mLQ1100=[]\n",
    "truth_list_mLQ1100=[]\n",
    "weight_list_mLQ1100=[]\n",
    "pred_list_mLQ1300=[]\n",
    "truth_list_mLQ1300=[]\n",
    "weight_list_mLQ1300=[]\n",
    "pred_list_mLQ1500=[]\n",
    "truth_list_mLQ1500=[]\n",
    "weight_list_mLQ1500=[]\n",
    "pred_list_mLQ1700=[]\n",
    "truth_list_mLQ1700=[]\n",
    "weight_list_mLQ1700=[]\n",
    "pred_list_mLQ1900=[]\n",
    "truth_list_mLQ1900=[]\n",
    "weight_list_mLQ1900=[]\n",
    "pred_list_ttbar=[]\n",
    "truth_list_ttbar=[]\n",
    "weight_list_ttbar=[]\n",
    "pred_list_zjets=[]\n",
    "truth_list_zjets=[]\n",
    "weight_list_zjets=[]\n",
    "\n",
    "with torch.no_grad():\n",
    "    for data in testing_loader:\n",
    "        inputs,labels,weights,rawLabels=data\n",
    "        inputs, labels = Variable(inputs), Variable(labels)\n",
    "        outputs = model(inputs)\n",
    "        #get the index of the max log-probability\n",
    "        #preds=torch.max(outputs.data, 1)[1]\n",
    "        #print(\"preds: \", outputs.data[:,0])\n",
    "        truth=labels.clone()\n",
    "        truth.data[truth.data==0] = 99\n",
    "        truth.data[truth.data!=99] = 0\n",
    "        truth.data[truth.data==99] = 1\n",
    "        #print(\"truth: \", truth.data)\n",
    "        \n",
    "        pred_list=outputs.data[:,0].numpy()\n",
    "        truth_list=truth.numpy()\n",
    "        weight_list=weights.numpy()\n",
    "        \n",
    "        pred_list_mLQ900=np.append(pred_list_mLQ900,pred_list[rawLabels.numpy()[:]==1])\n",
    "        truth_list_mLQ900=np.append(truth_list_mLQ900,truth_list[rawLabels.numpy()[:]==1])\n",
    "        weight_list_mLQ900=np.append(weight_list_mLQ900,weight_list[rawLabels.numpy()[:]==1])\n",
    "        pred_list_mLQ900=np.append(pred_list_mLQ900,pred_list[rawLabels.numpy()[:]==2])\n",
    "        truth_list_mLQ900=np.append(truth_list_mLQ900,truth_list[rawLabels.numpy()[:]==2])\n",
    "        weight_list_mLQ900=np.append(weight_list_mLQ900,weight_list[rawLabels.numpy()[:]==2])\n",
    "        pred_list_mLQ900=np.append(pred_list_mLQ900,pred_list[rawLabels.numpy()[:]==900])\n",
    "        truth_list_mLQ900=np.append(truth_list_mLQ900,truth_list[rawLabels.numpy()[:]==900])\n",
    "        weight_list_mLQ900=np.append(weight_list_mLQ900,weight_list[rawLabels.numpy()[:]==900])\n",
    "        \n",
    "        pred_list_mLQ1100=np.append(pred_list_mLQ1100,pred_list[rawLabels.numpy()[:]==1])\n",
    "        truth_list_mLQ1100=np.append(truth_list_mLQ1100,truth_list[rawLabels.numpy()[:]==1])\n",
    "        weight_list_mLQ1100=np.append(weight_list_mLQ1100,weight_list[rawLabels.numpy()[:]==1])\n",
    "        pred_list_mLQ1100=np.append(pred_list_mLQ1100,pred_list[rawLabels.numpy()[:]==2])\n",
    "        truth_list_mLQ1100=np.append(truth_list_mLQ1100,truth_list[rawLabels.numpy()[:]==2])\n",
    "        weight_list_mLQ1100=np.append(weight_list_mLQ1100,weight_list[rawLabels.numpy()[:]==2])\n",
    "        pred_list_mLQ1100=np.append(pred_list_mLQ1100,pred_list[rawLabels.numpy()[:]==1100])\n",
    "        truth_list_mLQ1100=np.append(truth_list_mLQ1100,truth_list[rawLabels.numpy()[:]==1100])\n",
    "        weight_list_mLQ1100=np.append(weight_list_mLQ1100,weight_list[rawLabels.numpy()[:]==1100])\n",
    "\n",
    "        pred_list_mLQ1300=np.append(pred_list_mLQ1300,pred_list[rawLabels.numpy()[:]==1])\n",
    "        truth_list_mLQ1300=np.append(truth_list_mLQ1300,truth_list[rawLabels.numpy()[:]==1])\n",
    "        weight_list_mLQ1300=np.append(weight_list_mLQ1300,weight_list[rawLabels.numpy()[:]==1])\n",
    "        pred_list_mLQ1300=np.append(pred_list_mLQ1300,pred_list[rawLabels.numpy()[:]==2])\n",
    "        truth_list_mLQ1300=np.append(truth_list_mLQ1300,truth_list[rawLabels.numpy()[:]==2])\n",
    "        weight_list_mLQ1300=np.append(weight_list_mLQ1300,weight_list[rawLabels.numpy()[:]==2])\n",
    "        pred_list_mLQ1300=np.append(pred_list_mLQ1300,pred_list[rawLabels.numpy()[:]==1300])\n",
    "        truth_list_mLQ1300=np.append(truth_list_mLQ1300,truth_list[rawLabels.numpy()[:]==1300])\n",
    "        weight_list_mLQ1300=np.append(weight_list_mLQ1300,weight_list[rawLabels.numpy()[:]==1300])\n",
    "\n",
    "        pred_list_mLQ1500=np.append(pred_list_mLQ1500,pred_list[rawLabels.numpy()[:]==1])\n",
    "        truth_list_mLQ1500=np.append(truth_list_mLQ1500,truth_list[rawLabels.numpy()[:]==1])\n",
    "        weight_list_mLQ1500=np.append(weight_list_mLQ1500,weight_list[rawLabels.numpy()[:]==1])\n",
    "        pred_list_mLQ1500=np.append(pred_list_mLQ1500,pred_list[rawLabels.numpy()[:]==2])\n",
    "        truth_list_mLQ1500=np.append(truth_list_mLQ1500,truth_list[rawLabels.numpy()[:]==2])\n",
    "        weight_list_mLQ1500=np.append(weight_list_mLQ1500,weight_list[rawLabels.numpy()[:]==2])\n",
    "        pred_list_mLQ1500=np.append(pred_list_mLQ1500,pred_list[rawLabels.numpy()[:]==1500])\n",
    "        truth_list_mLQ1500=np.append(truth_list_mLQ1500,truth_list[rawLabels.numpy()[:]==1500])\n",
    "        weight_list_mLQ1500=np.append(weight_list_mLQ1500,weight_list[rawLabels.numpy()[:]==1500])\n",
    "\n",
    "        pred_list_mLQ1700=np.append(pred_list_mLQ1700,pred_list[rawLabels.numpy()[:]==1])\n",
    "        truth_list_mLQ1700=np.append(truth_list_mLQ1700,truth_list[rawLabels.numpy()[:]==1])\n",
    "        weight_list_mLQ1700=np.append(weight_list_mLQ1700,weight_list[rawLabels.numpy()[:]==1])\n",
    "        pred_list_mLQ1700=np.append(pred_list_mLQ1700,pred_list[rawLabels.numpy()[:]==2])\n",
    "        truth_list_mLQ1700=np.append(truth_list_mLQ1700,truth_list[rawLabels.numpy()[:]==2])\n",
    "        weight_list_mLQ1700=np.append(weight_list_mLQ1700,weight_list[rawLabels.numpy()[:]==2])\n",
    "        pred_list_mLQ1700=np.append(pred_list_mLQ1700,pred_list[rawLabels.numpy()[:]==1700])\n",
    "        truth_list_mLQ1700=np.append(truth_list_mLQ1700,truth_list[rawLabels.numpy()[:]==1700])\n",
    "        weight_list_mLQ1700=np.append(weight_list_mLQ1700,weight_list[rawLabels.numpy()[:]==1700])\n",
    "        \n",
    "        pred_list_mLQ1900=np.append(pred_list_mLQ1900,pred_list[rawLabels.numpy()[:]==1])\n",
    "        truth_list_mLQ1900=np.append(truth_list_mLQ1900,truth_list[rawLabels.numpy()[:]==1])\n",
    "        weight_list_mLQ1900=np.append(weight_list_mLQ1900,weight_list[rawLabels.numpy()[:]==1])\n",
    "        pred_list_mLQ1900=np.append(pred_list_mLQ1900,pred_list[rawLabels.numpy()[:]==2])\n",
    "        truth_list_mLQ1900=np.append(truth_list_mLQ1900,truth_list[rawLabels.numpy()[:]==2])\n",
    "        weight_list_mLQ1900=np.append(weight_list_mLQ1900,weight_list[rawLabels.numpy()[:]==2])\n",
    "        pred_list_mLQ1900=np.append(pred_list_mLQ1900,pred_list[rawLabels.numpy()[:]==1900])\n",
    "        truth_list_mLQ1900=np.append(truth_list_mLQ1900,truth_list[rawLabels.numpy()[:]==1900])\n",
    "        weight_list_mLQ1900=np.append(weight_list_mLQ1900,weight_list[rawLabels.numpy()[:]==1900])\n",
    "\n",
    "fpr_mLQ900, tpr_mLQ900, thresholds_mLQ900 = metrics.roc_curve(truth_list_mLQ900, pred_list_mLQ900, pos_label=1,sample_weight=weight_list_mLQ900)\n",
    "fpr_mLQ900=np.ones(len(fpr_mLQ900))-fpr_mLQ900\n",
    "\n",
    "fpr_mLQ1100, tpr_mLQ1100, thresholds_mLQ1100 = metrics.roc_curve(truth_list_mLQ1100, pred_list_mLQ1100, pos_label=1,sample_weight=weight_list_mLQ1100)\n",
    "fpr_mLQ1100=np.ones(len(fpr_mLQ1100))-fpr_mLQ1100\n",
    "\n",
    "fpr_mLQ1300, tpr_mLQ1300, thresholds_mLQ1300 = metrics.roc_curve(truth_list_mLQ1300, pred_list_mLQ1300, pos_label=1,sample_weight=weight_list_mLQ1300)\n",
    "fpr_mLQ1300=np.ones(len(fpr_mLQ1300))-fpr_mLQ1300\n",
    "\n",
    "fpr_mLQ1500, tpr_mLQ1500, thresholds_mLQ1500 = metrics.roc_curve(truth_list_mLQ1500, pred_list_mLQ1500, pos_label=1,sample_weight=weight_list_mLQ1500)\n",
    "fpr_mLQ1500=np.ones(len(fpr_mLQ1500))-fpr_mLQ1500\n",
    "\n",
    "fpr_mLQ1700, tpr_mLQ1700, thresholds_mLQ1700 = metrics.roc_curve(truth_list_mLQ1700, pred_list_mLQ1700, pos_label=1,sample_weight=weight_list_mLQ1700)\n",
    "fpr_mLQ1700=np.ones(len(fpr_mLQ1700))-fpr_mLQ1700\n",
    "\n",
    "fpr_mLQ1900, tpr_mLQ1900, thresholds_mLQ1900 = metrics.roc_curve(truth_list_mLQ1900, pred_list_mLQ1900, pos_label=1,sample_weight=weight_list_mLQ1900)\n",
    "fpr_mLQ1900=np.ones(len(fpr_mLQ1900))-fpr_mLQ1900\n"
   ]
  },
  {
   "cell_type": "code",
   "execution_count": 14,
   "metadata": {},
   "outputs": [
    {
     "data": {
      "image/png": "[encoded data removed]",
      "text/plain": [
       "<Figure size 720x504 with 1 Axes>"
      ]
     },
     "metadata": {},
     "output_type": "display_data"
    }
   ],
   "source": [
    "plt.figure(figsize=(10, 7))\n",
    "plt.plot(tpr_mLQ900, fpr_mLQ900, color='#008000',lw=2, label='ROC curve mLQ=900GeV')\n",
    "plt.plot(tpr_mLQ1100, fpr_mLQ1100, color='#33CCFF',lw=2, label='ROC curve mLQ=1100GeV')\n",
    "plt.plot(tpr_mLQ1300, fpr_mLQ1300, color='#99FF00',lw=2, label='ROC curve mLQ=1300GeV')\n",
    "plt.plot(tpr_mLQ1500, fpr_mLQ1500, color='#FFCC00',lw=2, label='ROC curve mLQ=1500GeV')\n",
    "plt.plot(tpr_mLQ1700, fpr_mLQ1700, color='#FF6600',lw=2, label='ROC curve mLQ=1700GeV')\n",
    "plt.plot(tpr_mLQ1900, fpr_mLQ1900, color='#CC0000',lw=2, label='ROC curve mLQ=1900GeV')\n",
    "plt.plot([0, 1], [1, 0], color='navy', lw=2, linestyle='--')\n",
    "\n",
    "# ---without LQ mass window---\n",
    "plt.plot([0.78553], [0.96605], marker='*', markersize=10, color=\"#008000\", label='cut-based mLQ=900GeV')\n",
    "plt.plot([0.87499], [0.96605], marker='*', markersize=10, color=\"#33CCFF\", label='cut-based mLQ=1100GeV')\n",
    "plt.plot([0.93102], [0.96605], marker='*', markersize=10, color=\"#99FF00\", label='cut-based mLQ=1300GeV')\n",
    "plt.plot([0.94734], [0.96605], marker='*', markersize=10, color=\"#FFCC00\", label='cut-based mLQ=1500GeV')\n",
    "plt.plot([0.96229], [0.96605], marker='*', markersize=10, color=\"#FF6600\", label='cut-based mLQ=1700GeV')\n",
    "plt.plot([0.97111], [0.96605], marker='*', markersize=10, color=\"#CC0000\", label='cut-based mLQ=1900GeV')\n",
    "\n",
    "plt.xlim([0.0, 1.05])\n",
    "plt.ylim([0.0, 1.0])\n",
    "plt.xlabel('Signal efficiency')\n",
    "plt.ylabel('Background rejection')\n",
    "plt.title('ROC - DNN')\n",
    "plt.legend(loc=\"lower right\")\n",
    "plt.show()"
   ]
  },
  {
   "cell_type": "code",
   "execution_count": 15,
   "metadata": {},
   "outputs": [
    {
     "name": "stdout",
     "output_type": "stream",
     "text": [
      "best Z_A for 900 GeV mLQ =  32.51754977136373  at signal eff =  0.89700646557  and bkg rejection =  0.979778750904\n",
      "(number of bkg =  21.6251093141  ; number of sig =  285.224733883 )\n",
      "best Z_A for 1100 GeV mLQ =  12.448088703568159  at signal eff =  0.95385609341  and bkg rejection =  0.979778750904\n",
      "(number of bkg =  21.6251093141  ; number of sig =  80.1415581842 )\n",
      "best Z_A for 1300 GeV mLQ =  4.371250612696572  at signal eff =  0.975169857233  and bkg rejection =  0.979778750904\n",
      "(number of bkg =  21.6251093141  ; number of sig =  23.3099726824 )\n",
      "best Z_A for 1500 GeV mLQ =  1.439224082411566  at signal eff =  0.979412484142  and bkg rejection =  0.979778750904\n",
      "(number of bkg =  21.6251093141  ; number of sig =  7.02978207555 )\n",
      "best Z_A for 1700 GeV mLQ =  0.4677366155867896  at signal eff =  0.984923612676  and bkg rejection =  0.979778750904\n",
      "(number of bkg =  21.6251093141  ; number of sig =  2.21127170129 )\n",
      "best Z_A for 1900 GeV mLQ =  0.15059487818984135  at signal eff =  0.986530759741  and bkg rejection =  0.979778750904\n",
      "(number of bkg =  21.6251093141  ; number of sig =  0.704078124451 )\n"
     ]
    }
   ],
   "source": [
    "init_numEvt_bkg=734.815+334.61\n",
    "init_numEvt_mLQ900=317.974\n",
    "init_numEvt_mLQ1100=84.0185\n",
    "init_numEvt_mLQ1300=23.9035\n",
    "init_numEvt_mLQ1500=7.17755\n",
    "init_numEvt_mLQ1700=2.24512\n",
    "init_numEvt_mLQ1900=0.713691\n",
    "\n",
    "maxZ=0\n",
    "Z=0\n",
    "maxtpr=0\n",
    "maxfpr=1\n",
    "maxnumEvt_bkg=1000\n",
    "maxnumEvt_sig=0\n",
    "for tpr,fpr in zip(reversed(tpr_mLQ900),reversed(fpr_mLQ900)):\n",
    "    numEvt_sig=init_numEvt_mLQ900*tpr\n",
    "    if fpr<1:\n",
    "        numEvt_bkg=init_numEvt_bkg*(1.-fpr)\n",
    "        Z=math.sqrt(2*((numEvt_sig+numEvt_bkg)*math.log(1.0+numEvt_sig/numEvt_bkg)-numEvt_sig))\n",
    "    if Z>maxZ:\n",
    "        maxZ=Z\n",
    "        maxtpr=tpr\n",
    "        maxfpr=fpr\n",
    "        maxnumEvt_bkg=numEvt_bkg\n",
    "        maxnumEvt_sig=numEvt_sig\n",
    "print(\"best Z_A for 900 GeV mLQ = \",maxZ, \" at signal eff = \",maxtpr, \" and bkg rejection = \",maxfpr)\n",
    "print(\"(number of bkg = \",maxnumEvt_bkg, \" ; number of sig = \",maxnumEvt_sig,\")\")\n",
    "\n",
    "maxZ=0\n",
    "Z=0\n",
    "maxtpr=0\n",
    "maxfpr=1\n",
    "maxnumEvt_bkg=1000\n",
    "maxnumEvt_sig=0\n",
    "for tpr,fpr in zip(reversed(tpr_mLQ1100),reversed(fpr_mLQ1100)):\n",
    "    numEvt_sig=init_numEvt_mLQ1100*tpr\n",
    "    if fpr<1:\n",
    "        numEvt_bkg=init_numEvt_bkg*(1.-fpr)\n",
    "        Z=math.sqrt(2*((numEvt_sig+numEvt_bkg)*math.log(1.0+numEvt_sig/numEvt_bkg)-numEvt_sig))\n",
    "    if Z>maxZ:\n",
    "        maxZ=Z\n",
    "        maxtpr=tpr\n",
    "        maxfpr=fpr\n",
    "        maxnumEvt_bkg=numEvt_bkg\n",
    "        maxnumEvt_sig=numEvt_sig\n",
    "print(\"best Z_A for 1100 GeV mLQ = \",maxZ, \" at signal eff = \",maxtpr, \" and bkg rejection = \",maxfpr)\n",
    "print(\"(number of bkg = \",maxnumEvt_bkg, \" ; number of sig = \",maxnumEvt_sig,\")\")\n",
    "\n",
    "maxZ=0\n",
    "Z=0\n",
    "maxtpr=0\n",
    "maxfpr=1\n",
    "maxnumEvt_bkg=1000\n",
    "maxnumEvt_sig=0\n",
    "for tpr,fpr in zip(reversed(tpr_mLQ1300),reversed(fpr_mLQ1300)):\n",
    "    numEvt_sig=init_numEvt_mLQ1300*tpr\n",
    "    if fpr<1:\n",
    "        numEvt_bkg=init_numEvt_bkg*(1.-fpr)\n",
    "        Z=math.sqrt(2*((numEvt_sig+numEvt_bkg)*math.log(1.0+numEvt_sig/numEvt_bkg)-numEvt_sig))\n",
    "    if Z>maxZ:\n",
    "        maxZ=Z\n",
    "        maxtpr=tpr\n",
    "        maxfpr=fpr\n",
    "        maxnumEvt_bkg=numEvt_bkg\n",
    "        maxnumEvt_sig=numEvt_sig\n",
    "print(\"best Z_A for 1300 GeV mLQ = \",maxZ, \" at signal eff = \",maxtpr, \" and bkg rejection = \",maxfpr)\n",
    "print(\"(number of bkg = \",maxnumEvt_bkg, \" ; number of sig = \",maxnumEvt_sig,\")\")\n",
    "\n",
    "maxZ=0\n",
    "Z=0\n",
    "maxtpr=0\n",
    "maxfpr=1\n",
    "maxnumEvt_bkg=1000\n",
    "maxnumEvt_sig=0\n",
    "for tpr,fpr in zip(reversed(tpr_mLQ1500),reversed(fpr_mLQ1500)):\n",
    "    numEvt_sig=init_numEvt_mLQ1500*tpr\n",
    "    if fpr<1:\n",
    "        numEvt_bkg=init_numEvt_bkg*(1.-fpr)\n",
    "        Z=math.sqrt(2*((numEvt_sig+numEvt_bkg)*math.log(1.0+numEvt_sig/numEvt_bkg)-numEvt_sig))\n",
    "    if Z>maxZ:\n",
    "        maxZ=Z\n",
    "        maxtpr=tpr\n",
    "        maxfpr=fpr\n",
    "        maxnumEvt_bkg=numEvt_bkg\n",
    "        maxnumEvt_sig=numEvt_sig\n",
    "print(\"best Z_A for 1500 GeV mLQ = \",maxZ, \" at signal eff = \",maxtpr, \" and bkg rejection = \",maxfpr)\n",
    "print(\"(number of bkg = \",maxnumEvt_bkg, \" ; number of sig = \",maxnumEvt_sig,\")\")\n",
    "\n",
    "maxZ=0\n",
    "Z=0\n",
    "maxtpr=0\n",
    "maxfpr=1\n",
    "maxnumEvt_bkg=1000\n",
    "maxnumEvt_sig=0\n",
    "for tpr,fpr in zip(reversed(tpr_mLQ1700),reversed(fpr_mLQ1700)):\n",
    "    numEvt_sig=init_numEvt_mLQ1700*tpr\n",
    "    if fpr<1:\n",
    "        numEvt_bkg=init_numEvt_bkg*(1.-fpr)\n",
    "        Z=math.sqrt(2*((numEvt_sig+numEvt_bkg)*math.log(1.0+numEvt_sig/numEvt_bkg)-numEvt_sig))\n",
    "    if Z>maxZ:\n",
    "        maxZ=Z\n",
    "        maxtpr=tpr\n",
    "        maxfpr=fpr\n",
    "        maxnumEvt_bkg=numEvt_bkg\n",
    "        maxnumEvt_sig=numEvt_sig\n",
    "print(\"best Z_A for 1700 GeV mLQ = \",maxZ, \" at signal eff = \",maxtpr, \" and bkg rejection = \",maxfpr)\n",
    "print(\"(number of bkg = \",maxnumEvt_bkg, \" ; number of sig = \",maxnumEvt_sig,\")\")\n",
    "\n",
    "maxZ=0\n",
    "Z=0\n",
    "maxtpr=0\n",
    "maxfpr=1\n",
    "maxnumEvt_bkg=1000\n",
    "maxnumEvt_sig=0\n",
    "for tpr,fpr in zip(reversed(tpr_mLQ1900),reversed(fpr_mLQ1900)):\n",
    "    if fpr<1:\n",
    "        numEvt_sig=init_numEvt_mLQ1900*tpr\n",
    "        numEvt_bkg=init_numEvt_bkg*(1.-fpr)\n",
    "        Z=math.sqrt(2*((numEvt_sig+numEvt_bkg)*math.log(1.0+numEvt_sig/numEvt_bkg)-numEvt_sig))\n",
    "    if Z>maxZ:\n",
    "        maxZ=Z\n",
    "        maxtpr=tpr\n",
    "        maxfpr=fpr\n",
    "        maxnumEvt_bkg=numEvt_bkg\n",
    "        maxnumEvt_sig=numEvt_sig\n",
    "print(\"best Z_A for 1900 GeV mLQ = \",maxZ, \" at signal eff = \",maxtpr, \" and bkg rejection = \",maxfpr)\n",
    "print(\"(number of bkg = \",maxnumEvt_bkg, \" ; number of sig = \",maxnumEvt_sig,\")\")\n"
   ]
  },
  {
   "cell_type": "markdown",
   "metadata": {},
   "source": [
    "# LOADING A PYTORCH MODEL IN C++\n",
    "## Step 1: Converting Your PyTorch Model to Torch Script (via Tracing here)\n",
    "An instance of the model must be passed along with an example input to the torch.jit.trace function. This will produce a torch.jit.ScriptModule object with the trace of the model evaluation embedded in the module’s forward method."
   ]
  },
  {
   "cell_type": "code",
   "execution_count": 16,
   "metadata": {
    "collapsed": true
   },
   "outputs": [],
   "source": [
    "example = torch.rand(1, 14)\n",
    "traced_script_module = torch.jit.trace(model, example)"
   ]
  },
  {
   "cell_type": "code",
   "execution_count": 17,
   "metadata": {},
   "outputs": [
    {
     "data": {
      "text/plain": [
       "tensor([[1.0000e+00, 7.5254e-17, 1.4951e-13]], grad_fn=<SoftmaxBackward>)"
      ]
     },
     "execution_count": 17,
     "metadata": {},
     "output_type": "execute_result"
    }
   ],
   "source": [
    "output = traced_script_module(torch.ones(1, 14))\n",
    "output"
   ]
  },
  {
   "cell_type": "markdown",
   "metadata": {},
   "source": [
    "## Step 2: Serializing Your Script Module to a File\n",
    "This will produce a model.pt file in your working directory. We have now officially left the realm of Python and are ready to cross over to the sphere of C++."
   ]
  },
  {
   "cell_type": "code",
   "execution_count": 18,
   "metadata": {
    "collapsed": true
   },
   "outputs": [],
   "source": [
    "traced_script_module.save(\"model.pt\")"
   ]
  },
  {
   "cell_type": "markdown",
   "metadata": {},
   "source": [
    "## Step 3: Loading and executing Your Script Module in C++\n",
    "Now follow step 3-4 in https://pytorch.org/tutorials/advanced/cpp_export.html to setup up LibTorch and execute the script module in C++. Check the output from the execution and compare with the reference we computed above with an input array of ones."
   ]
  },
  {
   "cell_type": "code",
   "execution_count": null,
   "metadata": {
    "collapsed": true
   },
   "outputs": [],
   "source": []
  }
 ],
 "metadata": {
  "kernelspec": {
   "display_name": "Python 3",
   "language": "python",
   "name": "python3"
  },
  "language_info": {
   "codemirror_mode": {
    "name": "ipython",
    "version": 3
   },
   "file_extension": ".py",
   "mimetype": "text/x-python",
   "name": "python",
   "nbconvert_exporter": "python",
   "pygments_lexer": "ipython3",
   "version": "3.6.7"
  }
 },
 "nbformat": 4,
 "nbformat_minor": 2
}
