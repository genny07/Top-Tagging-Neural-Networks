{
 "cells": [
  {
   "cell_type": "markdown",
   "metadata": {},
   "source": [
    "# Pytorch Long-Short Term Memory (LSTM) Neural Network Practice Example\n",
    "\n",
    "## Started May 28, 2019\n",
    "### Genevieve Hayes"
   ]
  },
  {
   "cell_type": "code",
   "execution_count": 4,
   "metadata": {},
   "outputs": [],
   "source": [
    "import pandas as pd\n",
    "import numpy as np\n",
    "import torch\n",
    "import torch.nn as nn\n",
    "import torchvision\n",
    "import torchvision.transforms as transforms\n",
    "import torch.nn.functional as F\n",
    "import seaborn as sb\n",
    "import matplotlib.pylab as plt\n",
    "#import matplotlib as mpl\n",
    "import h5py\n",
    "import tables\n",
    "import math\n",
    "import time\n",
    "import sklearn.metrics as sklm"
   ]
  },
  {
   "cell_type": "markdown",
   "metadata": {},
   "source": [
    "# Try Generating Data to explore LSTM inputs"
   ]
  },
  {
   "cell_type": "code",
   "execution_count": 104,
   "metadata": {},
   "outputs": [],
   "source": [
    "from sklearn.model_selection import train_test_split\n",
    "\n",
    "class TimeSeriesData:\n",
    "    def __init__(self, num_datapoints, test_size=0.2, max_t=20, num_prev=1,\n",
    "                 noise_var=1):\n",
    "        \"\"\"\n",
    "        Template class for generating time series data.\n",
    "        :param test_size: in (0,1), data to be used in test set as a fraction of all data generated.\n",
    "        \"\"\"\n",
    "        self.num_datapoints = num_datapoints\n",
    "        self.test_size = test_size\n",
    "        self.num_prev = num_prev\n",
    "        self.max_t = max_t\n",
    "        self.data = None\n",
    "        self.noise_var = noise_var\n",
    "        self.y = np.zeros(num_datapoints + num_prev*4) # TODO: check this\n",
    "        self.bayes_preds = np.copy(self.y)\n",
    "\n",
    "        # Generate data and reshape data\n",
    "        self.create_data()\n",
    "\n",
    "        # Split into training and test sets\n",
    "        self.train_test_split()\n",
    "\n",
    "    def create_data(self):\n",
    "        self.generate_data()\n",
    "        self.reshape_data()\n",
    "\n",
    "    def generate_data(self):\n",
    "        \"\"\"Generates data in self.y, may take as implicit input timesteps self.t.\n",
    "        May also generate Bayes predictions.\"\"\"\n",
    "        raise NotImplementedError(\"Generate data method not implemented.\")\n",
    "\n",
    "    def reshape_data(self):\n",
    "        self.x = np.reshape([self.y[i:i + self.num_prev] for i in range(\n",
    "            self.num_datapoints)], (-1, self.num_prev))\n",
    "        self.y = np.copy(self.y[self.num_prev:])\n",
    "        self.bayes_preds = np.copy(self.bayes_preds[self.num_prev:])\n",
    "\n",
    "    def train_test_split(self):\n",
    "        test_size = int(len(self.y) * self.test_size)\n",
    "        self.data = [self.X_train, self.X_test, self.y_train,\n",
    "                     self.y_test] = \\\n",
    "                    self.x[:-test_size], self.x[-test_size:], \\\n",
    "                    self.y[:-test_size], self.y[-test_size:]\n",
    "        self.bayes_preds = [self.bayes_train_preds, self.bayes_test_preds] = self.bayes_preds[:-test_size], self.bayes_preds[-test_size:]\n",
    "\n",
    "    def return_data(self):\n",
    "        return self.data\n",
    "\n",
    "    def return_train_test(self):\n",
    "        return self.X_train, self.y_train, self.X_test, self.y_test\n",
    "\n",
    "class ARData(TimeSeriesData):\n",
    "    \"\"\"Class to generate autoregressive data.\"\"\"\n",
    "\n",
    "    def __init__(self, *args, coeffs=None, **kwargs):\n",
    "        self.given_coeffs = coeffs\n",
    "        super(ARData, self).__init__(*args, **kwargs)\n",
    "\n",
    "        if coeffs is not None:\n",
    "            self.num_prev = len(coeffs) - 1\n",
    "\n",
    "    def generate_data(self):\n",
    "        self.generate_coefficients()\n",
    "        self.generate_initial_points()\n",
    "\n",
    "        # + 3*self.num_prev because we want to cut first (3*self.num_prev) datapoints later\n",
    "        # so dist is more stationary (else initial num_prev datapoints will stand out as diff dist)\n",
    "        for i in range(self.num_datapoints+3*self.num_prev):\n",
    "            # Generate y value if there was no noise\n",
    "            # (equivalent to Bayes predictions: predictions from oracle that knows true parameters (coefficients))\n",
    "            self.bayes_preds[i + self.num_prev] = np.dot(self.y[i:self.num_prev+i][::-1], self.coeffs)\n",
    "            # Add noise\n",
    "            self.y[i + self.num_prev] = self.bayes_preds[i + self.num_prev] + self.noise()\n",
    "\n",
    "        # Cut first 20 points so dist is roughly stationary\n",
    "        self.bayes_preds = self.bayes_preds[3*self.num_prev:]\n",
    "        self.y = self.y[3*self.num_prev:]\n",
    "\n",
    "    def generate_coefficients(self):\n",
    "        if self.given_coeffs is not None:\n",
    "            self.coeffs = self.given_coeffs\n",
    "        else:\n",
    "            filter_stable = False\n",
    "            # Keep generating coefficients until we come across a set of coefficients\n",
    "            # that correspond to stable poles\n",
    "            while not filter_stable:\n",
    "                true_theta = np.random.random(self.num_prev) - 0.5\n",
    "                coefficients = np.append(1, -true_theta)\n",
    "                # check if magnitude of all poles is less than one\n",
    "                if np.max(np.abs(np.roots(coefficients))) < 1:\n",
    "                    filter_stable = True\n",
    "            self.coeffs = true_theta\n",
    "\n",
    "    def generate_initial_points(self):\n",
    "        # Initial datapoints distributed as N(0,1)\n",
    "        self.y[:self.num_prev] = np.random.randn(self.num_prev)\n",
    "\n",
    "    def noise(self):\n",
    "        # Noise distributed as N(0, self.noise_var)\n",
    "        return self.noise_var * np.random.randn()\n"
   ]
  },
  {
   "cell_type": "code",
   "execution_count": 120,
   "metadata": {},
   "outputs": [],
   "source": [
    "#####################\n",
    "# Set parameters\n",
    "#####################\n",
    "\n",
    "\n",
    "BATCH_SIZE = 20\n",
    "\n",
    "# Data params\n",
    "noise_var = 0\n",
    "num_datapoints = 100\n",
    "test_size = 0.2\n",
    "\n",
    "\n",
    "num_train = int((1-test_size)*num_datapoints)\n",
    "\n",
    "# Network params\n",
    "input_size = 8\n",
    "# If `per_element` is True, then LSTM reads in one timestep at a time.\n",
    "per_element = True\n",
    "if per_element:\n",
    "    lstm_input_size = 1\n",
    "else:\n",
    "    lstm_input_size = input_size\n",
    "# size of hidden layers\n",
    "h1 = 32\n",
    "output_dim = 1\n",
    "num_layers = 2\n",
    "learning_rate = 1e-3\n",
    "num_epochs = 500\n",
    "dtype = torch.float\n",
    "\n",
    "#####################\n",
    "# Generate data\n",
    "#####################\n",
    "data = ARData(num_datapoints, num_prev=input_size, test_size=test_size, noise_var=noise_var)\n",
    "\n",
    "# make training and test sets in torch\n",
    "X_train = torch.from_numpy(data.X_train).type(torch.Tensor)\n",
    "X_test = torch.from_numpy(data.X_test).type(torch.Tensor)\n",
    "y_train = torch.from_numpy(data.y_train).type(torch.Tensor).view(-1)\n",
    "y_test = torch.from_numpy(data.y_test).type(torch.Tensor).view(-1)\n",
    "\n",
    "X_train = X_train.view([input_size, -1, 1])\n",
    "X_test = X_test.view([input_size, -1, 1])"
   ]
  },
  {
   "cell_type": "markdown",
   "metadata": {},
   "source": [
    "# Build Network Structure"
   ]
  },
  {
   "cell_type": "code",
   "execution_count": 121,
   "metadata": {},
   "outputs": [],
   "source": [
    "#####################\n",
    "# Build model\n",
    "#####################\n",
    "\n",
    "# Here we define our model as a class\n",
    "class LSTM(nn.Module):\n",
    "\n",
    "    def __init__(self, input_dim, hidden_dim, batch_size, output_dim=1,\n",
    "                    num_layers=2):\n",
    "        super(LSTM, self).__init__()\n",
    "        self.input_dim = input_dim\n",
    "        self.hidden_dim = hidden_dim\n",
    "        self.batch_size = batch_size\n",
    "        self.num_layers = num_layers\n",
    "\n",
    "        # Define the LSTM layer\n",
    "        self.lstm = nn.LSTM(self.input_dim, self.hidden_dim, self.num_layers, batch_first=True)\n",
    "\n",
    "        # Define the output layer\n",
    "        self.linear = nn.Linear(self.hidden_dim, output_dim)\n",
    "\n",
    "    def init_hidden(self):\n",
    "        # This is what we'll initialise our hidden state as\n",
    "        return (torch.zeros(self.num_layers, self.batch_size, self.hidden_dim),\n",
    "                torch.zeros(self.num_layers, self.batch_size, self.hidden_dim))\n",
    "\n",
    "    def forward(self, input):\n",
    "        # Forward pass through LSTM layer\n",
    "        # shape of lstm_out: [input_size, batch_size, hidden_dim]\n",
    "        # shape of self.hidden: (a, b), where a and b both \n",
    "        # have shape (num_layers, batch_size, hidden_dim).\n",
    "        \n",
    "        lstm_out, self.hidden = self.lstm(input.view(len(input), self.batch_size, -1))\n",
    "        #lstm_out, self.hidden = self.lstm(input.view(input.size(), self.batch_size, -1))  \n",
    "        \n",
    "        # Only take the output from the final timetep\n",
    "        # Can pass on the entirety of lstm_out to the next layer if it is a seq2seq prediction\n",
    "        y_pred = self.linear(lstm_out[-1].view(self.batch_size, -1))\n",
    "        return y_pred.view(-1)\n",
    "\n",
    "model = LSTM(lstm_input_size, h1, batch_size=BATCH_SIZE, output_dim=output_dim, num_layers=num_layers)"
   ]
  },
  {
   "cell_type": "markdown",
   "metadata": {},
   "source": [
    "# Define Loss function and Optimizer"
   ]
  },
  {
   "cell_type": "code",
   "execution_count": 122,
   "metadata": {},
   "outputs": [],
   "source": [
    "loss_fn = torch.nn.MSELoss(reduction='sum')\n",
    "optimiser = torch.optim.Adam(model.parameters(), lr=learning_rate)"
   ]
  },
  {
   "cell_type": "code",
   "execution_count": 123,
   "metadata": {},
   "outputs": [
    {
     "name": "stdout",
     "output_type": "stream",
     "text": [
      "torch.Size([8, 80, 1])\n",
      "torch.Size([80])\n",
      "torch.Size([80])\n",
      "80\n",
      "torch.Size([80, 1])\n",
      "8\n"
     ]
    }
   ],
   "source": [
    "print(X_train.size())\n",
    "print(y_train.size())\n",
    "print(y_pred.size())\n",
    "\n",
    "print(num_train)\n",
    "print(X_train[1,:].size())\n",
    "print(len(X_train))\n",
    "\n",
    "# def batch(iterable, n=1):\n",
    "#     l = len(iterable)\n",
    "#     for ndx in range(0,l,n):\n",
    "#         yield iterable[ndx:min(ndx + n, l)]\n",
    "        \n",
    "# for x in batch(X_train, num_train):\n",
    "#     print(len(x))\n",
    "    \n",
    "# X_train == x"
   ]
  },
  {
   "cell_type": "markdown",
   "metadata": {},
   "source": [
    "# Train model"
   ]
  },
  {
   "cell_type": "code",
   "execution_count": 124,
   "metadata": {},
   "outputs": [
    {
     "ename": "RuntimeError",
     "evalue": "input.size(-1) must be equal to input_size. Expected 1, got 4",
     "output_type": "error",
     "traceback": [
      "\u001b[0;31m---------------------------------------------------------------------------\u001b[0m",
      "\u001b[0;31mRuntimeError\u001b[0m                              Traceback (most recent call last)",
      "\u001b[0;32m<ipython-input-124-c3be2cd1ec52>\u001b[0m in \u001b[0;36m<module>\u001b[0;34m\u001b[0m\n\u001b[1;32m     11\u001b[0m \u001b[0;34m\u001b[0m\u001b[0m\n\u001b[1;32m     12\u001b[0m     \u001b[0;31m# Forward pass\u001b[0m\u001b[0;34m\u001b[0m\u001b[0;34m\u001b[0m\u001b[0;34m\u001b[0m\u001b[0m\n\u001b[0;32m---> 13\u001b[0;31m     \u001b[0my_pred\u001b[0m \u001b[0;34m=\u001b[0m \u001b[0mmodel\u001b[0m\u001b[0;34m(\u001b[0m\u001b[0mX_train\u001b[0m\u001b[0;34m)\u001b[0m\u001b[0;34m\u001b[0m\u001b[0;34m\u001b[0m\u001b[0m\n\u001b[0m\u001b[1;32m     14\u001b[0m \u001b[0;34m\u001b[0m\u001b[0m\n\u001b[1;32m     15\u001b[0m     \u001b[0mloss\u001b[0m \u001b[0;34m=\u001b[0m \u001b[0mloss_fn\u001b[0m\u001b[0;34m(\u001b[0m\u001b[0my_pred\u001b[0m\u001b[0;34m,\u001b[0m \u001b[0my_train\u001b[0m\u001b[0;34m)\u001b[0m\u001b[0;34m\u001b[0m\u001b[0;34m\u001b[0m\u001b[0m\n",
      "\u001b[0;32m/usr/local/lib/python3.6/dist-packages/torch/nn/modules/module.py\u001b[0m in \u001b[0;36m__call__\u001b[0;34m(self, *input, **kwargs)\u001b[0m\n\u001b[1;32m    487\u001b[0m             \u001b[0mresult\u001b[0m \u001b[0;34m=\u001b[0m \u001b[0mself\u001b[0m\u001b[0;34m.\u001b[0m\u001b[0m_slow_forward\u001b[0m\u001b[0;34m(\u001b[0m\u001b[0;34m*\u001b[0m\u001b[0minput\u001b[0m\u001b[0;34m,\u001b[0m \u001b[0;34m**\u001b[0m\u001b[0mkwargs\u001b[0m\u001b[0;34m)\u001b[0m\u001b[0;34m\u001b[0m\u001b[0;34m\u001b[0m\u001b[0m\n\u001b[1;32m    488\u001b[0m         \u001b[0;32melse\u001b[0m\u001b[0;34m:\u001b[0m\u001b[0;34m\u001b[0m\u001b[0;34m\u001b[0m\u001b[0m\n\u001b[0;32m--> 489\u001b[0;31m             \u001b[0mresult\u001b[0m \u001b[0;34m=\u001b[0m \u001b[0mself\u001b[0m\u001b[0;34m.\u001b[0m\u001b[0mforward\u001b[0m\u001b[0;34m(\u001b[0m\u001b[0;34m*\u001b[0m\u001b[0minput\u001b[0m\u001b[0;34m,\u001b[0m \u001b[0;34m**\u001b[0m\u001b[0mkwargs\u001b[0m\u001b[0;34m)\u001b[0m\u001b[0;34m\u001b[0m\u001b[0;34m\u001b[0m\u001b[0m\n\u001b[0m\u001b[1;32m    490\u001b[0m         \u001b[0;32mfor\u001b[0m \u001b[0mhook\u001b[0m \u001b[0;32min\u001b[0m \u001b[0mself\u001b[0m\u001b[0;34m.\u001b[0m\u001b[0m_forward_hooks\u001b[0m\u001b[0;34m.\u001b[0m\u001b[0mvalues\u001b[0m\u001b[0;34m(\u001b[0m\u001b[0;34m)\u001b[0m\u001b[0;34m:\u001b[0m\u001b[0;34m\u001b[0m\u001b[0;34m\u001b[0m\u001b[0m\n\u001b[1;32m    491\u001b[0m             \u001b[0mhook_result\u001b[0m \u001b[0;34m=\u001b[0m \u001b[0mhook\u001b[0m\u001b[0;34m(\u001b[0m\u001b[0mself\u001b[0m\u001b[0;34m,\u001b[0m \u001b[0minput\u001b[0m\u001b[0;34m,\u001b[0m \u001b[0mresult\u001b[0m\u001b[0;34m)\u001b[0m\u001b[0;34m\u001b[0m\u001b[0;34m\u001b[0m\u001b[0m\n",
      "\u001b[0;32m<ipython-input-121-4810a283f95c>\u001b[0m in \u001b[0;36mforward\u001b[0;34m(self, input)\u001b[0m\n\u001b[1;32m     31\u001b[0m         \u001b[0;31m# have shape (num_layers, batch_size, hidden_dim).\u001b[0m\u001b[0;34m\u001b[0m\u001b[0;34m\u001b[0m\u001b[0;34m\u001b[0m\u001b[0m\n\u001b[1;32m     32\u001b[0m \u001b[0;34m\u001b[0m\u001b[0m\n\u001b[0;32m---> 33\u001b[0;31m         \u001b[0mlstm_out\u001b[0m\u001b[0;34m,\u001b[0m \u001b[0mself\u001b[0m\u001b[0;34m.\u001b[0m\u001b[0mhidden\u001b[0m \u001b[0;34m=\u001b[0m \u001b[0mself\u001b[0m\u001b[0;34m.\u001b[0m\u001b[0mlstm\u001b[0m\u001b[0;34m(\u001b[0m\u001b[0minput\u001b[0m\u001b[0;34m.\u001b[0m\u001b[0mview\u001b[0m\u001b[0;34m(\u001b[0m\u001b[0mlen\u001b[0m\u001b[0;34m(\u001b[0m\u001b[0minput\u001b[0m\u001b[0;34m)\u001b[0m\u001b[0;34m,\u001b[0m \u001b[0mself\u001b[0m\u001b[0;34m.\u001b[0m\u001b[0mbatch_size\u001b[0m\u001b[0;34m,\u001b[0m \u001b[0;34m-\u001b[0m\u001b[0;36m1\u001b[0m\u001b[0;34m)\u001b[0m\u001b[0;34m)\u001b[0m\u001b[0;34m\u001b[0m\u001b[0;34m\u001b[0m\u001b[0m\n\u001b[0m\u001b[1;32m     34\u001b[0m         \u001b[0;31m#lstm_out, self.hidden = self.lstm(input.view(input.size(), self.batch_size, -1))\u001b[0m\u001b[0;34m\u001b[0m\u001b[0;34m\u001b[0m\u001b[0;34m\u001b[0m\u001b[0m\n\u001b[1;32m     35\u001b[0m \u001b[0;34m\u001b[0m\u001b[0m\n",
      "\u001b[0;32m/usr/local/lib/python3.6/dist-packages/torch/nn/modules/module.py\u001b[0m in \u001b[0;36m__call__\u001b[0;34m(self, *input, **kwargs)\u001b[0m\n\u001b[1;32m    487\u001b[0m             \u001b[0mresult\u001b[0m \u001b[0;34m=\u001b[0m \u001b[0mself\u001b[0m\u001b[0;34m.\u001b[0m\u001b[0m_slow_forward\u001b[0m\u001b[0;34m(\u001b[0m\u001b[0;34m*\u001b[0m\u001b[0minput\u001b[0m\u001b[0;34m,\u001b[0m \u001b[0;34m**\u001b[0m\u001b[0mkwargs\u001b[0m\u001b[0;34m)\u001b[0m\u001b[0;34m\u001b[0m\u001b[0;34m\u001b[0m\u001b[0m\n\u001b[1;32m    488\u001b[0m         \u001b[0;32melse\u001b[0m\u001b[0;34m:\u001b[0m\u001b[0;34m\u001b[0m\u001b[0;34m\u001b[0m\u001b[0m\n\u001b[0;32m--> 489\u001b[0;31m             \u001b[0mresult\u001b[0m \u001b[0;34m=\u001b[0m \u001b[0mself\u001b[0m\u001b[0;34m.\u001b[0m\u001b[0mforward\u001b[0m\u001b[0;34m(\u001b[0m\u001b[0;34m*\u001b[0m\u001b[0minput\u001b[0m\u001b[0;34m,\u001b[0m \u001b[0;34m**\u001b[0m\u001b[0mkwargs\u001b[0m\u001b[0;34m)\u001b[0m\u001b[0;34m\u001b[0m\u001b[0;34m\u001b[0m\u001b[0m\n\u001b[0m\u001b[1;32m    490\u001b[0m         \u001b[0;32mfor\u001b[0m \u001b[0mhook\u001b[0m \u001b[0;32min\u001b[0m \u001b[0mself\u001b[0m\u001b[0;34m.\u001b[0m\u001b[0m_forward_hooks\u001b[0m\u001b[0;34m.\u001b[0m\u001b[0mvalues\u001b[0m\u001b[0;34m(\u001b[0m\u001b[0;34m)\u001b[0m\u001b[0;34m:\u001b[0m\u001b[0;34m\u001b[0m\u001b[0;34m\u001b[0m\u001b[0m\n\u001b[1;32m    491\u001b[0m             \u001b[0mhook_result\u001b[0m \u001b[0;34m=\u001b[0m \u001b[0mhook\u001b[0m\u001b[0;34m(\u001b[0m\u001b[0mself\u001b[0m\u001b[0;34m,\u001b[0m \u001b[0minput\u001b[0m\u001b[0;34m,\u001b[0m \u001b[0mresult\u001b[0m\u001b[0;34m)\u001b[0m\u001b[0;34m\u001b[0m\u001b[0;34m\u001b[0m\u001b[0m\n",
      "\u001b[0;32m/usr/local/lib/python3.6/dist-packages/torch/nn/modules/rnn.py\u001b[0m in \u001b[0;36mforward\u001b[0;34m(self, input, hx)\u001b[0m\n\u001b[1;32m    173\u001b[0m                 \u001b[0mhx\u001b[0m \u001b[0;34m=\u001b[0m \u001b[0;34m(\u001b[0m\u001b[0mhx\u001b[0m\u001b[0;34m,\u001b[0m \u001b[0mhx\u001b[0m\u001b[0;34m)\u001b[0m\u001b[0;34m\u001b[0m\u001b[0;34m\u001b[0m\u001b[0m\n\u001b[1;32m    174\u001b[0m \u001b[0;34m\u001b[0m\u001b[0m\n\u001b[0;32m--> 175\u001b[0;31m         \u001b[0mself\u001b[0m\u001b[0;34m.\u001b[0m\u001b[0mcheck_forward_args\u001b[0m\u001b[0;34m(\u001b[0m\u001b[0minput\u001b[0m\u001b[0;34m,\u001b[0m \u001b[0mhx\u001b[0m\u001b[0;34m,\u001b[0m \u001b[0mbatch_sizes\u001b[0m\u001b[0;34m)\u001b[0m\u001b[0;34m\u001b[0m\u001b[0;34m\u001b[0m\u001b[0m\n\u001b[0m\u001b[1;32m    176\u001b[0m         \u001b[0m_impl\u001b[0m \u001b[0;34m=\u001b[0m \u001b[0m_rnn_impls\u001b[0m\u001b[0;34m[\u001b[0m\u001b[0mself\u001b[0m\u001b[0;34m.\u001b[0m\u001b[0mmode\u001b[0m\u001b[0;34m]\u001b[0m\u001b[0;34m\u001b[0m\u001b[0;34m\u001b[0m\u001b[0m\n\u001b[1;32m    177\u001b[0m         \u001b[0;32mif\u001b[0m \u001b[0mbatch_sizes\u001b[0m \u001b[0;32mis\u001b[0m \u001b[0;32mNone\u001b[0m\u001b[0;34m:\u001b[0m\u001b[0;34m\u001b[0m\u001b[0;34m\u001b[0m\u001b[0m\n",
      "\u001b[0;32m/usr/local/lib/python3.6/dist-packages/torch/nn/modules/rnn.py\u001b[0m in \u001b[0;36mcheck_forward_args\u001b[0;34m(self, input, hidden, batch_sizes)\u001b[0m\n\u001b[1;32m    133\u001b[0m             raise RuntimeError(\n\u001b[1;32m    134\u001b[0m                 'input.size(-1) must be equal to input_size. Expected {}, got {}'.format(\n\u001b[0;32m--> 135\u001b[0;31m                     self.input_size, input.size(-1)))\n\u001b[0m\u001b[1;32m    136\u001b[0m \u001b[0;34m\u001b[0m\u001b[0m\n\u001b[1;32m    137\u001b[0m         \u001b[0;32mif\u001b[0m \u001b[0mis_input_packed\u001b[0m\u001b[0;34m:\u001b[0m\u001b[0;34m\u001b[0m\u001b[0;34m\u001b[0m\u001b[0m\n",
      "\u001b[0;31mRuntimeError\u001b[0m: input.size(-1) must be equal to input_size. Expected 1, got 4"
     ]
    }
   ],
   "source": [
    "#####################\n",
    "# Train model\n",
    "#####################\n",
    "\n",
    "hist = np.zeros(num_epochs)\n",
    "\n",
    "for t in range(num_epochs):\n",
    "    # Initialise hidden state\n",
    "    # Don't do this if you want your LSTM to be stateful\n",
    "    model.hidden = model.init_hidden()\n",
    "    \n",
    "    # Forward pass\n",
    "    y_pred = model(X_train)\n",
    "\n",
    "    loss = loss_fn(y_pred, y_train)\n",
    "    if t % 100 == 0:\n",
    "        print(\"Epoch \", t, \"MSE: \", loss.item())\n",
    "    hist[t] = loss.item()\n",
    "\n",
    "    # Zero out gradient, else they will accumulate between epochs\n",
    "    optimiser.zero_grad()\n",
    "\n",
    "    # Backward pass\n",
    "    loss.backward()\n",
    "\n",
    "    # Update parameters\n",
    "    optimiser.step()"
   ]
  },
  {
   "cell_type": "markdown",
   "metadata": {},
   "source": [
    "# Evaluate Performance"
   ]
  },
  {
   "cell_type": "code",
   "execution_count": 119,
   "metadata": {},
   "outputs": [
    {
     "data": {
      "image/png": "[encoded data removed]",
      "text/plain": [
       "<Figure size 432x288 with 1 Axes>"
      ]
     },
     "metadata": {
      "needs_background": "light"
     },
     "output_type": "display_data"
    },
    {
     "data": {
      "image/png": "[encoded data removed]",
      "text/plain": [
       "<Figure size 432x288 with 1 Axes>"
      ]
     },
     "metadata": {
      "needs_background": "light"
     },
     "output_type": "display_data"
    }
   ],
   "source": [
    "#####################\n",
    "# Plot preds and performance\n",
    "#####################\n",
    "\n",
    "plt.plot(y_pred.detach().numpy(), label=\"Preds\")\n",
    "plt.plot(y_train.detach().numpy(), label=\"Data\")\n",
    "plt.legend()\n",
    "plt.show()\n",
    "\n",
    "plt.plot(hist, label=\"Training loss\")\n",
    "plt.legend()\n",
    "plt.show()"
   ]
  },
  {
   "cell_type": "markdown",
   "metadata": {},
   "source": [
    "# Other code that I'm emotionally attached to "
   ]
  },
  {
   "cell_type": "code",
   "execution_count": 96,
   "metadata": {},
   "outputs": [],
   "source": [
    "#####################\n",
    "#Gregor Dataset\n",
    "#####################\n",
    "\n",
    "# from torch.autograd import Variable\n",
    "# from torch.utils.data import Dataset, DataLoader, random_split\n",
    "\n",
    "# # Training dataset loading class\n",
    "# class TrainDataset(Dataset):\n",
    "#     # Initialize our data, download, etc.  \n",
    "#     def __init__(self):\n",
    "#         #open hdf5 file for reading\n",
    "#         hdf_train = pd.HDFStore('train.h5',mode='r')\n",
    "#         hdf_train.keys()\n",
    "#         table_train = hdf_train.get('/table')\n",
    "        \n",
    "#         #numpy representation of DataFrame\n",
    "#         array_train = table_train.values\n",
    "        \n",
    "#         self.len = array_train.shape[0]\n",
    "#         self.x_data = torch.from_numpy(array_train[:,0:800]).float() #x data is only the 4 vectors of the constituents \n",
    "#         self.y_data = torch.from_numpy(array_train[:,-1]).long() #y data is only the labels (0=QCD, 1=top)\n",
    "        \n",
    "#     def __getitem__(self,index):\n",
    "#         return self.x_data[index],self.y_data[index]\n",
    "    \n",
    "#     def __len__(self):\n",
    "#         return self.len\n",
    "    \n",
    "# # Validation dataset loading class\n",
    "# class ValDataset(Dataset):\n",
    "#     # Initialize our data, download, etc.\n",
    "#     def __init__(self):\n",
    "#         #open hdf5 file for reading\n",
    "#         hdf_val = pd.HDFStore('val.h5',mode='r')\n",
    "#         hdf_val.keys()\n",
    "#         table_val = hdf_val.get('/table')\n",
    "        \n",
    "#         #numpy representation of DataFrame\n",
    "#         array_val = table_val.values\n",
    "        \n",
    "#         self.len = array_val.shape[0]\n",
    "#         self.x_data = torch.from_numpy(array_val[:,0:800]).float()\n",
    "#         self.y_data = torch.from_numpy(array_val[:,-1]).long()\n",
    "        \n",
    "#     def __getitem__(self,index):\n",
    "#         return self.x_data[index],self.y_data[index]\n",
    "    \n",
    "#     def __len__(self):\n",
    "#         return self.len\n",
    "\n",
    "\n",
    "\n",
    "# training_dataset = TrainDataset()\n",
    "# validation_dataset = ValDataset()\n",
    "\n",
    "# train_len = training_dataset.len\n",
    "# val_len = validation_dataset.len"
   ]
  },
  {
   "cell_type": "code",
   "execution_count": 125,
   "metadata": {},
   "outputs": [
    {
     "ename": "SyntaxError",
     "evalue": "unexpected EOF while parsing (<ipython-input-125-441934c9ea55>, line 4)",
     "output_type": "error",
     "traceback": [
      "\u001b[0;36m  File \u001b[0;32m\"<ipython-input-125-441934c9ea55>\"\u001b[0;36m, line \u001b[0;32m4\u001b[0m\n\u001b[0;31m    for i, (images,labels) in enumerate(train_loader):\u001b[0m\n\u001b[0m                                                      ^\u001b[0m\n\u001b[0;31mSyntaxError\u001b[0m\u001b[0;31m:\u001b[0m unexpected EOF while parsing\n"
     ]
    }
   ],
   "source": [
    "##########################################\n",
    "##########################################\n",
    "##########################################\n",
    "#train MNIST LSTM that MAKES SENSE\n",
    "\n",
    "for epoch in range(num_epochs):\n",
    "    for i, (images,labels) in enumerate(train_loader):\n",
    "        #Load images as torch tensor with gradient accumulation abilities\n",
    "        images = images.view(-1, seq_dim, input_dim).requires_grad_()\n",
    "        \n",
    "        #Clear gradients with respect to parameters\n",
    "        optimizer.zero_grad()\n",
    "        \n",
    "        #Forward pass to get output/logits\n",
    "        #outputs.size() --> 100,10\n",
    "        outputs = model(images)\n",
    "        \n",
    "        #Calculate Loss: softmax --> cross entropy loss\n",
    "        loss = criterion(outputs,labels)\n",
    "        #Getting gradients with respect to parameters\n",
    "        loss.backward()\n",
    "        #Updating parameters\n",
    "        optimizer.step()\n",
    "        \n",
    "        #Store the training loss and # of corrects and total number of events\n",
    "        train_loss += loss.item()*images.size(0)   \n",
    "        total = labels.size(0)\n",
    "        \n",
    "        #extract TP+TN\n",
    "        train_corrects += torch.sum(preds == labels.data)\n",
    "        \n",
    "    #epoch_loss = train_loss/train_len\n",
    "    #epoch_acc = train_corrects/train_len\n",
    "    \n",
    "    print(train_loss/train_len)\n",
    "        \n",
    "        \n",
    "        \n",
    "        "
   ]
  },
  {
   "cell_type": "code",
   "execution_count": 191,
   "metadata": {},
   "outputs": [],
   "source": [
    "# #######################\n",
    "# # Build Model\n",
    "# #######################\n",
    "\n",
    "# class LSTM(nn.Module):\n",
    "#     def __init__(self, input_dim, hidden_dim, batch_size, output_dim=1, num_layers=2):\n",
    "#         super(LSTM, self).__init__()\n",
    "        \n",
    "#         self.input_dim = input_dim\n",
    "#         self.hidden_dim = hidden_dim\n",
    "#         self.batch_size = batch_size\n",
    "#         self.num_layers = num_layers\n",
    "        \n",
    "#         #Define the LSTM layer\n",
    "#         self.lstm = nn.LSTM(self.input_dim, self.hidden_dim, self.num_layers, batch_first=True)\n",
    "        \n",
    "#         #Define the output layer\n",
    "#         self.linear = nn.Linear(self.hidden_dim, output_dim)\n",
    "        \n",
    "#     #initialize hidden states\n",
    "#     def init_hidden(self):\n",
    "#          return (torch.zeros(self.num_layers, self.batch_size, self.hidden_dim) \\\n",
    "#                     ,torch.zeros(self.num_layers, self.batch_size, self.hidden_dim))\n",
    "        \n",
    "#     def forward(self, input):\n",
    "#         # Forward pass through LSTM layer\n",
    "#         # shape of lstm_out: [input_size, batch_size, hidden_dim]\n",
    "#         # shape of self.hidden: (a, b), where a and b both have shape (num_layers,batch_size, hidden_dim)\n",
    "        \n",
    "#         #lstm_out, self.hidden = self.lstm(input.view(len(input),self.batch_size, -1))\n",
    "#         #lstm_out, self.hidden = self.lstm(input.view(input[1,:].size()),self.batch_size, -1)\n",
    "#         lstm_out, self.hidden = self.lstm(input.view(input[0,:].size()),self.batch_size, -1)\n",
    "#         #lstm_out, self.hidden = self.lstm(input.view(input[1,:].size(),self.batch_size))\n",
    "        \n",
    "#         #Only take the output from the final timestep\n",
    "#         #If seq2seq prediction, can pass on the entirety of lstm_out to the next layer\n",
    "#         y_pred = self.linear(lstm_out[-1].view(self.batch_size, -1))\n",
    "#         return y_pred.view(-1)\n",
    "#         y_pred = self.linear(lstm_out[-1].view(self.batch_size))\n",
    "#         #return y_pred\n",
    "        \n",
    "# model = LSTM(lstm_input_size, h1, batch_size=batch_size, output_dim=output_dim, num_layers=num_layers)    \n",
    "        "
   ]
  },
  {
   "cell_type": "markdown",
   "metadata": {},
   "source": [
    "# Define Loss function and Optimizer"
   ]
  },
  {
   "cell_type": "code",
   "execution_count": 192,
   "metadata": {},
   "outputs": [],
   "source": [
    "# loss_function = torch.nn.MSELoss(size_average=False)\n",
    "\n",
    "# optimizer = torch.optim.Adam(model.parameters(), lr=learning_rate)"
   ]
  },
  {
   "cell_type": "code",
   "execution_count": null,
   "metadata": {},
   "outputs": [],
   "source": []
  }
 ],
 "metadata": {
  "kernelspec": {
   "display_name": "Python 3",
   "language": "python",
   "name": "python3"
  },
  "language_info": {
   "codemirror_mode": {
    "name": "ipython",
    "version": 3
   },
   "file_extension": ".py",
   "mimetype": "text/x-python",
   "name": "python",
   "nbconvert_exporter": "python",
   "pygments_lexer": "ipython3",
   "version": "3.6.7"
  }
 },
 "nbformat": 4,
 "nbformat_minor": 2
}
