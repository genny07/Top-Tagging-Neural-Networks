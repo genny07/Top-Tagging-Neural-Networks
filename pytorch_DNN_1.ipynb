{
 "cells": [
  {
   "cell_type": "markdown",
   "metadata": {},
   "source": [
    "# Pytorch Deep Neural Network\n",
    "## Analysis of Gregor Dataset (Top Tagging)\n",
    "\n",
    "## Started May 15, 2019\n",
    "### Genevieve Hayes\n"
   ]
  },
  {
   "cell_type": "code",
   "execution_count": 155,
   "metadata": {},
   "outputs": [],
   "source": [
    "import pandas as pd\n",
    "import numpy as np\n",
    "import torch\n",
    "import torch.nn as nn\n",
    "import torchvision\n",
    "import torchvision.transforms as transforms\n",
    "import torch.nn.functional as F\n",
    "import seaborn as sb\n",
    "import matplotlib.pylab as plt\n",
    "import h5py\n",
    "import tables\n",
    "import math\n",
    "import time"
   ]
  },
  {
   "cell_type": "code",
   "execution_count": 118,
   "metadata": {},
   "outputs": [],
   "source": [
    "run_gpu=False\n",
    "if run_gpu:\n",
    "    device = torch.device(\"cuda:0\" if torch.cuda.is_available() else \"cpu\")\n",
    "else:\n",
    "    device = torch.device(\"cpu\")"
   ]
  },
  {
   "cell_type": "code",
   "execution_count": 119,
   "metadata": {},
   "outputs": [],
   "source": [
    "from torch.autograd import Variable\n",
    "from torch.utils.data import Dataset, DataLoader, random_split\n",
    "\n",
    "# Training dataset loading class\n",
    "class TrainDataset(Dataset):\n",
    "    # Initialize our data, download, etc.  \n",
    "    def __init__(self):\n",
    "        #open hdf5 file for reading\n",
    "        hdf_train = pd.HDFStore('train.h5',mode='r')\n",
    "        hdf_train.keys()\n",
    "        table_train = hdf_train.get('/table')\n",
    "        \n",
    "        #numpy representation of DataFrame\n",
    "        array_train = table_train.values\n",
    "        \n",
    "        self.len = array_train.shape[0]\n",
    "        self.x_data = torch.from_numpy(array_train[:,0:800]).float()\n",
    "        self.y_data = torch.from_numpy(array_train[:,-1]).long()\n",
    "        \n",
    "    def __getitem__(self,index):\n",
    "        return self.x_data[index],self.y_data[index]\n",
    "    \n",
    "    def __len__(self):\n",
    "        return self.len\n",
    "    \n",
    "# Validation dataset loading class\n",
    "class ValDataset(Dataset):\n",
    "    # Initialize our data, download, etc.\n",
    "    def __init__(self):\n",
    "        #open hdf5 file for reading\n",
    "        hdf_val = pd.HDFStore('val.h5',mode='r')\n",
    "        hdf_val.keys()\n",
    "        table_val = hdf_val.get('/table')\n",
    "        \n",
    "        #numpy representation of DataFrame\n",
    "        array_val = table_val.values\n",
    "        \n",
    "        self.len = array_val.shape[0]\n",
    "        self.x_data = torch.from_numpy(array_val[:,0:800]).float()\n",
    "        self.y_data = torch.from_numpy(array_val[:,-1]).long()\n",
    "        \n",
    "    def __getitem__(self,index):\n",
    "        return self.x_data[index],self.y_data[index]\n",
    "    \n",
    "    def __len__(self):\n",
    "        return self.len\n",
    "    \n",
    "# Testing dataset loading class\n",
    "class TestDataset(Dataset):\n",
    "    # Initialize our data, download, etc.\n",
    "    def __init__(self):\n",
    "        #open hdf5 file for reading\n",
    "        hdf_test = pd.HDFStore('test.h5',mode='r')\n",
    "        hdf_test.keys()\n",
    "        table_test = hdf_test.get('/table')\n",
    "        \n",
    "        #numpy representation of DataFrame\n",
    "        array_test = table_test.values\n",
    "        \n",
    "        self.len = array_test.shape[0]\n",
    "        self.x_data = torch.from_numpy(array_test[:,0:800]).float()\n",
    "        self.y_data = torch.from_numpy(array_test[:,-1]).long()\n",
    "        \n",
    "    def __getitem__(self,index):\n",
    "        return self.x_data[index],self.y_data[index]\n",
    "    \n",
    "    def __len__(self):\n",
    "        return self.len\n"
   ]
  },
  {
   "cell_type": "code",
   "execution_count": 120,
   "metadata": {},
   "outputs": [],
   "source": [
    "training_dataset = TrainDataset()\n",
    "validation_dataset = ValDataset()\n",
    "testing_dataset = TestDataset()\n",
    "\n",
    "train_len = training_dataset.len\n",
    "val_len = validation_dataset.len\n",
    "test_len = testing_dataset.len"
   ]
  },
  {
   "cell_type": "code",
   "execution_count": 121,
   "metadata": {},
   "outputs": [],
   "source": [
    "# Creating Network Structure class in PyTorch way\n",
    "class Net(torch.nn.Module):\n",
    "    def __init__(self):\n",
    "        super(Net,self).__init__()\n",
    "        \n",
    "        #Input layer is 200 constituents each with features\n",
    "        self.linear1 = nn.Linear(800,520)\n",
    "        #3 Hidden Layers\n",
    "        self.linear2 = nn.Linear(520,320)\n",
    "        self.linear3 = nn.Linear(320,240)\n",
    "        self.linear4 = nn.Linear(240,120)\n",
    "        #1 output (top or qcd)\n",
    "        self.linear5 = nn.Linear(120,2) \n",
    "        \n",
    "    def forward(self, x):\n",
    "#        x = x.view(,-1) #Flatten the data\n",
    "        out1 = F.relu(self.linear1(x))\n",
    "        out2 = F.relu(self.linear2(out1))\n",
    "        out3 = F.relu(self.linear3(out2))\n",
    "        out4 = F.relu(self.linear4(out3))\n",
    "        y_pred = F.softmax(self.linear5(out4),1)\n",
    "        return y_pred\n",
    "\n",
    "model = Net()"
   ]
  },
  {
   "cell_type": "code",
   "execution_count": 122,
   "metadata": {},
   "outputs": [],
   "source": [
    "criterion = nn.CrossEntropyLoss()\n",
    "optimizer = torch.optim.SGD(model.parameters(), lr=0.1, momentum=0.5)"
   ]
  },
  {
   "cell_type": "code",
   "execution_count": 148,
   "metadata": {},
   "outputs": [],
   "source": [
    "# make dataloaders\n",
    "training_loader = DataLoader(dataset=training_dataset, batch_size=500, shuffle=True, num_workers=2)\n",
    "validation_loader = DataLoader(dataset=validation_dataset, batch_size=500, shuffle=False, num_workers=2)\n",
    "testing_loader = DataLoader(dataset=testing_dataset, batch_size=500, shuffle=False, num_workers=2)\n",
    "num_epochs = 15"
   ]
  },
  {
   "cell_type": "code",
   "execution_count": 149,
   "metadata": {},
   "outputs": [],
   "source": [
    "for i, data in enumerate(training_loader, 0):\n",
    "        ### 1. get the inputs ###\n",
    "        inputs,labels=data\n",
    "        \n",
    "        ### 2. wrap them in Variable ###\n",
    "        inputs, labels = Variable(inputs), Variable(labels)\n",
    "        inputs, labels = inputs.to(device), labels.to(device)\n",
    "        \n",
    "        #Forward pass: Compute predicted y by passing x to the model\n",
    "        outputs=model(inputs)\n",
    "        preds=torch.max(outputs.data,1)[1]\n",
    "        "
   ]
  },
  {
   "cell_type": "code",
   "execution_count": 150,
   "metadata": {},
   "outputs": [],
   "source": [
    "#check size and shape of labels, inputs, outputs\n",
    "\n",
    "#print(labels.shape)    #= torch.Size([500])\n",
    "#print(inputs.shape)    #= torch.Size([500, 800])\n",
    "#print(outputs.shape)   #= torch.Size([500, 2])"
   ]
  },
  {
   "cell_type": "markdown",
   "metadata": {},
   "source": [
    "## Train the neural network"
   ]
  },
  {
   "cell_type": "code",
   "execution_count": 152,
   "metadata": {},
   "outputs": [
    {
     "name": "stdout",
     "output_type": "stream",
     "text": [
      "Epoch 0/14\n",
      "----------\n",
      "Epoch 10/14\n",
      "----------\n",
      "Epoch 14/14\n",
      "----------\n",
      "--- 1045.25430893898 seconds ---\n",
      "--- 17.420905148983003 min and 25.254308938980103 sec ---\n"
     ]
    }
   ],
   "source": [
    "start_time = time.time()\n",
    "\n",
    "training_loss_list=[]\n",
    "validation_loss_list=[]\n",
    "testing_loss_list=[]\n",
    "\n",
    "training_acc_list=[]\n",
    "validation_acc_list = []\n",
    "testing_acc_list=[]\n",
    "\n",
    "for epoch in range(num_epochs):\n",
    "    \n",
    "#Training cycle (forward, backward, update)\n",
    "    if (epoch%10==0 or epoch==num_epochs - 1):\n",
    "        print('Epoch {}/{}'.format(epoch, num_epochs -1))\n",
    "        print('-' * 1)\n",
    "        \n",
    "    model.train()\n",
    "    train_loss = 0.0\n",
    "    train_corrects = 0\n",
    "    \n",
    "    for i, data in enumerate(training_loader, 0):\n",
    "        \n",
    "        ### 1. get the inputs ###\n",
    "        inputs,labels=data\n",
    "        \n",
    "        ### 2. wrap them in Variable ###\n",
    "        inputs, labels = Variable(inputs), Variable(labels)\n",
    "        inputs, labels = inputs.to(device), labels.to(device)\n",
    "        \n",
    "        #Forward pass: Compute predicted y by passing x to the model\n",
    "        outputs=model(inputs)\n",
    "        preds=torch.max(outputs.data,1)[1]\n",
    "        \n",
    "        #Compute and print loss\n",
    "        loss=criterion(outputs,labels)\n",
    "        \n",
    "        #Zero gradients, perform a backward pass, and update the weights\n",
    "        optimizer.zero_grad()\n",
    "        loss.backward()\n",
    "        optimizer.step()\n",
    "        \n",
    "        train_loss += loss.item()*inputs.size(0)\n",
    "        train_corrects += torch.sum(preds == labels.data)\n",
    "        \n",
    "    epoch_loss = train_loss/train_len\n",
    "    epoch_acc = train_corrects.double()/train_len\n",
    "    \n",
    "    training_loss_list.append(epoch_loss)\n",
    "    training_acc_list.append(epoch_acc)\n",
    "    \n",
    "#Validation cycle (forward, save)\n",
    "    model.eval()\n",
    "    val_loss=0\n",
    "    val_corrects=0\n",
    "    \n",
    "    with torch.no_grad():\n",
    "        for data in validation_loader:\n",
    "            inputs,labels=data\n",
    "            inputs,labels = Variable(inputs), Variable(labels)\n",
    "            outputs = model(inputs)\n",
    "            #sum up batch loss\n",
    "            loss = criterion(outputs,labels)\n",
    "            #get the index of the max log-probability\n",
    "            preds=torch.max(outputs.data,1)[1]\n",
    "            val_loss += loss.item()*inputs.size(0)\n",
    "            val_corrects += torch.sum(preds == labels.data)\n",
    "            \n",
    "        epoch_loss = val_loss / val_len\n",
    "        epoch_acc = val_corrects.double() / val_len\n",
    "        \n",
    "        validation_loss_list.append(epoch_loss)\n",
    "        validation_acc_list.append(epoch_acc)\n",
    "\n",
    "#Testing cycle (forward, save)\n",
    "    model.eval()\n",
    "    test_loss=0\n",
    "    test_corrects=0\n",
    "    \n",
    "    with torch.no_grad():\n",
    "        for data in testing_loader:\n",
    "            inputs,labels=data\n",
    "            inputs,labels = Variable(inputs), Variable(labels)\n",
    "            outputs = model(inputs)\n",
    "            #sum up batch loss\n",
    "            loss = criterion(outputs,labels)\n",
    "            #get the index of the max log-probability\n",
    "            preds=torch.max(outputs.data,1)[1]\n",
    "            test_loss += loss.item()*inputs.size(0)\n",
    "            test_corrects += torch.sum(preds == labels.data)\n",
    "            \n",
    "        epoch_loss = test_loss / test_len\n",
    "        epoch_acc = test_corrects.double() / test_len\n",
    "        \n",
    "        testing_loss_list.append(epoch_loss)\n",
    "        testing_acc_list.append(epoch_acc)\n",
    "        \n",
    "\n",
    "        \n",
    "end_time = time.time()   \n",
    "print(\"--- {} seconds ---\".format(end_time-start_time)) \n",
    "print(\"--- {} min and {} sec ---\".format(math.floor((end_time-start_time)/60),math.ceil((end_time-start_time)%60)))"
   ]
  },
  {
   "cell_type": "markdown",
   "metadata": {},
   "source": [
    "## Evaluate model"
   ]
  },
  {
   "cell_type": "code",
   "execution_count": 153,
   "metadata": {},
   "outputs": [
    {
     "data": {
      "image/png": "[encoded data removed]",
      "text/plain": [
       "<Figure size 432x288 with 1 Axes>"
      ]
     },
     "metadata": {},
     "output_type": "display_data"
    }
   ],
   "source": [
    "x=range(num_epochs)\n",
    "y_train=training_loss_list\n",
    "y_val = validation_loss_list\n",
    "y_test=testing_loss_list\n",
    "\n",
    "plt.figure()\n",
    "plt.plot(x,y_train,marker='o',markersize=3,linewidth=2,linestyle='dashed',color='r',label=\"training loss\")\n",
    "plt.plot(x,y_val,marker='o',markersize=3,linewidth=2,linestyle = 'solid', color='g',label=\"validation loss\")\n",
    "plt.plot(x,y_test,marker='o',markersize=3,linewidth=2,linestyle='dashed',color='b',label=\"test loss\")\n",
    "plt.title('Loss as a function of epoch',color='w')\n",
    "plt.ylabel('Loss',color='w')\n",
    "plt.xlabel('Epoch',color='w')\n",
    "plt.legend(loc='upper right')\n",
    "plt.legend()\n",
    "plt.show()"
   ]
  },
  {
   "cell_type": "code",
   "execution_count": 154,
   "metadata": {},
   "outputs": [
    {
     "data": {
      "image/png": "[encoded data removed]",
      "text/plain": [
       "<Figure size 432x288 with 1 Axes>"
      ]
     },
     "metadata": {},
     "output_type": "display_data"
    }
   ],
   "source": [
    "x=range(num_epochs)\n",
    "y_train=training_acc_list\n",
    "y_val = validation_acc_list\n",
    "y_test=testing_acc_list\n",
    "\n",
    "plt.figure()\n",
    "plt.plot(x,y_train,marker='o',markersize=3,linewidth=2,linestyle='dashed',color='r',label=\"training accuracy\")\n",
    "plt.plot(x,y_val,marker='o',markersize=3,linewidth=2,linestyle = 'solid', color='g',label=\"validation accuracy\")\n",
    "plt.plot(x,y_test,marker='o',markersize=3,linewidth=2,linestyle='dashed',color='b',label=\"test accuracy\")\n",
    "plt.title('Accuracy as a function of epoch',color='w')\n",
    "plt.ylabel('Accuracy',color='w')\n",
    "plt.xlabel('Epoch',color='w')\n",
    "plt.legend(loc='upper right')\n",
    "plt.legend()\n",
    "plt.show()"
   ]
  },
  {
   "cell_type": "code",
   "execution_count": null,
   "metadata": {},
   "outputs": [],
   "source": []
  },
  {
   "cell_type": "code",
   "execution_count": null,
   "metadata": {},
   "outputs": [],
   "source": []
  }
 ],
 "metadata": {
  "kernelspec": {
   "display_name": "Python 3",
   "language": "python",
   "name": "python3"
  },
  "language_info": {
   "codemirror_mode": {
    "name": "ipython",
    "version": 3
   },
   "file_extension": ".py",
   "mimetype": "text/x-python",
   "name": "python",
   "nbconvert_exporter": "python",
   "pygments_lexer": "ipython3",
   "version": "3.6.7"
  }
 },
 "nbformat": 4,
 "nbformat_minor": 2
}
