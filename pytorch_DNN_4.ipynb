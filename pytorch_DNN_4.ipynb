{
 "cells": [
  {
   "cell_type": "markdown",
   "metadata": {},
   "source": [
    "# Pytorch Deep Neural Network V4\n",
    "## Analysis of Gregor Dataset (Top Tagging)\n",
    "\n",
    "### Has real time plotting of training\n",
    "\n",
    "# 4 hidden layer NN\n",
    "\n",
    "## Started May 24, 2019\n",
    "### Genevieve Hayes\n"
   ]
  },
  {
   "cell_type": "code",
   "execution_count": 1,
   "metadata": {},
   "outputs": [],
   "source": [
    "import pandas as pd\n",
    "import numpy as np\n",
    "import torch\n",
    "import torch.nn as nn\n",
    "import torchvision\n",
    "import torchvision.transforms as transforms\n",
    "import torch.nn.functional as F\n",
    "import seaborn as sb\n",
    "import matplotlib.pylab as plt\n",
    "#import matplotlib as mpl\n",
    "import h5py\n",
    "import tables\n",
    "import math\n",
    "import time\n",
    "import sklearn.metrics as sklm"
   ]
  },
  {
   "cell_type": "code",
   "execution_count": 2,
   "metadata": {},
   "outputs": [],
   "source": [
    "run_gpu=False\n",
    "if run_gpu:\n",
    "    device = torch.device(\"cuda:0\" if torch.cuda.is_available() else \"cpu\")\n",
    "else:\n",
    "    device = torch.device(\"cpu\")"
   ]
  },
  {
   "cell_type": "code",
   "execution_count": 5,
   "metadata": {},
   "outputs": [],
   "source": [
    "from torch.autograd import Variable\n",
    "from torch.utils.data import Dataset, DataLoader, random_split\n",
    "\n",
    "# Training dataset loading class\n",
    "class TrainDataset(Dataset):\n",
    "    # Initialize our data, download, etc.  \n",
    "    def __init__(self):\n",
    "        #open hdf5 file for reading\n",
    "        hdf_train = pd.HDFStore('train.h5',mode='r')\n",
    "        hdf_train.keys()\n",
    "        table_train = hdf_train.get('/table')\n",
    "        \n",
    "        #numpy representation of DataFrame\n",
    "        array_train = table_train.values\n",
    "        \n",
    "        self.len = array_train.shape[0]\n",
    "        self.x_data = torch.from_numpy(array_train[:,0:800]).float() #x data is only the 4 vectors of the constituents \n",
    "        self.y_data = torch.from_numpy(array_train[:,-1]).long() #y data is only the labels (0=QCD, 1=top)\n",
    "        \n",
    "    def __getitem__(self,index):\n",
    "        return self.x_data[index],self.y_data[index]\n",
    "    \n",
    "    def __len__(self):\n",
    "        return self.len\n",
    "    \n",
    "# Validation dataset loading class\n",
    "class ValDataset(Dataset):\n",
    "    # Initialize our data, download, etc.\n",
    "    def __init__(self):\n",
    "        #open hdf5 file for reading\n",
    "        hdf_val = pd.HDFStore('val.h5',mode='r')\n",
    "        hdf_val.keys()\n",
    "        table_val = hdf_val.get('/table')\n",
    "        \n",
    "        #numpy representation of DataFrame\n",
    "        array_val = table_val.values\n",
    "        \n",
    "        self.len = array_val.shape[0]\n",
    "        self.x_data = torch.from_numpy(array_val[:,0:800]).float()\n",
    "        self.y_data = torch.from_numpy(array_val[:,-1]).long()\n",
    "        \n",
    "    def __getitem__(self,index):\n",
    "        return self.x_data[index],self.y_data[index]\n",
    "    \n",
    "    def __len__(self):\n",
    "        return self.len\n",
    "    \n",
    "# # Testing dataset loading class\n",
    "# class TestDataset(Dataset):\n",
    "#     # Initialize our data, download, etc.\n",
    "#     def __init__(self):\n",
    "#         #open hdf5 file for reading\n",
    "#         hdf_test = pd.HDFStore('test.h5',mode='r')\n",
    "#         hdf_test.keys()\n",
    "#         table_test = hdf_test.get('/table')\n",
    "        \n",
    "#         #numpy representation of DataFrame\n",
    "#         array_test = table_test.values\n",
    "        \n",
    "#         self.len = array_test.shape[0]\n",
    "#         self.x_data = torch.from_numpy(array_test[:,0:800]).float()\n",
    "#         self.y_data = torch.from_numpy(array_test[:,-1]).long()\n",
    "        \n",
    "#     def __getitem__(self,index):\n",
    "#         return self.x_data[index],self.y_data[index]\n",
    "    \n",
    "#     def __len__(self):\n",
    "#         return self.len\n"
   ]
  },
  {
   "cell_type": "code",
   "execution_count": 7,
   "metadata": {},
   "outputs": [],
   "source": [
    "training_dataset = TrainDataset()\n",
    "validation_dataset = ValDataset()\n",
    "# testing_dataset = TestDataset()\n",
    "\n",
    "train_len = training_dataset.len\n",
    "val_len = validation_dataset.len\n",
    "# test_len = testing_dataset.len"
   ]
  },
  {
   "cell_type": "markdown",
   "metadata": {},
   "source": [
    "## Net Structure "
   ]
  },
  {
   "cell_type": "code",
   "execution_count": 8,
   "metadata": {},
   "outputs": [],
   "source": [
    "# Creating Network Structure class in PyTorch way\n",
    "class Net(torch.nn.Module):\n",
    "    def __init__(self):\n",
    "        super(Net,self).__init__()\n",
    "        \n",
    "        #Input layer is 200 constituents each with 4 features\n",
    "        self.linear1 = nn.Linear(800,500) #4 hidden layers\n",
    "        self.linear2 = nn.Linear(500,300)\n",
    "        self.linear3 = nn.Linear(300,60)    \n",
    "        self.linear4 = nn.Linear(60,6)\n",
    "        #1 output (top or qcd)\n",
    "        self.linear5 = nn.Linear(6,2) \n",
    "        \n",
    "    def forward(self, x):\n",
    "#        x = x.view(,-1) #Flatten the data\n",
    "        out1 = F.relu(self.linear1(x))\n",
    "        out2 = F.relu(self.linear2(out1))\n",
    "        out3 = F.relu(self.linear3(out2))\n",
    "        out4 = F.relu(self.linear4(out3))\n",
    "        #y_pred = F.softmax(self.linear5(out4),1) #softmax activation function\n",
    "        y_pred = torch.sigmoid(self.linear5(out4)) #sigmoid activation function\n",
    "        #y_preds.size() --> 5000, 2\n",
    "        return y_pred\n",
    "\n",
    "model = Net()"
   ]
  },
  {
   "cell_type": "markdown",
   "metadata": {},
   "source": [
    "## Construct Loss and Optimizer"
   ]
  },
  {
   "cell_type": "code",
   "execution_count": 9,
   "metadata": {},
   "outputs": [],
   "source": [
    "num_epochs = 4\n",
    "batch_len = 10000\n",
    "learning_rate = 0.001"
   ]
  },
  {
   "cell_type": "code",
   "execution_count": 10,
   "metadata": {},
   "outputs": [],
   "source": [
    "#criterion = torch.nn.BCELoss()\n",
    "criterion = nn.CrossEntropyLoss()\n",
    "\n",
    "#optimizer = torch.optim.SGD(model.parameters(), lr=learning_rate, momentum=0.5) #Stochastic Gradient Descent with momentum\n",
    "optimizer = torch.optim.Adam(model.parameters(), lr=learning_rate) #ADAM optimizer"
   ]
  },
  {
   "cell_type": "code",
   "execution_count": 11,
   "metadata": {},
   "outputs": [],
   "source": [
    "# make dataloaders\n",
    "training_loader = DataLoader(dataset=training_dataset, batch_size=batch_len, shuffle=True, num_workers=2)\n",
    "validation_loader = DataLoader(dataset=validation_dataset, batch_size=batch_len, shuffle=False, num_workers=2)\n",
    "# testing_loader = DataLoader(dataset=testing_dataset, batch_size=500, shuffle=False, num_workers=2)\n"
   ]
  },
  {
   "cell_type": "code",
   "execution_count": 12,
   "metadata": {},
   "outputs": [],
   "source": [
    "for i, data in enumerate(training_loader, 0):\n",
    "        ### 1. get the inputs ###\n",
    "        inputs,labels=data\n",
    "        \n",
    "        ### 2. wrap them in Variable ###\n",
    "        inputs, labels = Variable(inputs), Variable(labels)\n",
    "        inputs, labels = inputs.to(device), labels.to(device)\n",
    "        \n",
    "        #Forward pass: Compute predicted y by passing x to the model\n",
    "        outputs=model(inputs)\n",
    "        preds=torch.max(outputs.data,1)[1]\n",
    "        #preds has size [batch_size]\n",
    "        \n",
    "#check size and shape of labels, inputs, outputs\n",
    "\n",
    "#print(labels.shape)    #= torch.Size([500])\n",
    "#print(inputs.shape)    #= torch.Size([500, 800])\n",
    "#print(outputs.shape)   #= torch.Size([500, 2])"
   ]
  },
  {
   "cell_type": "markdown",
   "metadata": {},
   "source": [
    "## Train the neural network"
   ]
  },
  {
   "cell_type": "code",
   "execution_count": 13,
   "metadata": {},
   "outputs": [
    {
     "ename": "NameError",
     "evalue": "name 'training_loss_list' is not defined",
     "output_type": "error",
     "traceback": [
      "\u001b[0;31m---------------------------------------------------------------------------\u001b[0m",
      "\u001b[0;31mNameError\u001b[0m                                 Traceback (most recent call last)",
      "\u001b[0;32m<ipython-input-13-b9297779bf9b>\u001b[0m in \u001b[0;36m<module>\u001b[0;34m\u001b[0m\n\u001b[0;32m----> 1\u001b[0;31m \u001b[0mprint\u001b[0m\u001b[0;34m(\u001b[0m\u001b[0mtraining_loss_list\u001b[0m\u001b[0;34m)\u001b[0m\u001b[0;34m\u001b[0m\u001b[0;34m\u001b[0m\u001b[0m\n\u001b[0m",
      "\u001b[0;31mNameError\u001b[0m: name 'training_loss_list' is not defined"
     ]
    }
   ],
   "source": [
    "print(training_loss_list)"
   ]
  },
  {
   "cell_type": "code",
   "execution_count": null,
   "metadata": {},
   "outputs": [],
   "source": [
    "start_time = time.time()\n",
    "\n",
    "training_loss_list=[]\n",
    "validation_loss_list=[]\n",
    "testing_loss_list=[]\n",
    "\n",
    "training_acc_list=[]\n",
    "validation_acc_list = []\n",
    "testing_acc_list=[]\n",
    "\n",
    "for epoch in range(num_epochs):\n",
    "#Training cycle (forward, backward, update)\n",
    "    if (epoch%1==0 or epoch==num_epochs - 1):\n",
    "        print('Epoch {}/{}'.format(epoch, num_epochs -1))\n",
    "        print('-' * 2)\n",
    "        \n",
    "    model.train()\n",
    "    train_loss = 0.0\n",
    "    train_corrects = 0\n",
    "    \n",
    "    for i, data in enumerate(training_loader, 0):\n",
    "        \n",
    "        ### 1. get the inputs ###\n",
    "        inputs,labels=data\n",
    "        \n",
    "        ### 2. wrap them in Variable ###\n",
    "        inputs, labels = Variable(inputs), Variable(labels)\n",
    "        inputs, labels = inputs.to(device), labels.to(device)\n",
    "        \n",
    "        #Forward pass: Compute predicted y by passing x to the model\n",
    "        outputs=model(inputs)\n",
    "        preds=torch.max(outputs.data,1)[1]\n",
    "        \n",
    "        #Compute loss\n",
    "        loss=criterion(outputs,labels)\n",
    "        \n",
    "        #Zero gradients, perform a backward pass, and update the weights\n",
    "        optimizer.zero_grad()\n",
    "        loss.backward()\n",
    "        optimizer.step()\n",
    "        \n",
    "        train_loss += loss.item()*inputs.size(0)\n",
    "        \n",
    "        #extract TP+TN\n",
    "        train_corrects += torch.sum(preds == labels.data)\n",
    "        \n",
    "    epoch_loss = train_loss/train_len\n",
    "    epoch_acc = train_corrects.double()/train_len\n",
    "    \n",
    "    training_loss_list.append(epoch_loss)\n",
    "    training_acc_list.append(epoch_acc)\n",
    "    \n",
    "    #Visualization\n",
    "    print('Training Accuracy:{:.4f}'.format(epoch_acc))\n",
    "    if (epoch%2==0 or epoch==num_epochs - 1):\n",
    "    \n",
    "        counter = range(epoch+1)\n",
    "        figtrain = plt.figure()\n",
    "        axtrain = figtrain.add_subplot(111)\n",
    "        plt.plot(counter,training_loss_list,'-*r',linestyle = 'solid',label=\"training loss\")\n",
    "#Validation cycle (forward, save)\n",
    "    model.eval()\n",
    "    val_loss=0\n",
    "    val_corrects=0\n",
    "    \n",
    "    with torch.no_grad():\n",
    "        for data in validation_loader:\n",
    "            inputs,labels=data\n",
    "            inputs,labels = Variable(inputs), Variable(labels)\n",
    "            outputs = model(inputs)\n",
    "            #sum up batch loss\n",
    "            loss = criterion(outputs,labels)\n",
    "            #get the index of the max log-probability\n",
    "            preds=torch.max(outputs.data,1)[1]\n",
    "            val_loss += loss.item()*inputs.size(0)\n",
    "            \n",
    "            #extract TP+TN\n",
    "            val_corrects += torch.sum(preds == labels.data)\n",
    "                                       \n",
    "        epoch_loss = val_loss / val_len\n",
    "        epoch_acc = val_corrects.double() / val_len\n",
    "        \n",
    "        validation_loss_list.append(epoch_loss)\n",
    "        validation_acc_list.append(epoch_acc)\n",
    "\n",
    "        #Visualization\n",
    "        print('Validation Accuracy:{:.4f} \\n'.format(epoch_acc))\n",
    "        if (epoch%2==0 or epoch==num_epochs - 1):\n",
    "            counter = range(epoch+1)\n",
    "            plt.plot(counter,validation_loss_list,'-*g',linestyle = 'solid',label=\"validation loss\")\n",
    "        \n",
    "            plt.title('Loss as a function of epoch',color='w')\n",
    "            plt.xlabel('Epoch',color='w')\n",
    "            plt.ylabel('Loss',color='w')\n",
    "            axtrain.spines['bottom'].set_color('white')\n",
    "            axtrain.spines['top'].set_color('white')\n",
    "            axtrain.tick_params(axis='x', colors='white')\n",
    "            axtrain.tick_params(axis='y', colors='white')\n",
    "            plt.legend(loc='upper right')\n",
    "            plt.show()\n",
    "\n",
    "        \n",
    "# #Testing cycle (forward, save)\n",
    "#     model.eval()\n",
    "#     test_loss=0\n",
    "#     test_corrects=0\n",
    "    \n",
    "#     with torch.no_grad():\n",
    "#         for data in testing_loader:\n",
    "#             inputs,labels=data\n",
    "#             inputs,labels = Variable(inputs), Variable(labels)\n",
    "#             outputs = model(inputs)\n",
    "#             #sum up batch loss\n",
    "#             loss = criterion(outputs,labels)\n",
    "#             #get the index of the max log-probability\n",
    "#             preds=torch.max(outputs.data,1)[1]\n",
    "#             test_loss += loss.item()*inputs.size(0)\n",
    "#             test_corrects += torch.sum(preds == labels.data)\n",
    "            \n",
    "#         epoch_loss = test_loss / test_len\n",
    "#         epoch_acc = test_corrects.double() / test_len\n",
    "        \n",
    "#         testing_loss_list.append(epoch_loss)\n",
    "#         testing_acc_list.append(epoch_acc)\n",
    "        \n",
    "end_time = time.time()   \n",
    "print(\"--- {} seconds ---\".format(end_time-start_time)) \n",
    "print(\"--- {} min and {} sec ---\".format(math.floor((end_time-start_time)/60),math.ceil((end_time-start_time)%60)))"
   ]
  },
  {
   "cell_type": "markdown",
   "metadata": {},
   "source": [
    "## Evaluate model"
   ]
  },
  {
   "cell_type": "code",
   "execution_count": 257,
   "metadata": {},
   "outputs": [
    {
     "data": {
      "image/png": "[encoded data removed]",
      "text/plain": [
       "<Figure size 432x288 with 1 Axes>"
      ]
     },
     "metadata": {
      "needs_background": "light"
     },
     "output_type": "display_data"
    }
   ],
   "source": [
    "x=range(num_epochs)\n",
    "y_train=training_loss_list\n",
    "y_val = validation_loss_list\n",
    "#y_test=testing_loss_list\n",
    "\n",
    "fig = plt.figure()\n",
    "ax1 = fig.add_subplot(111)\n",
    "plt.plot(x,y_train,marker='o',markersize=3,linewidth=2,linestyle='dashed',color='r',label=\"training loss\")\n",
    "plt.plot(x,y_val,marker='o',markersize=3,linewidth=2,linestyle = 'solid', color='g',label=\"validation loss\")\n",
    "#plt.plot(x,y_test,marker='o',markersize=3,linewidth=2,linestyle='dashed',color='b',label=\"test loss\")\n",
    "plt.title('Loss as a function of epoch')#,color='w')\n",
    "\n",
    "\n",
    "#ax1.spines['bottom'].set_color('white')\n",
    "#ax1.spines['top'].set_color('white')\n",
    "#ax1.xaxis.label.set_color('white')\n",
    "#ax1.yaxis.label.set_color('white')\n",
    "#ax1.tick_params(axis='x', colors='white')\n",
    "#ax1.tick_params(axis='y', colors='white')\n",
    "\n",
    "ax1.set_xlabel('Epochs')#, color='white')\n",
    "ax1.set_ylabel('Loss')#, color='white')\n",
    "\n",
    "plt.legend(loc='upper right')\n",
    "plt.legend()\n",
    "plt.show()"
   ]
  },
  {
   "cell_type": "code",
   "execution_count": 270,
   "metadata": {},
   "outputs": [
    {
     "data": {
      "image/png": "[encoded data removed]",
      "text/plain": [
       "<Figure size 432x288 with 1 Axes>"
      ]
     },
     "metadata": {
      "needs_background": "light"
     },
     "output_type": "display_data"
    }
   ],
   "source": [
    "x=range(num_epochs)\n",
    "y_train=training_acc_list\n",
    "y_val = validation_acc_list\n",
    "#y_test=testing_acc_list\n",
    "\n",
    "fig2 = plt.figure(2)\n",
    "ax2 = fig2.add_subplot(111)\n",
    "\n",
    "plt.plot(x,y_train,marker='o',markersize=3,linewidth=2,linestyle='dashed',color='r',label=\"training accuracy\")\n",
    "plt.plot(x,y_val,marker='o',markersize=3,linewidth=2,linestyle = 'solid', color='g',label=\"validation accuracy\")\n",
    "#plt.plot(x,y_test,marker='o',markersize=3,linewidth=2,linestyle='dashed',color='b',label=\"test accuracy\")\n",
    "plt.title('Accuracy as a function of epoch')#,color='w')\n",
    "\n",
    "#ax2.spines['bottom'].set_color('white')\n",
    "#ax2.spines['top'].set_color('white')\n",
    "#ax2.xaxis.label.set_color('white')\n",
    "#ax2.yaxis.label.set_color('white')\n",
    "#ax2.tick_params(axis='x', colors='white')\n",
    "#ax2.tick_params(axis='y', colors='white')\n",
    "\n",
    "ax2.set_xlabel('Epochs')#, color='white')\n",
    "ax2.set_ylabel('Accuracy')#, color='white')\n",
    "\n",
    "plt.legend(loc='upper right')\n",
    "plt.legend()\n",
    "plt.show()"
   ]
  },
  {
   "cell_type": "markdown",
   "metadata": {},
   "source": [
    "# Confusion Matrix"
   ]
  },
  {
   "cell_type": "code",
   "execution_count": 271,
   "metadata": {},
   "outputs": [
    {
     "name": "stdout",
     "output_type": "stream",
     "text": [
      "TN = 1250, FP = 250, FN = 100, TP = 1400\n",
      "\n",
      "Confusion matrix of validation data:\n",
      " [[1250  250]\n",
      " [ 100 1400]]\n"
     ]
    }
   ],
   "source": [
    "validation_confusion_matrix = sklm.confusion_matrix(labels.data,preds)\n",
    "tn, fp, fn, tp = sklm.confusion_matrix(labels.data,preds).ravel()\n",
    "\n",
    "print('TN = {}, FP = {}, FN = {}, TP = {}\\n'.format(tn, fp, fn, tp))\n",
    "print('Confusion matrix of validation data:\\n',validation_confusion_matrix)\n"
   ]
  },
  {
   "cell_type": "markdown",
   "metadata": {},
   "source": [
    "# Precision, Recall and F-measure"
   ]
  },
  {
   "cell_type": "code",
   "execution_count": 272,
   "metadata": {},
   "outputs": [
    {
     "data": {
      "text/html": [
       "<table>\n",
       "<tbody>\n",
       "<tr><td>Precision</td><td style=\"text-align: right;\">0.848</td></tr>\n",
       "<tr><td>Recall   </td><td style=\"text-align: right;\">0.933</td></tr>\n",
       "<tr><td>F1       </td><td style=\"text-align: right;\">0.889</td></tr>\n",
       "</tbody>\n",
       "</table>"
      ],
      "text/plain": [
       "<IPython.core.display.HTML object>"
      ]
     },
     "metadata": {},
     "output_type": "display_data"
    }
   ],
   "source": [
    "precision = sklm.precision_score(labels.data,preds)\n",
    "#print('Precision: {:.4f}'.format(precision))\n",
    "recall = sklm.recall_score(labels.data,preds)\n",
    "#print('Recall: {:.4f}'.format(recall))\n",
    "f1 = sklm.f1_score(labels.data,preds)\n",
    "#print('F1: {:.4f}'.format(f1))\n",
    "\n",
    "from IPython.display import HTML, display\n",
    "import tabulate\n",
    "table = [[\"Precision\",\"{:.3f}\".format(precision)],\n",
    "         [\"Recall\",\"{:.3f}\".format(recall)],\n",
    "         [\"F1\",\"{:.3f}\".format(f1)]]\n",
    "        \n",
    "display(HTML(tabulate.tabulate(table, tablefmt='html')))"
   ]
  },
  {
   "cell_type": "markdown",
   "metadata": {},
   "source": [
    "# ROC Curve and AUC"
   ]
  },
  {
   "cell_type": "code",
   "execution_count": 273,
   "metadata": {},
   "outputs": [
    {
     "name": "stdout",
     "output_type": "stream",
     "text": [
      "AUC: 0.9210\n"
     ]
    },
    {
     "data": {
      "image/png": "[encoded data removed]",
      "text/plain": [
       "<Figure size 432x288 with 1 Axes>"
      ]
     },
     "metadata": {
      "needs_background": "light"
     },
     "output_type": "display_data"
    }
   ],
   "source": [
    "fpr, tpr, thresholds = sklm.roc_curve(labels.data,outputs.data[:,1],pos_label=None)\n",
    "\n",
    "auc = sklm.roc_auc_score(labels.data,outputs.data[:,1])\n",
    "\n",
    "print('AUC: {:.4f}'.format(auc))\n",
    "\n",
    "\n",
    "#ROC curve\n",
    "fig3 = plt.figure(3)\n",
    "ax3 = fig3.add_subplot(111)\n",
    "\n",
    "#plt.plot(fpr,tpr)\n",
    "plt.plot(fpr,tpr,linewidth=2,linestyle='solid',color='orange',label=\"ROC curve (AUC={:.4f})\".format(auc))\n",
    "plt.plot(fpr,fpr,linewidth=2,linestyle='dashed',color='b')\n",
    "plt.title('ROC Curve')#,color='w')\n",
    "\n",
    "# ax3.spines['bottom'].set_color('white')\n",
    "# ax3.spines['top'].set_color('white')\n",
    "# ax3.xaxis.label.set_color('white')\n",
    "# ax3.yaxis.label.set_color('white')\n",
    "# ax3.tick_params(axis='x', colors='white')\n",
    "# ax3.tick_params(axis='y', colors='white')\n",
    "\n",
    "ax3.set_xlabel('True Positive Rate')#, color='white')\n",
    "ax3.set_ylabel('False Positive Rate')#, color='white')\n",
    "\n",
    "plt.legend(loc='lower right')\n",
    "plt.legend()\n",
    "plt.show()"
   ]
  },
  {
   "cell_type": "code",
   "execution_count": 262,
   "metadata": {},
   "outputs": [],
   "source": [
    "# THIS IS STILL NOT IDEAL\n",
    "#to catch divisions by zero\n",
    "\n",
    "def safe_div(x,y):\n",
    "    division = np.empty(np.size(y))\n",
    "    for idx in range(np.size(y)):\n",
    "        if y[idx] == 0:\n",
    "            division[idx] = x / 0.00001\n",
    "        else:\n",
    "            division[idx] = x / y[idx]       \n",
    "    return division\n",
    "\n",
    "background_rejection = safe_div(1,fpr)"
   ]
  },
  {
   "cell_type": "code",
   "execution_count": 267,
   "metadata": {},
   "outputs": [
    {
     "data": {
      "image/png": "[encoded data removed]",
      "text/plain": [
       "<Figure size 432x288 with 1 Axes>"
      ]
     },
     "metadata": {
      "needs_background": "light"
     },
     "output_type": "display_data"
    },
    {
     "name": "stdout",
     "output_type": "stream",
     "text": [
      "0.0\n"
     ]
    }
   ],
   "source": [
    "background_rejection = safe_div(1,fpr)\n",
    "#background_rejection = 1/fpr[2:] #the first and second elements of fpr are usually zero, so disregard these to avoid divide by zero\n",
    "\n",
    "#ROC curve (using background rejection)\n",
    "fig4 = plt.figure(4)\n",
    "ax4 = fig4.add_subplot(111)\n",
    "\n",
    "#plt.plot(fpr,tpr)\n",
    "plt.semilogy(tpr[1:],background_rejection[1:],linewidth=2,linestyle='solid',color='blue',label=\"ROC curve\")\n",
    "#plt.plot(background_rejection,background_rejection,linewidth=2,linestyle='dashed',color='b')\n",
    "plt.title('ROC Curve, Jet $p_T$ = 550 - 650 GeV')#,color='w')\n",
    "\n",
    "# ax4.spines['bottom'].set_color('white')\n",
    "# ax4.spines['top'].set_color('white')\n",
    "# ax4.xaxis.label.set_color('white')\n",
    "# ax4.yaxis.label.set_color('white')\n",
    "# ax4.tick_params(axis='x', colors='white')\n",
    "# ax4.tick_params(axis='y', colors='white')\n",
    "\n",
    "ax4.set_xlabel('Top Tagging Efficiency')#, color='white')\n",
    "ax4.set_ylabel('Background Rejection, 1/fpr')#, color='white')\n",
    "\n",
    "plt.ylim(1, 5000)\n",
    "\n",
    "plt.legend(loc='upper right')\n",
    "plt.legend()\n",
    "plt.show()\n",
    "\n",
    "print(fpr[0])"
   ]
  },
  {
   "cell_type": "code",
   "execution_count": 268,
   "metadata": {},
   "outputs": [],
   "source": [
    "#indexing function to find % signal efficiency\n",
    "\n",
    "def find_nearest_ind(array,value):\n",
    "    array = np.asarray(array)\n",
    "    ind = (np.abs(array-value)).argmin()\n",
    "    return ind, array[ind]"
   ]
  },
  {
   "cell_type": "code",
   "execution_count": 269,
   "metadata": {},
   "outputs": [
    {
     "data": {
      "text/html": [
       "<table>\n",
       "<tbody>\n",
       "<tr><td>Signal Efficiency</td><td>Background Rejection</td></tr>\n",
       "<tr><td>0.0              </td><td>100000.00           </td></tr>\n",
       "<tr><td>65.2             </td><td>11.03               </td></tr>\n",
       "<tr><td>80.0             </td><td>8.33                </td></tr>\n",
       "</tbody>\n",
       "</table>"
      ],
      "text/plain": [
       "<IPython.core.display.HTML object>"
      ]
     },
     "metadata": {},
     "output_type": "display_data"
    }
   ],
   "source": [
    "#looking for 50% signal efficiency\n",
    "index_20,signal_efficiency_20 =find_nearest_ind(tpr,0.2)\n",
    "index_50,signal_efficiency_50 =find_nearest_ind(tpr,0.5)\n",
    "index_80,signal_efficiency_80 =find_nearest_ind(tpr,0.8)\n",
    "\n",
    "#print('Background rejection at {:.1f}% signal efficiency: {:.3}\\n'.format(signal_efficiency_20*100,background_rejection[index_20]))\n",
    "#print('Background rejection at {:.1f}% signal efficiency: {:.3}\\n'.format(signal_efficiency_50*100,background_rejection[index_50]))\n",
    "#print('Background rejection at {:.1f}% signal efficiency: {:.3}\\n'.format(signal_efficiency_80*100,background_rejection[index_80]))\n",
    "\n",
    "from IPython.display import HTML, display\n",
    "import tabulate\n",
    "table = [[\"Signal Efficiency\",\"Background Rejection\"],\n",
    "         [\"{:.1f}\".format(signal_efficiency_20*100),\"{:.2f}\".format(background_rejection[index_20])],\n",
    "         [\"{:.1f}\".format(signal_efficiency_50*100),\"{:.2f}\".format(background_rejection[index_50])],\n",
    "         [\"{:.1f}\".format(signal_efficiency_80*100),\"{:.2f}\".format(background_rejection[index_80])]]\n",
    "display(HTML(tabulate.tabulate(table, tablefmt='html')))"
   ]
  },
  {
   "cell_type": "code",
   "execution_count": 185,
   "metadata": {},
   "outputs": [],
   "source": [
    "#Would like a DNN distribution for the signal and background samples (probability density as a function of neural network output)\n",
    "#plt.plot(outputs.data[:,1])\n",
    "#print(outputs.data[:,1])"
   ]
  },
  {
   "cell_type": "code",
   "execution_count": null,
   "metadata": {},
   "outputs": [],
   "source": [
    "\n"
   ]
  },
  {
   "cell_type": "code",
   "execution_count": null,
   "metadata": {},
   "outputs": [],
   "source": []
  }
 ],
 "metadata": {
  "kernelspec": {
   "display_name": "Python 3",
   "language": "python",
   "name": "python3"
  },
  "language_info": {
   "codemirror_mode": {
    "name": "ipython",
    "version": 3
   },
   "file_extension": ".py",
   "mimetype": "text/x-python",
   "name": "python",
   "nbconvert_exporter": "python",
   "pygments_lexer": "ipython3",
   "version": "3.6.7"
  }
 },
 "nbformat": 4,
 "nbformat_minor": 2
}
