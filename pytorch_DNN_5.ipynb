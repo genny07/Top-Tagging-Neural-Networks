{
 "cells": [
  {
   "cell_type": "markdown",
   "metadata": {},
   "source": [
    "# Pytorch Deep Neural Network V5\n",
    "## Analysis of Gregor Dataset (Top Tagging)\n",
    "\n",
    "## Uses preprocessed data\n",
    "\n",
    "### 4 hidden layer NN\n",
    "### Has real time plotting of training\n",
    "\n",
    "## Started June, 6 2019\n",
    "### Genevieve Hayes\n"
   ]
  },
  {
   "cell_type": "code",
   "execution_count": 90,
   "metadata": {},
   "outputs": [],
   "source": [
    "import pandas as pd\n",
    "import numpy as np\n",
    "import torch\n",
    "import torch.nn as nn\n",
    "import torchvision\n",
    "import torchvision.transforms as transforms\n",
    "import torch.nn.functional as F\n",
    "import seaborn as sb\n",
    "import matplotlib.pylab as plt\n",
    "#import matplotlib as mpl\n",
    "import h5py\n",
    "import tables\n",
    "import math\n",
    "import time\n",
    "import sklearn.metrics as sklm"
   ]
  },
  {
   "cell_type": "code",
   "execution_count": 91,
   "metadata": {},
   "outputs": [],
   "source": [
    "run_gpu=False\n",
    "if run_gpu:\n",
    "    device = torch.device(\"cuda:0\" if torch.cuda.is_available() else \"cpu\")\n",
    "else:\n",
    "    device = torch.device(\"cpu\")"
   ]
  },
  {
   "cell_type": "code",
   "execution_count": 92,
   "metadata": {},
   "outputs": [],
   "source": [
    "from torch.autograd import Variable\n",
    "from torch.utils.data import Dataset, DataLoader, random_split\n",
    "\n",
    "# Training dataset loading class\n",
    "class TrainDataset(Dataset):\n",
    "    # Initialize our data, download, etc.  \n",
    "    def __init__(self):\n",
    "        #read pickle file\n",
    "        df_train = pd.read_pickle(\"train.pkl\")\n",
    "        \n",
    "        #numpy representation of DataFrame\n",
    "        array_train = df_train.values\n",
    "        \n",
    "        self.len = array_train.shape[0]\n",
    "        self.width = array_train.shape[1]\n",
    "        self.x_data = torch.from_numpy(array_train[:,0:90]).float() #x data is only the 4 vectors of the constituents   \n",
    "        self.y_data = torch.from_numpy(array_train[:,-1]).long() #y data is only the labels (0=QCD, 1=top)\n",
    "        self.rawY_data = torch.from_numpy(array_train[:,-2]).long()\n",
    "        self.weight = torch.from_numpy(array_train[:,0]).float()\n",
    "        \n",
    "    def __getitem__(self,index):\n",
    "        return self.x_data[index],self.y_data[index]\n",
    "    \n",
    "    def __len__(self):\n",
    "        return self.len\n",
    "    \n",
    "# Validation dataset loading class\n",
    "class ValDataset(Dataset):\n",
    "    # Initialize our data, download, etc.\n",
    "    def __init__(self):\n",
    "        #read pickle file\n",
    "        df_val = pd.read_pickle(\"val.pkl\")\n",
    "        \n",
    "        #numpy representation of DataFrame\n",
    "        array_val = df_val.values\n",
    "        \n",
    "        self.len = array_val.shape[0]\n",
    "        self.width = array_val.shape[1]\n",
    "        self.x_data = torch.from_numpy(array_val[:,0:90]).float()\n",
    "        self.y_data = torch.from_numpy(array_val[:,-1]).long()\n",
    "        self.rawY_data = torch.from_numpy(array_val[:,-2]).long()\n",
    "        self.weight = torch.from_numpy(array_val[:,0]).float()\n",
    "        \n",
    "    def __getitem__(self,index):\n",
    "        return self.x_data[index],self.y_data[index]\n",
    "    \n",
    "    def __len__(self):\n",
    "        return self.len"
   ]
  },
  {
   "cell_type": "code",
   "execution_count": 93,
   "metadata": {},
   "outputs": [],
   "source": [
    "########################\n",
    "# Load Preprocessed Data\n",
    "########################\n",
    "training_dataset = TrainDataset()\n",
    "validation_dataset = ValDataset()\n",
    "\n",
    "train_len = training_dataset.len\n",
    "train_width = training_dataset.width\n",
    "val_len = validation_dataset.len\n",
    "val_width = validation_dataset.width"
   ]
  },
  {
   "cell_type": "markdown",
   "metadata": {},
   "source": [
    "## Net Structure "
   ]
  },
  {
   "cell_type": "code",
   "execution_count": 150,
   "metadata": {},
   "outputs": [],
   "source": [
    "################################################\n",
    "#Creating Network Structure class in PyTorch way\n",
    "################################################\n",
    "class Net(torch.nn.Module):\n",
    "    def __init__(self):\n",
    "        super(Net,self).__init__()\n",
    "        #Input layer is 30 constituents each with 3 features\n",
    "        self.linear1 = nn.Linear(90,300) #4 hidden layers\n",
    "        self.linear2 = nn.Linear(300,102)\n",
    "        self.linear3 = nn.Linear(102,12)    \n",
    "        self.linear4 = nn.Linear(12,6)\n",
    "        self.linear5 = nn.Linear(6,2)  #1 output (top or qcd)\n",
    "        \n",
    "    def forward(self, x):\n",
    "#        x = x.view(,-1) #Flatten the data\n",
    "        out1 = F.relu(self.linear1(x))\n",
    "        out2 = F.relu(self.linear2(out1))\n",
    "        out3 = F.relu(self.linear3(out2))\n",
    "        out4 = F.relu(self.linear4(out3))\n",
    "        #y_pred = F.softmax(self.linear5(out4),1) #softmax activation function\n",
    "        y_pred = torch.sigmoid(self.linear5(out4)) #sigmoid activation function\n",
    "        #y_preds.size() --> 5000, 2\n",
    "        return y_pred\n",
    "model = Net()"
   ]
  },
  {
   "cell_type": "markdown",
   "metadata": {},
   "source": [
    "## Construct Loss and Optimizer"
   ]
  },
  {
   "cell_type": "code",
   "execution_count": 182,
   "metadata": {},
   "outputs": [],
   "source": [
    "num_epochs = 3\n",
    "batch_len = 5000\n",
    "learning_rate = 0.001"
   ]
  },
  {
   "cell_type": "code",
   "execution_count": 183,
   "metadata": {},
   "outputs": [],
   "source": [
    "######################\n",
    "#Loss and optimization\n",
    "######################\n",
    "criterion = nn.CrossEntropyLoss()\n",
    "#optimizer = torch.optim.SGD(model.parameters(), lr=learning_rate, momentum=0.5) #Stochastic Gradient Descent with momentum\n",
    "optimizer = torch.optim.Adam(model.parameters(), lr=learning_rate) #ADAM optimizer"
   ]
  },
  {
   "cell_type": "code",
   "execution_count": 184,
   "metadata": {},
   "outputs": [],
   "source": [
    "######################\n",
    "#Make Dataloaders\n",
    "######################\n",
    "training_loader = DataLoader(dataset=training_dataset, batch_size=batch_len, shuffle=True, num_workers=2)\n",
    "validation_loader = DataLoader(dataset=validation_dataset, batch_size=batch_len, shuffle=False, num_workers=2)"
   ]
  },
  {
   "cell_type": "code",
   "execution_count": 185,
   "metadata": {},
   "outputs": [],
   "source": [
    "final_out = []\n",
    "for i, data in enumerate(training_loader, 0):\n",
    "        ### 1. get the inputs ###\n",
    "        inputs,labels=data\n",
    "        \n",
    "        ### 2. wrap them in Variable ###\n",
    "        inputs, labels = Variable(inputs), Variable(labels)\n",
    "        inputs, labels = inputs.to(device), labels.to(device)\n",
    "        \n",
    "        #Forward pass: Compute predicted y by passing x to the model\n",
    "        outputs=model(inputs)\n",
    "        preds=torch.max(outputs.data,1)[1]\n",
    "        \n",
    "        final_out.extend(preds)\n",
    "        #preds has size [batch_size]\n",
    "        \n",
    "#check size and shape of labels, inputs, outputs\n",
    "\n",
    "#print(labels.shape)    #= torch.Size([500])\n",
    "#print(inputs.shape)    #= torch.Size([500, 800])\n",
    "#print(outputs.shape)   #= torch.Size([500, 2])"
   ]
  },
  {
   "cell_type": "code",
   "execution_count": 186,
   "metadata": {},
   "outputs": [
    {
     "name": "stdout",
     "output_type": "stream",
     "text": [
      "1211000\n",
      "1000\n",
      "1211000\n"
     ]
    }
   ],
   "source": [
    "print(len(training_dataset))\n",
    "print(len(outputs))\n",
    "print(len(final_out))\n"
   ]
  },
  {
   "cell_type": "markdown",
   "metadata": {},
   "source": [
    "## Train the neural network"
   ]
  },
  {
   "cell_type": "code",
   "execution_count": 225,
   "metadata": {},
   "outputs": [
    {
     "name": "stdout",
     "output_type": "stream",
     "text": [
      "Epoch 0/2\n",
      "--\n",
      "Training Accuracy:0.9203\n",
      "Validation Accuracy:0.9079 \n",
      "\n"
     ]
    },
    {
     "data": {
      "image/png": "[encoded data removed]",
      "text/plain": [
       "<Figure size 432x288 with 1 Axes>"
      ]
     },
     "metadata": {
      "needs_background": "dark"
     },
     "output_type": "display_data"
    },
    {
     "name": "stdout",
     "output_type": "stream",
     "text": [
      "Epoch 1/2\n",
      "--\n",
      "Training Accuracy:0.9212\n",
      "Validation Accuracy:0.9083 \n",
      "\n",
      "Epoch 2/2\n",
      "--\n",
      "Training Accuracy:0.9221\n",
      "Validation Accuracy:0.9085 \n",
      "\n"
     ]
    },
    {
     "data": {
      "image/png": "[encoded data removed]",
      "text/plain": [
       "<Figure size 432x288 with 1 Axes>"
      ]
     },
     "metadata": {
      "needs_background": "dark"
     },
     "output_type": "display_data"
    },
    {
     "name": "stdout",
     "output_type": "stream",
     "text": [
      "--- 59.04626107215881 seconds ---\n",
      "--- 0 min and 60 sec ---\n"
     ]
    }
   ],
   "source": [
    "#########\n",
    "#Training\n",
    "#########\n",
    "start_time = time.time()\n",
    "\n",
    "training_loss_list=[]\n",
    "validation_loss_list=[]\n",
    "training_acc_list=[]\n",
    "validation_acc_list = []\n",
    "\n",
    "\n",
    "for epoch in range(num_epochs):\n",
    "#Training cycle (forward, backward, update)\n",
    "    if (epoch%1==0 or epoch==num_epochs - 1):\n",
    "        print('Epoch {}/{}'.format(epoch, num_epochs -1))\n",
    "        print('-' * 2)\n",
    "        \n",
    "    model.train()\n",
    "    train_loss = 0.0\n",
    "    train_corrects = 0\n",
    "    \n",
    "    for i, data in enumerate(training_loader, 0):\n",
    "        \n",
    "        ### 1. get the inputs ###\n",
    "        inputs,labels=data\n",
    "        \n",
    "        ### 2. wrap them in Variable ###\n",
    "        inputs, labels = Variable(inputs), Variable(labels)\n",
    "        inputs, labels = inputs.to(device), labels.to(device)\n",
    "        \n",
    "        \n",
    "        #Forward pass: Compute predicted y by passing x to the model\n",
    "        outputs=model(inputs)\n",
    "        preds=torch.max(outputs.data,1)[1]\n",
    "        \n",
    "        #print(labels.size())\n",
    "        #print(outputs.size())\n",
    "        \n",
    "        #outputs = outputs[:,0]\n",
    "        #print(labels.size())\n",
    "        #print(outputs.size())\n",
    "        \n",
    "        #Compute loss\n",
    "        loss=criterion(outputs,labels)\n",
    "        \n",
    "        #Zero gradients, perform a backward pass, and update the weights\n",
    "        optimizer.zero_grad()\n",
    "        loss.backward()\n",
    "        optimizer.step()\n",
    "        \n",
    "        train_loss += loss.item()*inputs.size(0)\n",
    "        \n",
    "        #extract TP+TN\n",
    "        train_corrects += torch.sum(preds == labels.data)\n",
    "        \n",
    "    epocht_loss = train_loss/train_len\n",
    "    epocht_acc = train_corrects.double()/train_len\n",
    "    \n",
    "    training_loss_list.append(epocht_loss)\n",
    "    training_acc_list.append(epocht_acc)\n",
    "    \n",
    "    #Visualization\n",
    "    print('Training Accuracy:{:.4f}'.format(epocht_acc))\n",
    "    if (epoch%2==0 or epoch==num_epochs - 1):\n",
    "    \n",
    "        counter = range(epoch+1)\n",
    "        figtrain = plt.figure()\n",
    "        axtrain = figtrain.add_subplot(111)\n",
    "        plt.plot(counter,training_loss_list,'-*r',linestyle = 'solid',label=\"training loss\")\n",
    "#Validation cycle (forward, save)\n",
    "    model.eval()\n",
    "    val_loss=0\n",
    "    val_corrects=0\n",
    "    final_output = []\n",
    "    final_preds = []\n",
    "    \n",
    "    with torch.no_grad():\n",
    "        for data in validation_loader:\n",
    "            inputs,labels=data\n",
    "            inputs,labels = Variable(inputs), Variable(labels)\n",
    "            outputs = model(inputs)\n",
    "            #sum up batch loss\n",
    "            loss = criterion(outputs,labels)\n",
    "            #get the index of the max log-probability\n",
    "            preds=torch.max(outputs.data,1)[1]\n",
    "            val_loss += loss.item()*inputs.size(0)\n",
    "            \n",
    "            #extract TP+TN\n",
    "            val_corrects += torch.sum(preds == labels.data)\n",
    "            \n",
    "            final_preds.extend(preds.data.numpy())\n",
    "            final_output.extend(outputs[:,1].data.numpy())\n",
    "        \n",
    "        epoch_loss = val_loss / val_len\n",
    "        epoch_acc = val_corrects.double() / val_len\n",
    "        \n",
    "        validation_loss_list.append(epoch_loss)\n",
    "        validation_acc_list.append(epoch_acc)\n",
    "\n",
    "        #Visualization\n",
    "        print('Validation Accuracy:{:.4f} \\n'.format(epoch_acc))\n",
    "        if (epoch%2==0 or epoch==num_epochs - 1):\n",
    "            counter = range(epoch+1)\n",
    "            plt.plot(counter,validation_loss_list,'-*g',linestyle = 'solid',label=\"validation loss\")\n",
    "        \n",
    "            plt.title('Loss as a function of epoch',color='w')\n",
    "            plt.xlabel('Epoch',color='w')\n",
    "            plt.ylabel('Loss',color='w')\n",
    "            axtrain.spines['bottom'].set_color('white')\n",
    "            axtrain.spines['top'].set_color('white')\n",
    "            axtrain.tick_params(axis='x', colors='white')\n",
    "            axtrain.tick_params(axis='y', colors='white')\n",
    "            plt.legend(loc='upper right')\n",
    "            plt.show()\n",
    "  \n",
    "end_time = time.time()   \n",
    "print(\"--- {} seconds ---\".format(end_time-start_time)) \n",
    "print(\"--- {} min and {} sec ---\".format(math.floor((end_time-start_time)/60),math.ceil((end_time-start_time)%60)))"
   ]
  },
  {
   "cell_type": "markdown",
   "metadata": {},
   "source": [
    "## Evaluate model"
   ]
  },
  {
   "cell_type": "code",
   "execution_count": 219,
   "metadata": {},
   "outputs": [
    {
     "data": {
      "image/png": "[encoded data removed]",
      "text/plain": [
       "<Figure size 432x288 with 1 Axes>"
      ]
     },
     "metadata": {
      "needs_background": "light"
     },
     "output_type": "display_data"
    },
    {
     "name": "stdout",
     "output_type": "stream",
     "text": [
      "-----3 epochs-----\n",
      " \n",
      "Validation Accuracy: 0.9189\n",
      "Validation Accuracy:0.9080\n"
     ]
    }
   ],
   "source": [
    "x=range(num_epochs)\n",
    "y_train=training_loss_list\n",
    "y_val = validation_loss_list\n",
    "#y_test=testing_loss_list\n",
    "\n",
    "fig = plt.figure()\n",
    "ax1 = fig.add_subplot(111)\n",
    "plt.plot(x,y_train,marker='o',markersize=3,linewidth=2,linestyle='dashed',color='r',label=\"training loss\")\n",
    "plt.plot(x,y_val,marker='o',markersize=3,linewidth=2,linestyle = 'solid', color='g',label=\"validation loss\")\n",
    "#plt.plot(x,y_test,marker='o',markersize=3,linewidth=2,linestyle='dashed',color='b',label=\"test loss\")\n",
    "plt.title('Loss as a function of epoch')#,color='w')\n",
    "\n",
    "\n",
    "#ax1.spines['bottom'].set_color('white')\n",
    "#ax1.spines['top'].set_color('white')\n",
    "#ax1.xaxis.label.set_color('white')\n",
    "#ax1.yaxis.label.set_color('white')\n",
    "#ax1.tick_params(axis='x', colors='white')\n",
    "#ax1.tick_params(axis='y', colors='white')\n",
    "\n",
    "ax1.set_xlabel('Epochs')#, color='white')\n",
    "ax1.set_ylabel('Loss')#, color='white')\n",
    "\n",
    "plt.legend(loc='upper right')\n",
    "plt.legend()\n",
    "plt.show()\n",
    "\n",
    "print('-----{:d} epochs-----\\n \\nValidation Accuracy: {:.4f}'.format(num_epochs,training_acc_list[-1]))\n",
    "print('Validation Accuracy:{:.4f}'.format(validation_acc_list[-1]))#epocht_acc))"
   ]
  },
  {
   "cell_type": "code",
   "execution_count": 220,
   "metadata": {},
   "outputs": [
    {
     "data": {
      "image/png": "[encoded data removed]",
      "text/plain": [
       "<Figure size 432x288 with 1 Axes>"
      ]
     },
     "metadata": {
      "needs_background": "light"
     },
     "output_type": "display_data"
    }
   ],
   "source": [
    "x=range(num_epochs)\n",
    "y_train=training_acc_list\n",
    "y_val = validation_acc_list\n",
    "#y_test=testing_acc_list\n",
    "\n",
    "fig2 = plt.figure(2)\n",
    "ax2 = fig2.add_subplot(111)\n",
    "\n",
    "plt.plot(x,y_train,marker='o',markersize=3,linewidth=2,linestyle='dashed',color='r',label=\"training accuracy\")\n",
    "plt.plot(x,y_val,marker='o',markersize=3,linewidth=2,linestyle = 'solid', color='g',label=\"validation accuracy\")\n",
    "#plt.plot(x,y_test,marker='o',markersize=3,linewidth=2,linestyle='dashed',color='b',label=\"test accuracy\")\n",
    "plt.title('Accuracy as a function of epoch')#,color='w')\n",
    "\n",
    "#ax2.spines['bottom'].set_color('white')\n",
    "#ax2.spines['top'].set_color('white')\n",
    "#ax2.xaxis.label.set_color('white')\n",
    "#ax2.yaxis.label.set_color('white')\n",
    "#ax2.tick_params(axis='x', colors='white')\n",
    "#ax2.tick_params(axis='y', colors='white')\n",
    "\n",
    "ax2.set_xlabel('Epochs')#, color='white')\n",
    "ax2.set_ylabel('Accuracy')#, color='white')\n",
    "\n",
    "plt.legend(loc='upper right')\n",
    "plt.legend()\n",
    "plt.show()"
   ]
  },
  {
   "cell_type": "markdown",
   "metadata": {},
   "source": [
    "# Confusion Matrix"
   ]
  },
  {
   "cell_type": "code",
   "execution_count": 222,
   "metadata": {},
   "outputs": [
    {
     "ename": "ValueError",
     "evalue": "Classification metrics can't handle a mix of binary and continuous targets",
     "output_type": "error",
     "traceback": [
      "\u001b[0;31m---------------------------------------------------------------------------\u001b[0m",
      "\u001b[0;31mValueError\u001b[0m                                Traceback (most recent call last)",
      "\u001b[0;32m<ipython-input-222-ce71bfab0be6>\u001b[0m in \u001b[0;36m<module>\u001b[0;34m\u001b[0m\n\u001b[1;32m      2\u001b[0m \u001b[0;31m#tn, fp, fn, tp = sklm.confusion_matrix(labels.data,preds).ravel()\u001b[0m\u001b[0;34m\u001b[0m\u001b[0;34m\u001b[0m\u001b[0;34m\u001b[0m\u001b[0m\n\u001b[1;32m      3\u001b[0m \u001b[0;34m\u001b[0m\u001b[0m\n\u001b[0;32m----> 4\u001b[0;31m \u001b[0mvalidation_confusion_matrix\u001b[0m \u001b[0;34m=\u001b[0m \u001b[0msklm\u001b[0m\u001b[0;34m.\u001b[0m\u001b[0mconfusion_matrix\u001b[0m\u001b[0;34m(\u001b[0m\u001b[0mvalidation_dataset\u001b[0m\u001b[0;34m.\u001b[0m\u001b[0my_data\u001b[0m\u001b[0;34m,\u001b[0m\u001b[0mfinal_output\u001b[0m\u001b[0;34m)\u001b[0m\u001b[0;34m\u001b[0m\u001b[0;34m\u001b[0m\u001b[0m\n\u001b[0m\u001b[1;32m      5\u001b[0m \u001b[0mtn\u001b[0m\u001b[0;34m,\u001b[0m \u001b[0mfp\u001b[0m\u001b[0;34m,\u001b[0m \u001b[0mfn\u001b[0m\u001b[0;34m,\u001b[0m \u001b[0mtp\u001b[0m \u001b[0;34m=\u001b[0m \u001b[0msklm\u001b[0m\u001b[0;34m.\u001b[0m\u001b[0mconfusion_matrix\u001b[0m\u001b[0;34m(\u001b[0m\u001b[0mvalidation_dataset\u001b[0m\u001b[0;34m.\u001b[0m\u001b[0my_data\u001b[0m\u001b[0;34m,\u001b[0m\u001b[0mfinal_output\u001b[0m\u001b[0;34m)\u001b[0m\u001b[0;34m.\u001b[0m\u001b[0mravel\u001b[0m\u001b[0;34m(\u001b[0m\u001b[0;34m)\u001b[0m\u001b[0;34m\u001b[0m\u001b[0;34m\u001b[0m\u001b[0m\n\u001b[1;32m      6\u001b[0m \u001b[0;34m\u001b[0m\u001b[0m\n",
      "\u001b[0;32m/usr/local/lib/python3.6/dist-packages/sklearn/metrics/classification.py\u001b[0m in \u001b[0;36mconfusion_matrix\u001b[0;34m(y_true, y_pred, labels, sample_weight)\u001b[0m\n\u001b[1;32m    251\u001b[0m \u001b[0;34m\u001b[0m\u001b[0m\n\u001b[1;32m    252\u001b[0m     \"\"\"\n\u001b[0;32m--> 253\u001b[0;31m     \u001b[0my_type\u001b[0m\u001b[0;34m,\u001b[0m \u001b[0my_true\u001b[0m\u001b[0;34m,\u001b[0m \u001b[0my_pred\u001b[0m \u001b[0;34m=\u001b[0m \u001b[0m_check_targets\u001b[0m\u001b[0;34m(\u001b[0m\u001b[0my_true\u001b[0m\u001b[0;34m,\u001b[0m \u001b[0my_pred\u001b[0m\u001b[0;34m)\u001b[0m\u001b[0;34m\u001b[0m\u001b[0;34m\u001b[0m\u001b[0m\n\u001b[0m\u001b[1;32m    254\u001b[0m     \u001b[0;32mif\u001b[0m \u001b[0my_type\u001b[0m \u001b[0;32mnot\u001b[0m \u001b[0;32min\u001b[0m \u001b[0;34m(\u001b[0m\u001b[0;34m\"binary\"\u001b[0m\u001b[0;34m,\u001b[0m \u001b[0;34m\"multiclass\"\u001b[0m\u001b[0;34m)\u001b[0m\u001b[0;34m:\u001b[0m\u001b[0;34m\u001b[0m\u001b[0;34m\u001b[0m\u001b[0m\n\u001b[1;32m    255\u001b[0m         \u001b[0;32mraise\u001b[0m \u001b[0mValueError\u001b[0m\u001b[0;34m(\u001b[0m\u001b[0;34m\"%s is not supported\"\u001b[0m \u001b[0;34m%\u001b[0m \u001b[0my_type\u001b[0m\u001b[0;34m)\u001b[0m\u001b[0;34m\u001b[0m\u001b[0;34m\u001b[0m\u001b[0m\n",
      "\u001b[0;32m/usr/local/lib/python3.6/dist-packages/sklearn/metrics/classification.py\u001b[0m in \u001b[0;36m_check_targets\u001b[0;34m(y_true, y_pred)\u001b[0m\n\u001b[1;32m     79\u001b[0m     \u001b[0;32mif\u001b[0m \u001b[0mlen\u001b[0m\u001b[0;34m(\u001b[0m\u001b[0my_type\u001b[0m\u001b[0;34m)\u001b[0m \u001b[0;34m>\u001b[0m \u001b[0;36m1\u001b[0m\u001b[0;34m:\u001b[0m\u001b[0;34m\u001b[0m\u001b[0;34m\u001b[0m\u001b[0m\n\u001b[1;32m     80\u001b[0m         raise ValueError(\"Classification metrics can't handle a mix of {0} \"\n\u001b[0;32m---> 81\u001b[0;31m                          \"and {1} targets\".format(type_true, type_pred))\n\u001b[0m\u001b[1;32m     82\u001b[0m \u001b[0;34m\u001b[0m\u001b[0m\n\u001b[1;32m     83\u001b[0m     \u001b[0;31m# We can't have more than one value on y_type => The set is no more needed\u001b[0m\u001b[0;34m\u001b[0m\u001b[0;34m\u001b[0m\u001b[0;34m\u001b[0m\u001b[0m\n",
      "\u001b[0;31mValueError\u001b[0m: Classification metrics can't handle a mix of binary and continuous targets"
     ]
    }
   ],
   "source": [
    "#validation_confusion_matrix = sklm.confusion_matrix(labels.data,preds)\n",
    "#tn, fp, fn, tp = sklm.confusion_matrix(labels.data,preds).ravel()\n",
    "\n",
    "validation_confusion_matrix = sklm.confusion_matrix(validation_dataset.y_data,final_output)\n",
    "tn, fp, fn, tp = sklm.confusion_matrix(validation_dataset.y_data,final_output).ravel()\n",
    "\n",
    "print('TN = {}, FP = {}, FN = {}, TP = {}\\n'.format(tn, fp, fn, tp))\n",
    "print('Confusion matrix of validation data:\\n',validation_confusion_matrix)"
   ]
  },
  {
   "cell_type": "markdown",
   "metadata": {},
   "source": [
    "# Precision, Recall and F-measure"
   ]
  },
  {
   "cell_type": "code",
   "execution_count": 192,
   "metadata": {},
   "outputs": [
    {
     "data": {
      "text/html": [
       "<table>\n",
       "<tbody>\n",
       "<tr><td>Precision</td><td style=\"text-align: right;\">0.866</td></tr>\n",
       "<tr><td>Recall   </td><td style=\"text-align: right;\">0.956</td></tr>\n",
       "<tr><td>F1       </td><td style=\"text-align: right;\">0.909</td></tr>\n",
       "</tbody>\n",
       "</table>"
      ],
      "text/plain": [
       "<IPython.core.display.HTML object>"
      ]
     },
     "metadata": {},
     "output_type": "display_data"
    }
   ],
   "source": [
    "precision = sklm.precision_score(validation_dataset.y_data,final_output)\n",
    "#print('Precision: {:.4f}'.format(precision))\n",
    "recall = sklm.recall_score(validation_dataset.y_data,final_output)\n",
    "#print('Recall: {:.4f}'.format(recall))\n",
    "f1 = sklm.f1_score(validation_dataset.y_data,final_output)\n",
    "#print('F1: {:.4f}'.format(f1))\n",
    "\n",
    "from IPython.display import HTML, display\n",
    "import tabulate\n",
    "table = [[\"Precision\",\"{:.3f}\".format(precision)],\n",
    "         [\"Recall\",\"{:.3f}\".format(recall)],\n",
    "         [\"F1\",\"{:.3f}\".format(f1)]]\n",
    "        \n",
    "display(HTML(tabulate.tabulate(table, tablefmt='html')))"
   ]
  },
  {
   "cell_type": "markdown",
   "metadata": {},
   "source": [
    "# ROC Curve and AUC"
   ]
  },
  {
   "cell_type": "code",
   "execution_count": 226,
   "metadata": {},
   "outputs": [
    {
     "name": "stdout",
     "output_type": "stream",
     "text": [
      "[4.1560284e-39 8.4644243e-11 1.1523666e-10 4.1560284e-39 4.1560284e-39\n",
      " 5.6000136e-02 1.4329881e-12 4.1560284e-39 4.1560284e-39 9.9999845e-01\n",
      " 1.0000000e+00 9.9999690e-01 1.0000000e+00 1.0000000e+00 9.9999619e-01\n",
      " 9.9998033e-01 1.0000000e+00 9.1377407e-01 1.0000000e+00 9.9999785e-01]\n",
      "[0 0 0 0 0 0 0 0 0 0 1 1 1 1 1 1 1 1 1 1]\n"
     ]
    }
   ],
   "source": [
    "#plt.hist(outputs.data[:,0])\n",
    "#plt.hist(final_output)\n",
    "#plt.hist(preds.data[:])\n",
    "#print(preds.shape)\n",
    "#print(outputs.data)\n",
    "\n",
    "#print(len(outputs.data))\n",
    "#print(len(final_output))\n",
    "#print(len(validation_dataset.y_data))\n",
    "\n",
    "print(np.array(final_output[0:20]))\n",
    "print(np.transpose(validation_dataset.y_data[0:20].numpy()))\n",
    "\n"
   ]
  },
  {
   "cell_type": "code",
   "execution_count": 105,
   "metadata": {},
   "outputs": [],
   "source": [
    "fpr, tpr, thresholds = sklm.roc_curve(labels.data,outputs.data[:,1],pos_label=None)"
   ]
  },
  {
   "cell_type": "code",
   "execution_count": 227,
   "metadata": {},
   "outputs": [
    {
     "name": "stdout",
     "output_type": "stream",
     "text": [
      "40658 40658 40658\n",
      "AUC: 0.9596\n"
     ]
    },
    {
     "data": {
      "image/png": "[encoded data removed]",
      "text/plain": [
       "<Figure size 432x288 with 1 Axes>"
      ]
     },
     "metadata": {
      "needs_background": "light"
     },
     "output_type": "display_data"
    }
   ],
   "source": [
    "# fpr, tpr, thresholds = sklm.roc_curve(labels.data,outputs.data[:,1],pos_label=None)\n",
    "# auc = sklm.roc_auc_score(labels.data,outputs.data[:,1])\n",
    "\n",
    "\n",
    "\n",
    "fpr, tpr, thresholds = sklm.roc_curve(validation_dataset.y_data.numpy(),np.array(final_output),pos_label=1)\n",
    "auc = sklm.roc_auc_score(validation_dataset.y_data.numpy(),np.array(final_output))\n",
    "print(len(fpr),len(tpr),len(thresholds))\n",
    "\n",
    "print('AUC: {:.4f}'.format(auc))\n",
    "\n",
    "\n",
    "#ROC curve\n",
    "fig3 = plt.figure(3)\n",
    "ax3 = fig3.add_subplot(111)\n",
    "\n",
    "#plt.plot(fpr,tpr)\n",
    "plt.plot(fpr,tpr,linewidth=2,linestyle='solid',color='orange',label=\"ROC curve (AUC={:.4f})\".format(auc))\n",
    "plt.plot(fpr,fpr,linewidth=2,linestyle='dashed',color='b')\n",
    "plt.title('ROC Curve')#,color='w')\n",
    "\n",
    "# ax3.spines['bottom'].set_color('white')\n",
    "# ax3.spines['top'].set_color('white')\n",
    "# ax3.xaxis.label.set_color('white')\n",
    "# ax3.yaxis.label.set_color('white')\n",
    "# ax3.tick_params(axis='x', colors='white')\n",
    "# ax3.tick_params(axis='y', colors='white')\n",
    "\n",
    "ax3.set_xlabel('True Positive Rate')#, color='white')\n",
    "ax3.set_ylabel('False Positive Rate')#, color='white')\n",
    "\n",
    "plt.legend(loc='lower right')\n",
    "plt.legend()\n",
    "plt.show()"
   ]
  },
  {
   "cell_type": "code",
   "execution_count": 107,
   "metadata": {},
   "outputs": [],
   "source": [
    "# THIS IS STILL NOT IDEAL\n",
    "#to catch divisions by zero\n",
    "\n",
    "def safe_div(x,y):\n",
    "    division = np.empty(np.size(y))\n",
    "    for idx in range(np.size(y)):\n",
    "        if y[idx] == 0:\n",
    "            division[idx] = x / 0.00001\n",
    "        else:\n",
    "            division[idx] = x / y[idx]       \n",
    "    return division\n",
    "\n",
    "background_rejection = safe_div(1,fpr)"
   ]
  },
  {
   "cell_type": "code",
   "execution_count": 167,
   "metadata": {},
   "outputs": [
    {
     "data": {
      "image/png": "[encoded data removed]",
      "text/plain": [
       "<Figure size 432x288 with 1 Axes>"
      ]
     },
     "metadata": {
      "needs_background": "light"
     },
     "output_type": "display_data"
    },
    {
     "name": "stdout",
     "output_type": "stream",
     "text": [
      "0.0\n"
     ]
    }
   ],
   "source": [
    "background_rejection = safe_div(1,fpr)\n",
    "#background_rejection = 1/fpr[2:] #the first and second elements of fpr are usually zero, so disregard these to avoid divide by zero\n",
    "\n",
    "#ROC curve (using background rejection)\n",
    "fig4 = plt.figure(4)\n",
    "ax4 = fig4.add_subplot(111)\n",
    "\n",
    "#plt.plot(fpr,tpr)\n",
    "plt.semilogy(tpr[1:],background_rejection[1:],linewidth=2,linestyle='solid',color='blue',label=\"ROC curve\")\n",
    "#plt.plot(background_rejection,background_rejection,linewidth=2,linestyle='dashed',color='b')\n",
    "plt.title('ROC Curve, Jet $p_T$ = 550 - 650 GeV')#,color='w')\n",
    "\n",
    "# ax4.spines['bottom'].set_color('white')\n",
    "# ax4.spines['top'].set_color('white')\n",
    "# ax4.xaxis.label.set_color('white')\n",
    "# ax4.yaxis.label.set_color('white')\n",
    "# ax4.tick_params(axis='x', colors='white')\n",
    "# ax4.tick_params(axis='y', colors='white')\n",
    "\n",
    "ax4.set_xlabel('Top Tagging Efficiency')#, color='white')\n",
    "ax4.set_ylabel('Background Rejection, 1/fpr')#, color='white')\n",
    "\n",
    "plt.ylim(1, 5000)\n",
    "\n",
    "plt.legend(loc='upper right')\n",
    "plt.legend()\n",
    "plt.show()\n",
    "\n",
    "print(fpr[0])"
   ]
  },
  {
   "cell_type": "code",
   "execution_count": 25,
   "metadata": {},
   "outputs": [],
   "source": [
    "#indexing function to find % signal efficiency\n",
    "\n",
    "def find_nearest_ind(array,value):\n",
    "    array = np.asarray(array)\n",
    "    ind = (np.abs(array-value)).argmin()\n",
    "    return ind, array[ind]"
   ]
  },
  {
   "cell_type": "code",
   "execution_count": 26,
   "metadata": {},
   "outputs": [
    {
     "data": {
      "text/html": [
       "<table>\n",
       "<tbody>\n",
       "<tr><td>Signal Efficiency</td><td>Background Rejection</td></tr>\n",
       "<tr><td>0.0              </td><td>100000.00           </td></tr>\n",
       "<tr><td>83.3             </td><td>7.00                </td></tr>\n",
       "<tr><td>83.3             </td><td>7.00                </td></tr>\n",
       "</tbody>\n",
       "</table>"
      ],
      "text/plain": [
       "<IPython.core.display.HTML object>"
      ]
     },
     "metadata": {},
     "output_type": "display_data"
    }
   ],
   "source": [
    "#looking for 50% signal efficiency\n",
    "index_20,signal_efficiency_20 =find_nearest_ind(tpr,0.2)\n",
    "index_50,signal_efficiency_50 =find_nearest_ind(tpr,0.5)\n",
    "index_80,signal_efficiency_80 =find_nearest_ind(tpr,0.8)\n",
    "\n",
    "#print('Background rejection at {:.1f}% signal efficiency: {:.3}\\n'.format(signal_efficiency_20*100,background_rejection[index_20]))\n",
    "#print('Background rejection at {:.1f}% signal efficiency: {:.3}\\n'.format(signal_efficiency_50*100,background_rejection[index_50]))\n",
    "#print('Background rejection at {:.1f}% signal efficiency: {:.3}\\n'.format(signal_efficiency_80*100,background_rejection[index_80]))\n",
    "\n",
    "from IPython.display import HTML, display\n",
    "import tabulate\n",
    "table = [[\"Signal Efficiency\",\"Background Rejection\"],\n",
    "         [\"{:.1f}\".format(signal_efficiency_20*100),\"{:.2f}\".format(background_rejection[index_20])],\n",
    "         [\"{:.1f}\".format(signal_efficiency_50*100),\"{:.2f}\".format(background_rejection[index_50])],\n",
    "         [\"{:.1f}\".format(signal_efficiency_80*100),\"{:.2f}\".format(background_rejection[index_80])]]\n",
    "display(HTML(tabulate.tabulate(table, tablefmt='html')))"
   ]
  },
  {
   "cell_type": "code",
   "execution_count": 27,
   "metadata": {},
   "outputs": [],
   "source": [
    "#Would like a DNN distribution for the signal and background samples (probability density as a function of neural network output)\n",
    "#plt.plot(outputs.data[:,1])\n",
    "#print(outputs.data[:,1])"
   ]
  },
  {
   "cell_type": "markdown",
   "metadata": {},
   "source": [
    "# Results: Testing the Neural Network"
   ]
  },
  {
   "cell_type": "code",
   "execution_count": 240,
   "metadata": {},
   "outputs": [],
   "source": [
    "###############################\n",
    "#Testing dataset loading class\n",
    "##############################\n",
    "class TestDataset(Dataset):\n",
    "    # Initialize our data, download, etc.\n",
    "    def __init__(self):\n",
    "        #read pickle file\n",
    "        df_test = pd.read_pickle(\"test.pkl\")\n",
    "        \n",
    "        #numpy representation of DataFrame\n",
    "        array_test = df_test.values\n",
    "        \n",
    "        self.len = array_test.shape[0]\n",
    "        self.width = array_test.shape[1]\n",
    "        self.x_data = torch.from_numpy(array_test[:,0:90]).float()\n",
    "        self.y_data = torch.from_numpy(array_test[:,-1]).long()\n",
    "        #self.rawY_data = torch.from_numpy(array_test[:,-2]).long()\n",
    "        #self.weight = torch.from_numpy(array_test[:,0]).float()\n",
    "        \n",
    "    def __getitem__(self,index):\n",
    "        return self.x_data[index],self.y_data[index]#,self.weight[index],self.rawY_data[index]\n",
    "    \n",
    "    def __len__(self):\n",
    "        return self.len"
   ]
  },
  {
   "cell_type": "code",
   "execution_count": 241,
   "metadata": {},
   "outputs": [],
   "source": [
    "###############\n",
    "#Load test data\n",
    "###############\n",
    "testing_dataset = TestDataset()\n",
    "test_len = testing_dataset.len\n",
    "\n",
    "t_batch_size = 1000\n",
    "#make dataloader\n",
    "testing_loader = DataLoader(dataset=testing_dataset, batch_size=t_batch_size, shuffle=False, num_workers=2)"
   ]
  },
  {
   "cell_type": "code",
   "execution_count": 256,
   "metadata": {},
   "outputs": [
    {
     "name": "stdout",
     "output_type": "stream",
     "text": [
      "Accuracy:0.9096 \n",
      "\n",
      "--- 2.0680 seconds ---\n",
      "--- 0 min and 3 sec ---\n"
     ]
    }
   ],
   "source": [
    "#########\n",
    "#Testing\n",
    "########\n",
    "start_time = time.time()\n",
    "\n",
    "model.eval()\n",
    "test_loss=0\n",
    "test_corrects=0\n",
    "final_test_outputs = []\n",
    "final_test_preds = []\n",
    "    \n",
    "with torch.no_grad():\n",
    "    for data in testing_loader:\n",
    "        inputs,labels=data\n",
    "        inputs,labels = Variable(inputs), Variable(labels)\n",
    "        test_outputs = model(inputs)\n",
    "        #sum up batch loss\n",
    "        loss = criterion(test_outputs,labels)\n",
    "        #get the index of the max log-probability\n",
    "        test_preds=torch.max(test_outputs.data,1)[1]\n",
    "        test_loss += loss.item()*inputs.size(0)\n",
    "\n",
    "        #extract TP+TN\n",
    "        test_corrects += torch.sum(test_preds == labels.data)\n",
    "\n",
    "        final_test_preds.extend(test_preds.data.numpy())\n",
    "        final_test_outputs.extend(test_outputs[:,1].data.numpy())\n",
    "        #print(len(final_test_outputs),len(final_test_preds), len(labels))\n",
    "\n",
    "    final_test_loss_test = test_loss / test_len\n",
    "    final_test_acc = test_corrects.double() / test_len\n",
    "\n",
    "    print('Accuracy:{:.4f} \\n'.format(final_test_acc))\n",
    "\n",
    "end_time = time.time()   \n",
    "print(\"--- {:.4f} seconds ---\".format(end_time-start_time)) \n",
    "print(\"--- {} min and {} sec ---\".format(math.floor((end_time-start_time)/60),math.ceil((end_time-start_time)%60)))"
   ]
  },
  {
   "cell_type": "code",
   "execution_count": 248,
   "metadata": {},
   "outputs": [
    {
     "name": "stdout",
     "output_type": "stream",
     "text": [
      "40909 40909 40909\n",
      "AUC: 0.9601\n"
     ]
    },
    {
     "data": {
      "image/png": "[encoded data removed]",
      "text/plain": [
       "<Figure size 432x288 with 1 Axes>"
      ]
     },
     "metadata": {
      "needs_background": "light"
     },
     "output_type": "display_data"
    }
   ],
   "source": [
    "##########\n",
    "#ROC curve\n",
    "##########\n",
    "predicted = np.array(final_test_outputs)\n",
    "truth = testing_dataset.y_data.numpy()\n",
    "\n",
    "\n",
    "fpr, tpr, thresholds = sklm.roc_curve(truth,predicted,pos_label=1)\n",
    "auc = sklm.roc_auc_score(truth,predicted)\n",
    "print(len(fpr),len(tpr),len(thresholds))\n",
    "\n",
    "print('AUC: {:.4f}'.format(auc))\n",
    "\n",
    "#ROC curve\n",
    "fig3 = plt.figure(3)\n",
    "ax3 = fig3.add_subplot(111)\n",
    "\n",
    "#plt.plot(fpr,tpr)\n",
    "plt.plot(fpr,tpr,linewidth=2,linestyle='solid',color='orange',label=\"ROC curve (AUC={:.4f})\".format(auc))\n",
    "plt.plot(fpr,fpr,linewidth=2,linestyle='dashed',color='b')\n",
    "plt.title('ROC Curve')\n",
    "\n",
    "ax3.set_xlabel('True Positive Rate')\n",
    "ax3.set_ylabel('False Positive Rate')\n",
    "\n",
    "plt.legend(loc='lower right')\n",
    "plt.legend()\n",
    "plt.show()"
   ]
  },
  {
   "cell_type": "code",
   "execution_count": 112,
   "metadata": {},
   "outputs": [
    {
     "name": "stderr",
     "output_type": "stream",
     "text": [
      "/usr/local/lib/python3.6/dist-packages/sklearn/metrics/ranking.py:643: UndefinedMetricWarning: No negative samples in y_true, false positive value should be meaningless\n",
      "  UndefinedMetricWarning)\n"
     ]
    }
   ],
   "source": [
    "test_fpr, test_tpr, test_thresholds = sklm.roc_curve(test_labels.data,test_outputs.data[:,1],pos_label=None)"
   ]
  },
  {
   "cell_type": "code",
   "execution_count": 113,
   "metadata": {},
   "outputs": [
    {
     "name": "stdout",
     "output_type": "stream",
     "text": [
      "32\n",
      "32\n",
      "32\n",
      "0\n",
      "0\n",
      "32\n",
      "1.3017409e-11\n",
      "tensor([2.7790e-10, 1.0000e+00])\n",
      "4209\n",
      "404000\n"
     ]
    }
   ],
   "source": [
    "print(len(test_outputs.data[:,1]))\n",
    "print(len(test_labels.data))\n",
    "print(len(pred_list))\n",
    "print(len(test_prediction))\n",
    "print(len(test_prediction_list))\n",
    "#rawLabels.numpy()[:]==1\n",
    "print(len(rawLabels))\n",
    "print(pred_list[1])\n",
    "print(test_outputs[1])\n",
    "print(len(testing_loader))\n",
    "print(len(testing_dataset))"
   ]
  },
  {
   "cell_type": "code",
   "execution_count": 42,
   "metadata": {},
   "outputs": [],
   "source": [
    "# from sklearn.metrics import accuracy_score\n",
    "# def roc_auc_score_FIXED(y_true, y_pred):\n",
    "#     if len(np.unique(y_true)) == 1: # bug in roc_auc_score\n",
    "#         return accuracy_score(y_true, np.rint(y_pred))\n",
    "#     return roc_auc_score(y_true, y_pred)\n",
    "\n",
    "# fpr, tpr, thresholds = sklm.roc_curve(labels.data,outputs.data[:,1],pos_label=None)\n",
    "# auc = sklm.roc_auc_score(labels.data,outputs.data[:,1])\n",
    "\n",
    "# print('AUC: {:.4f}'.format(auc))\n",
    "# #ROC curve\n",
    "# fig3 = plt.figure(3)\n",
    "# ax3 = fig3.add_subplot(111)\n",
    "\n",
    "# #plt.plot(fpr,tpr)\n",
    "# plt.plot(fpr,tpr,linewidth=2,linestyle='solid',color='orange',label=\"ROC curve (AUC={:.4f})\".format(auc))\n",
    "# plt.plot(fpr,fpr,linewidth=2,linestyle='dashed',color='b')\n",
    "# plt.title('ROC Curve')#,color='w')\n",
    "\n",
    "# # ax3.spines['bottom'].set_color('white')\n",
    "# # ax3.spines['top'].set_color('white')\n",
    "# # ax3.xaxis.label.set_color('white')\n",
    "# # ax3.yaxis.label.set_color('white')\n",
    "# # ax3.tick_params(axis='x', colors='white')\n",
    "# # ax3.tick_params(axis='y', colors='white')\n",
    "\n",
    "# ax3.set_xlabel('True Positive Rate')#, color='white')\n",
    "# ax3.set_ylabel('False Positive Rate')#, color='white')\n",
    "\n",
    "# plt.legend(loc='lower right')\n",
    "# plt.legend()\n",
    "# plt.show()"
   ]
  },
  {
   "cell_type": "code",
   "execution_count": 114,
   "metadata": {},
   "outputs": [
    {
     "ename": "ValueError",
     "evalue": "Only one class present in y_true. ROC AUC score is not defined in that case.",
     "output_type": "error",
     "traceback": [
      "\u001b[0;31m---------------------------------------------------------------------------\u001b[0m",
      "\u001b[0;31mValueError\u001b[0m                                Traceback (most recent call last)",
      "\u001b[0;32m<ipython-input-114-90b8d31f1a43>\u001b[0m in \u001b[0;36m<module>\u001b[0;34m\u001b[0m\n\u001b[1;32m      1\u001b[0m \u001b[0mtest_fpr\u001b[0m\u001b[0;34m,\u001b[0m \u001b[0mtest_tpr\u001b[0m\u001b[0;34m,\u001b[0m \u001b[0mtest_thresholds\u001b[0m \u001b[0;34m=\u001b[0m \u001b[0msklm\u001b[0m\u001b[0;34m.\u001b[0m\u001b[0mroc_curve\u001b[0m\u001b[0;34m(\u001b[0m\u001b[0mtest_labels\u001b[0m\u001b[0;34m.\u001b[0m\u001b[0mdata\u001b[0m\u001b[0;34m,\u001b[0m\u001b[0mtest_outputs\u001b[0m\u001b[0;34m.\u001b[0m\u001b[0mdata\u001b[0m\u001b[0;34m[\u001b[0m\u001b[0;34m:\u001b[0m\u001b[0;34m,\u001b[0m\u001b[0;36m1\u001b[0m\u001b[0;34m]\u001b[0m\u001b[0;34m,\u001b[0m\u001b[0mpos_label\u001b[0m\u001b[0;34m=\u001b[0m\u001b[0;32mNone\u001b[0m\u001b[0;34m)\u001b[0m\u001b[0;34m\u001b[0m\u001b[0;34m\u001b[0m\u001b[0m\n\u001b[1;32m      2\u001b[0m \u001b[0;31m#auc = roc_auc_score_FIXED(test_labels.data,test_outputs.data[:,1])\u001b[0m\u001b[0;34m\u001b[0m\u001b[0;34m\u001b[0m\u001b[0;34m\u001b[0m\u001b[0m\n\u001b[0;32m----> 3\u001b[0;31m \u001b[0mauc\u001b[0m \u001b[0;34m=\u001b[0m \u001b[0msklm\u001b[0m\u001b[0;34m.\u001b[0m\u001b[0mroc_auc_score\u001b[0m\u001b[0;34m(\u001b[0m\u001b[0mtest_labels\u001b[0m\u001b[0;34m.\u001b[0m\u001b[0mdata\u001b[0m\u001b[0;34m,\u001b[0m\u001b[0mtest_outputs\u001b[0m\u001b[0;34m.\u001b[0m\u001b[0mdata\u001b[0m\u001b[0;34m[\u001b[0m\u001b[0;34m:\u001b[0m\u001b[0;34m,\u001b[0m\u001b[0;36m1\u001b[0m\u001b[0;34m]\u001b[0m\u001b[0;34m)\u001b[0m\u001b[0;34m\u001b[0m\u001b[0;34m\u001b[0m\u001b[0m\n\u001b[0m\u001b[1;32m      4\u001b[0m \u001b[0;34m\u001b[0m\u001b[0m\n\u001b[1;32m      5\u001b[0m \u001b[0;31m#auc = sklm.roc_auc_score(test_labels.data,test_outputs.data[:,1])\u001b[0m\u001b[0;34m\u001b[0m\u001b[0;34m\u001b[0m\u001b[0;34m\u001b[0m\u001b[0m\n",
      "\u001b[0;32m/usr/local/lib/python3.6/dist-packages/sklearn/metrics/ranking.py\u001b[0m in \u001b[0;36mroc_auc_score\u001b[0;34m(y_true, y_score, average, sample_weight, max_fpr)\u001b[0m\n\u001b[1;32m    349\u001b[0m     return _average_binary_score(\n\u001b[1;32m    350\u001b[0m         \u001b[0m_binary_roc_auc_score\u001b[0m\u001b[0;34m,\u001b[0m \u001b[0my_true\u001b[0m\u001b[0;34m,\u001b[0m \u001b[0my_score\u001b[0m\u001b[0;34m,\u001b[0m \u001b[0maverage\u001b[0m\u001b[0;34m,\u001b[0m\u001b[0;34m\u001b[0m\u001b[0;34m\u001b[0m\u001b[0m\n\u001b[0;32m--> 351\u001b[0;31m         sample_weight=sample_weight)\n\u001b[0m\u001b[1;32m    352\u001b[0m \u001b[0;34m\u001b[0m\u001b[0m\n\u001b[1;32m    353\u001b[0m \u001b[0;34m\u001b[0m\u001b[0m\n",
      "\u001b[0;32m/usr/local/lib/python3.6/dist-packages/sklearn/metrics/base.py\u001b[0m in \u001b[0;36m_average_binary_score\u001b[0;34m(binary_metric, y_true, y_score, average, sample_weight)\u001b[0m\n\u001b[1;32m     75\u001b[0m \u001b[0;34m\u001b[0m\u001b[0m\n\u001b[1;32m     76\u001b[0m     \u001b[0;32mif\u001b[0m \u001b[0my_type\u001b[0m \u001b[0;34m==\u001b[0m \u001b[0;34m\"binary\"\u001b[0m\u001b[0;34m:\u001b[0m\u001b[0;34m\u001b[0m\u001b[0;34m\u001b[0m\u001b[0m\n\u001b[0;32m---> 77\u001b[0;31m         \u001b[0;32mreturn\u001b[0m \u001b[0mbinary_metric\u001b[0m\u001b[0;34m(\u001b[0m\u001b[0my_true\u001b[0m\u001b[0;34m,\u001b[0m \u001b[0my_score\u001b[0m\u001b[0;34m,\u001b[0m \u001b[0msample_weight\u001b[0m\u001b[0;34m=\u001b[0m\u001b[0msample_weight\u001b[0m\u001b[0;34m)\u001b[0m\u001b[0;34m\u001b[0m\u001b[0;34m\u001b[0m\u001b[0m\n\u001b[0m\u001b[1;32m     78\u001b[0m \u001b[0;34m\u001b[0m\u001b[0m\n\u001b[1;32m     79\u001b[0m     \u001b[0mcheck_consistent_length\u001b[0m\u001b[0;34m(\u001b[0m\u001b[0my_true\u001b[0m\u001b[0;34m,\u001b[0m \u001b[0my_score\u001b[0m\u001b[0;34m,\u001b[0m \u001b[0msample_weight\u001b[0m\u001b[0;34m)\u001b[0m\u001b[0;34m\u001b[0m\u001b[0;34m\u001b[0m\u001b[0m\n",
      "\u001b[0;32m/usr/local/lib/python3.6/dist-packages/sklearn/metrics/ranking.py\u001b[0m in \u001b[0;36m_binary_roc_auc_score\u001b[0;34m(y_true, y_score, sample_weight)\u001b[0m\n\u001b[1;32m    317\u001b[0m     \u001b[0;32mdef\u001b[0m \u001b[0m_binary_roc_auc_score\u001b[0m\u001b[0;34m(\u001b[0m\u001b[0my_true\u001b[0m\u001b[0;34m,\u001b[0m \u001b[0my_score\u001b[0m\u001b[0;34m,\u001b[0m \u001b[0msample_weight\u001b[0m\u001b[0;34m=\u001b[0m\u001b[0;32mNone\u001b[0m\u001b[0;34m)\u001b[0m\u001b[0;34m:\u001b[0m\u001b[0;34m\u001b[0m\u001b[0;34m\u001b[0m\u001b[0m\n\u001b[1;32m    318\u001b[0m         \u001b[0;32mif\u001b[0m \u001b[0mlen\u001b[0m\u001b[0;34m(\u001b[0m\u001b[0mnp\u001b[0m\u001b[0;34m.\u001b[0m\u001b[0munique\u001b[0m\u001b[0;34m(\u001b[0m\u001b[0my_true\u001b[0m\u001b[0;34m)\u001b[0m\u001b[0;34m)\u001b[0m \u001b[0;34m!=\u001b[0m \u001b[0;36m2\u001b[0m\u001b[0;34m:\u001b[0m\u001b[0;34m\u001b[0m\u001b[0;34m\u001b[0m\u001b[0m\n\u001b[0;32m--> 319\u001b[0;31m             raise ValueError(\"Only one class present in y_true. ROC AUC score \"\n\u001b[0m\u001b[1;32m    320\u001b[0m                              \"is not defined in that case.\")\n\u001b[1;32m    321\u001b[0m \u001b[0;34m\u001b[0m\u001b[0m\n",
      "\u001b[0;31mValueError\u001b[0m: Only one class present in y_true. ROC AUC score is not defined in that case."
     ]
    }
   ],
   "source": [
    "test_fpr, test_tpr, test_thresholds = sklm.roc_curve(test_labels.data,test_outputs.data[:,1],pos_label=None)\n",
    "#auc = roc_auc_score_FIXED(test_labels.data,test_outputs.data[:,1])\n",
    "auc = sklm.roc_auc_score(test_labels.data,test_outputs.data[:,1])\n",
    "\n",
    "#auc = sklm.roc_auc_score(test_labels.data,test_outputs.data[:,1])\n",
    "\n",
    "print('AUC: {:.4f}'.format(auc))\n",
    "\n",
    "#ROC curve\n",
    "fig3 = plt.figure(3)\n",
    "ax3 = fig3.add_subplot(111)\n",
    "\n",
    "#plt.plot(fpr,tpr)\n",
    "plt.plot(test_fpr,test_tpr,linewidth=2,linestyle='solid',color='orange',label=\"ROC curve (AUC={:.4f})\".format(auc))\n",
    "plt.plot(test_fpr,test_fpr,linewidth=2,linestyle='dashed',color='b')\n",
    "plt.title('ROC Curve')\n",
    "\n",
    "ax3.set_xlabel('True Positive Rate')#, color='white')\n",
    "ax3.set_ylabel('False Positive Rate')#, color='white')\n",
    "\n",
    "plt.legend(loc='lower right')\n",
    "plt.legend()\n",
    "plt.show()\n",
    "\n",
    "print(test_fpr[3])\n",
    "print(test_tpr[3])\n",
    "print(test_thresholds[3])"
   ]
  },
  {
   "cell_type": "code",
   "execution_count": 249,
   "metadata": {},
   "outputs": [
    {
     "data": {
      "image/png": "[encoded data removed]",
      "text/plain": [
       "<Figure size 432x288 with 1 Axes>"
      ]
     },
     "metadata": {
      "needs_background": "light"
     },
     "output_type": "display_data"
    },
    {
     "name": "stdout",
     "output_type": "stream",
     "text": [
      "nan\n"
     ]
    }
   ],
   "source": [
    "test_background_rejection = 1.0/test_fpr\n",
    "#background_rejection = 1/fpr[2:] #the first and second elements of fpr are usually zero, so disregard these to avoid divide by zero\n",
    "\n",
    "#ROC curve (using background rejection)\n",
    "fig4 = plt.figure(4)\n",
    "ax4 = fig4.add_subplot(111)\n",
    "\n",
    "plt.semilogy(test_tpr,test_background_rejection,linewidth=2,linestyle='solid',color='blue',label=\"ROC curve\")\n",
    "plt.title('ROC Curve, Jet $p_T$ = 550 - 650 GeV')#,color='w')\n",
    "ax4.set_xlabel('Top Tagging Efficiency')#, color='white')\n",
    "ax4.set_ylabel('Background Rejection, 1/fpr')#, color='white')\n",
    "\n",
    "plt.ylim(1, 1e5)\n",
    "\n",
    "plt.legend(loc='upper right')\n",
    "plt.legend()\n",
    "plt.show()\n",
    "\n",
    "print(test_fpr[0])"
   ]
  },
  {
   "cell_type": "code",
   "execution_count": null,
   "metadata": {},
   "outputs": [],
   "source": []
  }
 ],
 "metadata": {
  "kernelspec": {
   "display_name": "Python 3",
   "language": "python",
   "name": "python3"
  },
  "language_info": {
   "codemirror_mode": {
    "name": "ipython",
    "version": 3
   },
   "file_extension": ".py",
   "mimetype": "text/x-python",
   "name": "python",
   "nbconvert_exporter": "python",
   "pygments_lexer": "ipython3",
   "version": "3.6.7"
  }
 },
 "nbformat": 4,
 "nbformat_minor": 2
}
