{
 "cells": [
  {
   "cell_type": "markdown",
   "metadata": {},
   "source": [
    "# Pytorch Deep Neural Network V5\n",
    "## Analysis of Gregor Dataset (Top Tagging)\n",
    "\n",
    "## Uses preprocessed data\n",
    "\n",
    "### 4 hidden layer NN\n",
    "### Has real time plotting of training\n",
    "\n",
    "## Started June, 6 2019\n",
    "### Genevieve Hayes\n"
   ]
  },
  {
   "cell_type": "code",
   "execution_count": 26,
   "metadata": {},
   "outputs": [],
   "source": [
    "import pandas as pd\n",
    "import numpy as np\n",
    "import torch\n",
    "import torch.nn as nn\n",
    "import torchvision\n",
    "import torchvision.transforms as transforms\n",
    "import torch.nn.functional as F\n",
    "import seaborn as sb\n",
    "import matplotlib.pylab as plt\n",
    "#import matplotlib as mpl\n",
    "import h5py\n",
    "import tables\n",
    "import math\n",
    "import time\n",
    "import sklearn.metrics as sklm"
   ]
  },
  {
   "cell_type": "code",
   "execution_count": 27,
   "metadata": {},
   "outputs": [],
   "source": [
    "run_gpu=False\n",
    "if run_gpu:\n",
    "    device = torch.device(\"cuda:0\" if torch.cuda.is_available() else \"cpu\")\n",
    "else:\n",
    "    device = torch.device(\"cpu\")"
   ]
  },
  {
   "cell_type": "code",
   "execution_count": 28,
   "metadata": {},
   "outputs": [],
   "source": [
    "#function to catch divisions by zero\n",
    "def safe_div(x,y):\n",
    "    division = np.empty(np.size(y))\n",
    "    for idx in range(np.size(y)):\n",
    "        if y[idx] == 0:\n",
    "            division[idx] = x / 0.00001\n",
    "        else:\n",
    "            division[idx] = x / y[idx]       \n",
    "    return division\n",
    "\n",
    "#background_rejection = safe_div(1,fpr)"
   ]
  },
  {
   "cell_type": "code",
   "execution_count": 29,
   "metadata": {},
   "outputs": [],
   "source": [
    "from torch.autograd import Variable\n",
    "from torch.utils.data import Dataset, DataLoader, random_split\n",
    "\n",
    "# Training dataset loading class\n",
    "class TrainDataset(Dataset):\n",
    "    # Initialize our data, download, etc.  \n",
    "    def __init__(self):\n",
    "        #read pickle file\n",
    "        df_train = pd.read_pickle(\"train.pkl\")\n",
    "        \n",
    "        #numpy representation of DataFrame\n",
    "        array_train = df_train.values\n",
    "        \n",
    "        self.len = array_train.shape[0]\n",
    "        self.width = array_train.shape[1]\n",
    "        self.x_data = torch.from_numpy(array_train[:,0:90]).float() #x data is only the 4 vectors of the constituents   \n",
    "        self.y_data = torch.from_numpy(array_train[:,-1]).long() #y data is only the labels (0=QCD, 1=top)\n",
    "        self.rawY_data = torch.from_numpy(array_train[:,-2]).long()\n",
    "        self.weight = torch.from_numpy(array_train[:,0]).float()\n",
    "        \n",
    "    def __getitem__(self,index):\n",
    "        return self.x_data[index],self.y_data[index], self.weight[index]\n",
    "    \n",
    "    def __len__(self):\n",
    "        return self.len\n",
    "    \n",
    "# Validation dataset loading class\n",
    "class ValDataset(Dataset):\n",
    "    # Initialize our data, download, etc.\n",
    "    def __init__(self):\n",
    "        #read pickle file\n",
    "        df_val = pd.read_pickle(\"val.pkl\")\n",
    "        \n",
    "        #numpy representation of DataFrame\n",
    "        array_val = df_val.values\n",
    "        \n",
    "        self.len = array_val.shape[0]\n",
    "        self.width = array_val.shape[1]\n",
    "        self.x_data = torch.from_numpy(array_val[:,0:90]).float()\n",
    "        self.y_data = torch.from_numpy(array_val[:,-1]).long()\n",
    "        self.rawY_data = torch.from_numpy(array_val[:,-2]).long()\n",
    "        self.weight = torch.from_numpy(array_val[:,0]).float()\n",
    "        \n",
    "    def __getitem__(self,index):\n",
    "        return self.x_data[index],self.y_data[index], self.weight[index]\n",
    "    \n",
    "    def __len__(self):\n",
    "        return self.len"
   ]
  },
  {
   "cell_type": "code",
   "execution_count": 30,
   "metadata": {},
   "outputs": [],
   "source": [
    "########################\n",
    "# Load Preprocessed Data\n",
    "########################\n",
    "training_dataset = TrainDataset()\n",
    "validation_dataset = ValDataset()\n",
    "\n",
    "train_len = training_dataset.len\n",
    "train_width = training_dataset.width\n",
    "val_len = validation_dataset.len\n",
    "val_width = validation_dataset.width"
   ]
  },
  {
   "cell_type": "markdown",
   "metadata": {},
   "source": [
    "## Net Structure "
   ]
  },
  {
   "cell_type": "code",
   "execution_count": 75,
   "metadata": {},
   "outputs": [],
   "source": [
    "################################################\n",
    "#Creating Network Structure class in PyTorch way\n",
    "################################################\n",
    "class Net(torch.nn.Module):\n",
    "    def __init__(self):\n",
    "        super(Net,self).__init__()\n",
    "        #Input layer is 30 constituents each with 3 features\n",
    "        self.linear1 = nn.Linear(90,300) #4 hidden layers\n",
    "        self.linear2 = nn.Linear(300,102)\n",
    "        self.linear3 = nn.Linear(102,12)    \n",
    "        self.linear4 = nn.Linear(12,6)\n",
    "        self.linear5 = nn.Linear(6,2)  #1 output (top or qcd)\n",
    "        \n",
    "    def forward(self, x):\n",
    "#        x = x.view(,-1) #Flatten the data\n",
    "        out1 = F.relu(self.linear1(x))\n",
    "        out2 = F.relu(self.linear2(out1))\n",
    "        out3 = F.relu(self.linear3(out2))\n",
    "        out4 = F.relu(self.linear4(out3))\n",
    "        \n",
    "        #y_pred = F.linear(self.linear5(out4),1)\n",
    "        \n",
    "        y_pred = out4\n",
    "        \n",
    "        #y_pred = F.softmax(self.linear5(out4),1) #softmax activation function\n",
    "        #y_pred = torch.softmax(self.linear5(out4),1) #softmax activation function\n",
    "        #y_pred = torch.sigmoid(self.linear5(out4)) #sigmoid activation function\n",
    "        #y_preds.size() --> 5000, 2\n",
    "        return y_pred\n",
    "model = Net()"
   ]
  },
  {
   "cell_type": "markdown",
   "metadata": {},
   "source": [
    "## Construct Loss and Optimizer"
   ]
  },
  {
   "cell_type": "code",
   "execution_count": 76,
   "metadata": {},
   "outputs": [],
   "source": [
    "num_epochs = 8\n",
    "#batch_len = 96\n",
    "batch_len = 1000\n",
    "learning_rate = 0.0001"
   ]
  },
  {
   "cell_type": "code",
   "execution_count": 77,
   "metadata": {},
   "outputs": [],
   "source": [
    "######################\n",
    "#Loss and optimization\n",
    "######################\n",
    "#criterion = torch.nn.BCELoss()\n",
    "criterion = nn.CrossEntropyLoss()\n",
    "\n",
    "#optimizer = torch.optim.SGD(model.parameters(), lr=learning_rate, momentum=0.5) #Stochastic Gradient Descent with momentum\n",
    "optimizer = torch.optim.Adam(model.parameters(), lr=learning_rate) #ADAM optimizer"
   ]
  },
  {
   "cell_type": "code",
   "execution_count": 78,
   "metadata": {},
   "outputs": [],
   "source": [
    "######################\n",
    "#Make Dataloaders\n",
    "######################\n",
    "training_loader = DataLoader(dataset=training_dataset, batch_size=batch_len, shuffle=True, num_workers=2)\n",
    "validation_loader = DataLoader(dataset=validation_dataset, batch_size=batch_len, shuffle=True, num_workers=2)"
   ]
  },
  {
   "cell_type": "code",
   "execution_count": 79,
   "metadata": {},
   "outputs": [
    {
     "name": "stdout",
     "output_type": "stream",
     "text": [
      "torch.Size([1000])\n",
      "torch.Size([1000, 6])\n"
     ]
    }
   ],
   "source": [
    "#####\n",
    "#Trial \n",
    "#####\n",
    "final_out = []\n",
    "for i, data in enumerate(training_loader, 0):\n",
    "        ### 1. get the inputs ###\n",
    "        inputs,labels,_=data\n",
    "        ### 2. wrap them in Variable ###\n",
    "        inputs, labels = Variable(inputs), Variable(labels)\n",
    "        inputs, labels = inputs.to(device), labels.to(device)\n",
    "        #Forward pass: Compute predicted y by passing x to the model\n",
    "        outputs=model(inputs)\n",
    "        preds=torch.max(outputs.data,1)[1]\n",
    "        final_out.extend(preds)\n",
    "        #preds has size [batch_size]\n",
    "        \n",
    "#check size and shape of labels, inputs, outputs\n",
    "\n",
    "print(labels.shape)    #= torch.Size([500])\n",
    "#print(inputs.shape)    #= torch.Size([500, 800])\n",
    "print(outputs.data.shape)   #= torch.Size([500, 2])\n",
    "#print(len(final_out))  #= 1211000"
   ]
  },
  {
   "cell_type": "code",
   "execution_count": 80,
   "metadata": {},
   "outputs": [
    {
     "name": "stdout",
     "output_type": "stream",
     "text": [
      "tensor([[1.0862e-02, 2.0671e-01, 1.0043e-01, 0.0000e+00, 2.4306e-01, 6.7649e-02],\n",
      "        [4.0233e-04, 2.0323e-01, 1.2090e-01, 0.0000e+00, 2.4392e-01, 7.3919e-02],\n",
      "        [0.0000e+00, 1.9904e-01, 1.2278e-01, 0.0000e+00, 2.4060e-01, 7.4808e-02],\n",
      "        [2.9182e-03, 2.0415e-01, 1.2129e-01, 0.0000e+00, 2.4748e-01, 7.5438e-02],\n",
      "        [0.0000e+00, 1.9643e-01, 1.2147e-01, 0.0000e+00, 2.4209e-01, 7.6721e-02],\n",
      "        [0.0000e+00, 1.9064e-01, 1.2785e-01, 0.0000e+00, 2.3841e-01, 8.0048e-02],\n",
      "        [0.0000e+00, 1.9506e-01, 1.2488e-01, 0.0000e+00, 2.3992e-01, 7.7445e-02],\n",
      "        [0.0000e+00, 1.9835e-01, 1.2410e-01, 0.0000e+00, 2.3980e-01, 7.6240e-02],\n",
      "        [3.6924e-03, 2.0140e-01, 1.2101e-01, 0.0000e+00, 2.4658e-01, 7.7692e-02],\n",
      "        [0.0000e+00, 1.8954e-01, 1.2845e-01, 0.0000e+00, 2.3830e-01, 8.0673e-02],\n",
      "        [4.6747e-03, 2.0360e-01, 1.2281e-01, 0.0000e+00, 2.3768e-01, 7.3494e-02],\n",
      "        [1.4406e-03, 2.0703e-01, 1.1987e-01, 0.0000e+00, 2.4049e-01, 7.0503e-02],\n",
      "        [0.0000e+00, 1.9093e-01, 1.2829e-01, 0.0000e+00, 2.4022e-01, 8.0910e-02],\n",
      "        [0.0000e+00, 2.0760e-01, 1.2248e-01, 0.0000e+00, 2.4135e-01, 7.0361e-02],\n",
      "        [0.0000e+00, 1.9822e-01, 1.1952e-01, 0.0000e+00, 2.4879e-01, 7.6901e-02],\n",
      "        [0.0000e+00, 1.9788e-01, 1.2409e-01, 0.0000e+00, 2.3966e-01, 7.6271e-02],\n",
      "        [6.8186e-04, 2.0173e-01, 1.2180e-01, 0.0000e+00, 2.4232e-01, 7.4651e-02],\n",
      "        [3.2470e-03, 2.0401e-01, 1.2120e-01, 0.0000e+00, 2.3824e-01, 7.2531e-02],\n",
      "        [0.0000e+00, 1.9389e-01, 1.2521e-01, 0.0000e+00, 2.4050e-01, 7.8080e-02],\n",
      "        [0.0000e+00, 1.9320e-01, 1.2578e-01, 0.0000e+00, 2.4439e-01, 7.9767e-02],\n",
      "        [0.0000e+00, 1.9431e-01, 1.2699e-01, 0.0000e+00, 2.3663e-01, 7.7957e-02],\n",
      "        [7.4670e-03, 2.0651e-01, 1.2286e-01, 0.0000e+00, 2.3984e-01, 7.3322e-02],\n",
      "        [0.0000e+00, 1.9485e-01, 1.2591e-01, 0.0000e+00, 2.4176e-01, 7.8859e-02],\n",
      "        [0.0000e+00, 2.0116e-01, 1.2253e-01, 0.0000e+00, 2.3975e-01, 7.3125e-02],\n",
      "        [0.0000e+00, 1.9629e-01, 1.2473e-01, 0.0000e+00, 2.4245e-01, 7.6379e-02],\n",
      "        [0.0000e+00, 1.9951e-01, 1.2316e-01, 0.0000e+00, 2.3983e-01, 7.5313e-02],\n",
      "        [0.0000e+00, 1.9659e-01, 1.2390e-01, 0.0000e+00, 2.4034e-01, 7.6550e-02],\n",
      "        [0.0000e+00, 1.7627e-01, 1.2603e-01, 0.0000e+00, 2.3886e-01, 8.0290e-02],\n",
      "        [0.0000e+00, 1.9579e-01, 1.2102e-01, 0.0000e+00, 2.4379e-01, 7.7949e-02],\n",
      "        [0.0000e+00, 1.9940e-01, 1.2273e-01, 0.0000e+00, 2.4050e-01, 7.5203e-02],\n",
      "        [1.2161e-03, 2.0202e-01, 1.2174e-01, 0.0000e+00, 2.3918e-01, 7.3581e-02],\n",
      "        [0.0000e+00, 2.1014e-01, 1.1811e-01, 0.0000e+00, 2.3802e-01, 6.6743e-02],\n",
      "        [0.0000e+00, 2.0128e-01, 1.2131e-01, 0.0000e+00, 2.4080e-01, 7.3873e-02],\n",
      "        [0.0000e+00, 1.9681e-01, 1.2422e-01, 0.0000e+00, 2.3947e-01, 7.6489e-02],\n",
      "        [0.0000e+00, 1.9426e-01, 1.2604e-01, 0.0000e+00, 2.3925e-01, 7.8278e-02],\n",
      "        [0.0000e+00, 1.9498e-01, 1.2410e-01, 0.0000e+00, 2.4157e-01, 7.7361e-02],\n",
      "        [0.0000e+00, 2.0025e-01, 1.2212e-01, 0.0000e+00, 2.4109e-01, 7.4767e-02],\n",
      "        [8.8474e-05, 1.9957e-01, 1.2326e-01, 0.0000e+00, 2.4051e-01, 7.5596e-02],\n",
      "        [0.0000e+00, 1.9774e-01, 1.2254e-01, 0.0000e+00, 2.4194e-01, 7.5780e-02]])\n"
     ]
    }
   ],
   "source": [
    "print(outputs.data[-40:-1])"
   ]
  },
  {
   "cell_type": "markdown",
   "metadata": {},
   "source": [
    "## Train the neural network"
   ]
  },
  {
   "cell_type": "code",
   "execution_count": 81,
   "metadata": {},
   "outputs": [
    {
     "name": "stdout",
     "output_type": "stream",
     "text": [
      "Epoch 0/7\n",
      "--\n",
      "Training Accuracy:0.6952\n",
      "Validation Accuracy:0.8149 \n",
      "\n"
     ]
    },
    {
     "data": {
      "image/png": "[encoded data removed]",
      "text/plain": [
       "<Figure size 432x288 with 1 Axes>"
      ]
     },
     "metadata": {
      "needs_background": "dark"
     },
     "output_type": "display_data"
    },
    {
     "name": "stdout",
     "output_type": "stream",
     "text": [
      "Epoch 1/7\n",
      "--\n",
      "Training Accuracy:0.8419\n",
      "Validation Accuracy:0.8642 \n",
      "\n",
      "Epoch 2/7\n",
      "--\n",
      "Training Accuracy:0.8734\n",
      "Validation Accuracy:0.8783 \n",
      "\n"
     ]
    },
    {
     "data": {
      "image/png": "[encoded data removed]",
      "text/plain": [
       "<Figure size 432x288 with 1 Axes>"
      ]
     },
     "metadata": {
      "needs_background": "dark"
     },
     "output_type": "display_data"
    },
    {
     "name": "stdout",
     "output_type": "stream",
     "text": [
      "Epoch 3/7\n",
      "--\n",
      "Training Accuracy:0.8822\n",
      "Validation Accuracy:0.8836 \n",
      "\n",
      "Epoch 4/7\n",
      "--\n",
      "Training Accuracy:0.8863\n",
      "Validation Accuracy:0.8867 \n",
      "\n"
     ]
    },
    {
     "data": {
      "image/png": "[encoded data removed]",
      "text/plain": [
       "<Figure size 432x288 with 1 Axes>"
      ]
     },
     "metadata": {
      "needs_background": "dark"
     },
     "output_type": "display_data"
    },
    {
     "name": "stdout",
     "output_type": "stream",
     "text": [
      "Epoch 5/7\n",
      "--\n",
      "Training Accuracy:0.8887\n",
      "Validation Accuracy:0.8889 \n",
      "\n",
      "Epoch 6/7\n",
      "--\n",
      "Training Accuracy:0.8906\n",
      "Validation Accuracy:0.8902 \n",
      "\n"
     ]
    },
    {
     "data": {
      "image/png": "[encoded data removed]",
      "text/plain": [
       "<Figure size 432x288 with 1 Axes>"
      ]
     },
     "metadata": {
      "needs_background": "dark"
     },
     "output_type": "display_data"
    },
    {
     "name": "stdout",
     "output_type": "stream",
     "text": [
      "Epoch 7/7\n",
      "--\n",
      "Training Accuracy:0.8918\n",
      "Validation Accuracy:0.8910 \n",
      "\n"
     ]
    },
    {
     "data": {
      "image/png": "[encoded data removed]",
      "text/plain": [
       "<Figure size 432x288 with 1 Axes>"
      ]
     },
     "metadata": {
      "needs_background": "dark"
     },
     "output_type": "display_data"
    },
    {
     "name": "stdout",
     "output_type": "stream",
     "text": [
      "--- 143.27351999282837 seconds ---\n",
      "--- 2 min and 24 sec ---\n"
     ]
    }
   ],
   "source": [
    "#########\n",
    "#Training\n",
    "#########\n",
    "start_time = time.time()\n",
    "\n",
    "training_loss_list=[]\n",
    "validation_loss_list=[]\n",
    "training_acc_list=[]\n",
    "validation_acc_list = []\n",
    "\n",
    "for epoch in range(num_epochs):\n",
    "#Training cycle (forward, backward, update)\n",
    "    if (epoch%1==0 or epoch==num_epochs - 1):\n",
    "        print('Epoch {}/{}'.format(epoch, num_epochs -1))\n",
    "        print('-' * 2)\n",
    "        \n",
    "    model.train()\n",
    "    train_loss = 0.0\n",
    "    train_corrects = 0\n",
    "    \n",
    "    for i, data in enumerate(training_loader, 0):\n",
    "        \n",
    "        ### 1. get the inputs ###\n",
    "        inputs,labels,_=data\n",
    "        \n",
    "        ### 2. wrap them in Variable ###\n",
    "        inputs, labels = Variable(inputs), Variable(labels)\n",
    "        inputs, labels = inputs.to(device), labels.to(device)\n",
    "        \n",
    "        \n",
    "        #Forward pass: Compute predicted y by passing x to the model\n",
    "        outputs=model(inputs)\n",
    "        preds=torch.max(outputs.data,1)[1]\n",
    "        \n",
    "        #print(labels.size())\n",
    "        #print(outputs.size())\n",
    "        #outputs = outputs[:,0]\n",
    "        #print(labels.size())\n",
    "        #print(outputs.size())\n",
    "        \n",
    "        #Compute loss\n",
    "        loss=criterion(outputs,labels)\n",
    "        #loss=criterion(outputs.float(),labels.float())\n",
    "        #loss=criterion(outputs.long(),labels.long())\n",
    "        \n",
    "        #Zero gradients, perform a backward pass, and update the weights\n",
    "        optimizer.zero_grad()\n",
    "        loss.backward()\n",
    "        optimizer.step()\n",
    "        \n",
    "        train_loss += loss.item()*inputs.size(0)\n",
    "        \n",
    "        #extract TP+TN\n",
    "        train_corrects += torch.sum(preds == labels.data)\n",
    "        \n",
    "    epocht_loss = train_loss/train_len\n",
    "    epocht_acc = train_corrects.double()/train_len\n",
    "\n",
    "    training_loss_list.append(epocht_loss)\n",
    "    training_acc_list.append(epocht_acc)\n",
    "    \n",
    "    #Visualization\n",
    "    print('Training Accuracy:{:.4f}'.format(epocht_acc))\n",
    "    if (epoch%2==0 or epoch==num_epochs - 1):\n",
    "    \n",
    "        counter = range(epoch+1)\n",
    "        figtrain = plt.figure()\n",
    "        axtrain = figtrain.add_subplot(111)\n",
    "        plt.plot(counter,training_loss_list,'-*r',linestyle = 'solid',label=\"training loss\")\n",
    "#Validation cycle (forward, save)\n",
    "    model.eval()\n",
    "    val_loss=0\n",
    "    val_corrects=0\n",
    "    final_output = []\n",
    "    final_preds = []\n",
    "    final_weights = []\n",
    "    final_labels = []\n",
    "    \n",
    "    with torch.no_grad():\n",
    "        for data in validation_loader:\n",
    "            inputs,labels,weights=data\n",
    "            inputs,labels = Variable(inputs), Variable(labels)\n",
    "            outputs = model(inputs)\n",
    "            weight_list=weights.numpy()\n",
    "            #sum up batch loss\n",
    "            loss = criterion(outputs,labels)\n",
    "            #loss = criterion(outputs.float(),labels.float())\n",
    "            #loss=criterion(outputs.long(),labels.long())\n",
    "            #get the index of the max log-probability\n",
    "            preds=torch.max(outputs.data,1)[1]\n",
    "            val_loss += loss.item()*inputs.size(0)\n",
    "            \n",
    "            #extract TP+TN\n",
    "            val_corrects += torch.sum(preds == labels.data)\n",
    "            \n",
    "            final_preds.extend(preds.data.numpy())\n",
    "            final_output.extend(outputs[:,1].data.numpy())\n",
    "            #final_output.extend(outputs.data.numpy())\n",
    "            final_weights.extend(weight_list)\n",
    "            final_labels.extend(labels.data.numpy())\n",
    "        \n",
    "        epoch_loss = val_loss / val_len\n",
    "        epoch_acc = val_corrects.double() / val_len\n",
    "        \n",
    "        validation_loss_list.append(epoch_loss)\n",
    "        validation_acc_list.append(epoch_acc)\n",
    "\n",
    "        #Visualization\n",
    "        print('Validation Accuracy:{:.4f} \\n'.format(epoch_acc))\n",
    "        if (epoch%2==0 or epoch==num_epochs - 1):\n",
    "            counter = range(epoch+1)\n",
    "            plt.plot(counter,validation_loss_list,'-*g',linestyle = 'solid',label=\"validation loss\")\n",
    "        \n",
    "            plt.title('Loss as a function of epoch',color='w')\n",
    "            plt.xlabel('Epoch',color='w')\n",
    "            plt.ylabel('Loss',color='w')\n",
    "            axtrain.spines['bottom'].set_color('white')\n",
    "            axtrain.spines['top'].set_color('white')\n",
    "            axtrain.tick_params(axis='x', colors='white')\n",
    "            axtrain.tick_params(axis='y', colors='white')\n",
    "            plt.legend(loc='upper right')\n",
    "            plt.show()\n",
    "  \n",
    "end_time = time.time()   \n",
    "print(\"--- {} seconds ---\".format(end_time-start_time)) \n",
    "print(\"--- {} min and {} sec ---\".format(math.floor((end_time-start_time)/60),math.ceil((end_time-start_time)%60)))"
   ]
  },
  {
   "cell_type": "markdown",
   "metadata": {},
   "source": [
    "## Evaluate model based on validation data and training data"
   ]
  },
  {
   "cell_type": "code",
   "execution_count": 57,
   "metadata": {},
   "outputs": [
    {
     "data": {
      "image/png": "[encoded data removed]",
      "text/plain": [
       "<Figure size 432x288 with 1 Axes>"
      ]
     },
     "metadata": {
      "needs_background": "light"
     },
     "output_type": "display_data"
    },
    {
     "name": "stdout",
     "output_type": "stream",
     "text": [
      "-----8 epochs-----\n",
      " \n",
      "Validation Accuracy: 0.8925\n",
      "Validation Accuracy:0.8907\n"
     ]
    }
   ],
   "source": [
    "x=range(num_epochs)\n",
    "y_train=training_loss_list\n",
    "y_val = validation_loss_list\n",
    "#y_test=testing_loss_list\n",
    "\n",
    "fig = plt.figure()\n",
    "ax1 = fig.add_subplot(111)\n",
    "plt.plot(x,y_train,marker='o',markersize=3,linewidth=2,linestyle='dashed',color='r',label=\"training loss\")\n",
    "plt.plot(x,y_val,marker='o',markersize=3,linewidth=2,linestyle = 'solid', color='g',label=\"validation loss\")\n",
    "#plt.plot(x,y_test,marker='o',markersize=3,linewidth=2,linestyle='dashed',color='b',label=\"test loss\")\n",
    "plt.title('Loss as a function of epoch')#,color='w')\n",
    "\n",
    "#ax1.spines['bottom'].set_color('white')\n",
    "#ax1.spines['top'].set_color('white')\n",
    "#ax1.xaxis.label.set_color('white')\n",
    "#ax1.yaxis.label.set_color('white')\n",
    "#ax1.tick_params(axis='x', colors='white')\n",
    "#ax1.tick_params(axis='y', colors='white')\n",
    "\n",
    "ax1.set_xlabel('Epochs')#, color='white')\n",
    "ax1.set_ylabel('Loss')#, color='white')\n",
    "\n",
    "plt.legend(loc='upper right')\n",
    "plt.legend()\n",
    "plt.show()\n",
    "\n",
    "print('-----{:d} epochs-----\\n \\nValidation Accuracy: {:.4f}'.format(num_epochs,training_acc_list[-1]))\n",
    "print('Validation Accuracy:{:.4f}'.format(validation_acc_list[-1]))#epocht_acc))"
   ]
  },
  {
   "cell_type": "code",
   "execution_count": 58,
   "metadata": {},
   "outputs": [
    {
     "data": {
      "image/png": "[encoded data removed]",
      "text/plain": [
       "<Figure size 432x288 with 1 Axes>"
      ]
     },
     "metadata": {
      "needs_background": "light"
     },
     "output_type": "display_data"
    }
   ],
   "source": [
    "x=range(num_epochs)\n",
    "y_train=training_acc_list\n",
    "y_val = validation_acc_list\n",
    "\n",
    "fig2 = plt.figure(2)\n",
    "ax2 = fig2.add_subplot(111)\n",
    "\n",
    "plt.plot(x,y_train,marker='o',markersize=3,linewidth=2,linestyle='dashed',color='r',label=\"training accuracy\")\n",
    "plt.plot(x,y_val,marker='o',markersize=3,linewidth=2,linestyle = 'solid', color='g',label=\"validation accuracy\")\n",
    "#plt.plot(x,y_test,marker='o',markersize=3,linewidth=2,linestyle='dashed',color='b',label=\"test accuracy\")\n",
    "plt.title('Accuracy as a function of epoch')#,color='w')\n",
    "\n",
    "ax2.set_xlabel('Epochs')\n",
    "ax2.set_ylabel('Accuracy')\n",
    "\n",
    "plt.legend(loc='upper right')\n",
    "plt.legend()\n",
    "plt.show()"
   ]
  },
  {
   "cell_type": "markdown",
   "metadata": {},
   "source": [
    "# Validation Confusion Matrix"
   ]
  },
  {
   "cell_type": "code",
   "execution_count": 59,
   "metadata": {},
   "outputs": [
    {
     "name": "stdout",
     "output_type": "stream",
     "text": [
      "TN = 167488, FP = 34015, FN = 10025, TP = 191472\n",
      "\n",
      "Confusion matrix of validation data:\n",
      " [[167488  34015]\n",
      " [ 10025 191472]]\n"
     ]
    }
   ],
   "source": [
    "val_outputs = np.array(final_output)\n",
    "val_predicted = np.array(final_preds)\n",
    "#val_truth = validation_dataset.y_data.numpy()\n",
    "val_truth = np.array(final_labels)\n",
    "\n",
    "validation_confusion_matrix = sklm.confusion_matrix(val_truth,val_predicted)\n",
    "tn, fp, fn, tp = sklm.confusion_matrix(val_truth,val_predicted).ravel()\n",
    "\n",
    "print('TN = {}, FP = {}, FN = {}, TP = {}\\n'.format(tn, fp, fn, tp))\n",
    "print('Confusion matrix of validation data:\\n',validation_confusion_matrix)"
   ]
  },
  {
   "cell_type": "code",
   "execution_count": 60,
   "metadata": {},
   "outputs": [
    {
     "name": "stdout",
     "output_type": "stream",
     "text": [
      "[9.9998164e-01 1.0000000e+00 9.9957412e-01 1.9647767e-04 9.9999702e-01\n",
      " 1.0000000e+00 1.0000000e+00 9.8043847e-01 9.9918252e-01 1.0000000e+00\n",
      " 1.0000000e+00 9.9999952e-01 1.0000000e+00 9.9996996e-01 1.0000000e+00\n",
      " 9.9998879e-01 9.9999976e-01 9.7600740e-01 9.9999833e-01 9.9999917e-01\n",
      " 1.0000000e+00 9.9999845e-01 9.9999976e-01 9.8707050e-01 9.9999070e-01\n",
      " 9.9314064e-01 9.9903047e-01 9.9989891e-01 9.9999964e-01 9.9965250e-01\n",
      " 9.9999690e-01 9.9932587e-01 9.9998057e-01 9.9999857e-01 9.9704617e-01\n",
      " 1.0000000e+00 9.9996042e-01 1.0000000e+00 2.5950119e-04 9.9999976e-01\n",
      " 9.9999571e-01 7.5511366e-02 9.9999797e-01 9.9829537e-01 9.9984372e-01\n",
      " 9.9999928e-01 9.9999833e-01 1.0000000e+00 9.9999964e-01 9.9998629e-01]\n",
      "[0.058233563, 0.1480384, 0.15886153, 0.048306998, 0.05839542, 0.07681869, 0.12721147, 0.1460855, 0.053167008]\n"
     ]
    },
    {
     "data": {
      "image/png": "[encoded data removed]",
      "text/plain": [
       "<Figure size 432x288 with 1 Axes>"
      ]
     },
     "metadata": {
      "needs_background": "light"
     },
     "output_type": "display_data"
    }
   ],
   "source": [
    "#observing the background and signal distributions\n",
    "top_scores = val_outputs[val_truth==1]\n",
    "background_scores = val_outputs[val_truth==0]\n",
    "\n",
    "plt.hist(background_scores,bins=100,log=True)\n",
    "plt.hist(top_scores,bins=100, log=True)\n",
    "print(top_scores[0:50])\n",
    "\n",
    "print(final_weights[-10:-1])"
   ]
  },
  {
   "cell_type": "markdown",
   "metadata": {},
   "source": [
    "# Precision, Recall and F-measure"
   ]
  },
  {
   "cell_type": "code",
   "execution_count": 61,
   "metadata": {},
   "outputs": [
    {
     "data": {
      "text/html": [
       "<table>\n",
       "<tbody>\n",
       "<tr><td>Precision</td><td style=\"text-align: right;\">0.849</td></tr>\n",
       "<tr><td>Recall   </td><td style=\"text-align: right;\">0.95 </td></tr>\n",
       "<tr><td>F1       </td><td style=\"text-align: right;\">0.897</td></tr>\n",
       "</tbody>\n",
       "</table>"
      ],
      "text/plain": [
       "<IPython.core.display.HTML object>"
      ]
     },
     "metadata": {},
     "output_type": "display_data"
    }
   ],
   "source": [
    "precision = sklm.precision_score(val_truth,val_predicted)\n",
    "#print('Precision: {:.4f}'.format(precision))\n",
    "recall = sklm.recall_score(val_truth,val_predicted)\n",
    "#print('Recall: {:.4f}'.format(recall))\n",
    "f1 = sklm.f1_score(val_truth,val_predicted)\n",
    "#print('F1: {:.4f}'.format(f1))\n",
    "\n",
    "from IPython.display import HTML, display\n",
    "import tabulate\n",
    "table = [[\"Precision\",\"{:.3f}\".format(precision)],\n",
    "         [\"Recall\",\"{:.3f}\".format(recall)],\n",
    "         [\"F1\",\"{:.3f}\".format(f1)]]\n",
    "        \n",
    "display(HTML(tabulate.tabulate(table, tablefmt='html')))"
   ]
  },
  {
   "cell_type": "markdown",
   "metadata": {},
   "source": [
    "# Validation ROC Curve and AUC"
   ]
  },
  {
   "cell_type": "code",
   "execution_count": 63,
   "metadata": {},
   "outputs": [
    {
     "name": "stdout",
     "output_type": "stream",
     "text": [
      "[1.3226426e-04 2.8860641e-05 9.9998164e-01 1.0000000e+00 4.9978782e-05\n",
      " 4.5868978e-03 2.8277721e-04 9.9957412e-01 1.9647767e-04 2.6735368e-06\n",
      " 2.5316015e-07 7.5756951e-05 1.1603736e-01 9.9999702e-01 2.0397119e-05\n",
      " 3.4584944e-05 1.0000000e+00 1.7432229e-05 9.9999940e-01 1.0000000e+00]\n",
      "[0 0 0 0 0 0 0 0 0 0 1 1 1 1 1 1 1 1 1 1]\n"
     ]
    }
   ],
   "source": [
    "#plt.hist(outputs.data[:,0])\n",
    "#plt.hist(final_output)\n",
    "#plt.hist(preds.data[:])\n",
    "#print(preds.shape)\n",
    "#print(outputs.data)\n",
    "\n",
    "#print(len(outputs.data))\n",
    "#print(len(final_output))\n",
    "#print(len(validation_dataset.y_data))\n",
    "\n",
    "print(np.array(final_output[0:20]))\n",
    "print(np.transpose(validation_dataset.y_data[0:20].numpy()))"
   ]
  },
  {
   "cell_type": "code",
   "execution_count": 64,
   "metadata": {},
   "outputs": [
    {
     "name": "stdout",
     "output_type": "stream",
     "text": [
      "AUC: 0.9216\n"
     ]
    },
    {
     "data": {
      "image/png": "[encoded data removed]",
      "text/plain": [
       "<Figure size 432x288 with 1 Axes>"
      ]
     },
     "metadata": {
      "needs_background": "light"
     },
     "output_type": "display_data"
    }
   ],
   "source": [
    "##############################\n",
    "#Standard Validation ROC Curve\n",
    "##############################\n",
    "fpr, tpr, thresholds = sklm.roc_curve(val_truth,val_outputs,pos_label=1)\n",
    "auc = sklm.roc_auc_score(val_truth,val_outputs)\n",
    "\n",
    "print('AUC: {:.4f}'.format(auc))\n",
    "\n",
    "#ROC curve\n",
    "fig3 = plt.figure(3)\n",
    "ax3 = fig3.add_subplot(111)\n",
    "\n",
    "#plt.plot(fpr,tpr)\n",
    "#false positive x, true positive y\n",
    "plt.plot(fpr,tpr,linewidth=2,linestyle='solid',color='orange',label=\"ROC curve (AUC={:.4f})\".format(auc))\n",
    "plt.plot(fpr,fpr,linewidth=2,linestyle='dashed',color='b')\n",
    "plt.title('ROC Curve')\n",
    "\n",
    "ax3.set_xlabel('True Positive Rate')\n",
    "ax3.set_ylabel('False Positive Rate')\n",
    "\n",
    "plt.legend(loc='lower right')\n",
    "plt.legend()\n",
    "plt.show()"
   ]
  },
  {
   "cell_type": "code",
   "execution_count": 65,
   "metadata": {},
   "outputs": [
    {
     "name": "stdout",
     "output_type": "stream",
     "text": [
      "[0.         0.25479288 0.30253056 0.32665002 0.34328551 0.35600034\n",
      " 0.36607989 0.37497332 0.38231338 0.38848717 0.39474533 0.40002581\n",
      " 0.40490925 0.40941552 0.41347514 0.41691936 0.42059187 0.42375817\n",
      " 0.42705847 0.43009573 0.43286997 0.43566902 0.43829437 0.44074602\n",
      " 0.44316789 0.44546569 0.44775356 0.45006129 0.45204643 0.45408617\n",
      " 0.4560316  0.45789764 0.45974878 0.46144111 0.46299449 0.46448334\n",
      " 0.46617071 0.46766453 0.46902932 0.47072165 0.47215095 0.47367455\n",
      " 0.47513362 0.47644878 0.47789793 0.47924287 0.48071683 0.48200221\n",
      " 0.48328263 0.48442409]\n",
      "[0.         0.04645588 0.0513243  0.05367662 0.05518032 0.05631678\n",
      " 0.05734902 0.05819764 0.05887754 0.05950284 0.06006362 0.06063433\n",
      " 0.0610115  0.06144325 0.06189982 0.0623018  0.06265912 0.06297673\n",
      " 0.06319509 0.06354248 0.0638452  0.06408341 0.06434644 0.06453502\n",
      " 0.06471368 0.06498166 0.06520498 0.06546801 0.06561193 0.06579555\n",
      " 0.06594939 0.06612805 0.066267   0.06644566 0.06662928 0.06675831\n",
      " 0.06693201 0.06708585 0.06720495 0.06733895 0.06748783 0.06764664\n",
      " 0.06776574 0.06787988 0.06801388 0.06813794 0.06822231 0.06836623\n",
      " 0.06853496 0.06867888]\n"
     ]
    }
   ],
   "source": [
    "print(tpr[:50])\n",
    "print(fpr[:50])"
   ]
  },
  {
   "cell_type": "code",
   "execution_count": 66,
   "metadata": {},
   "outputs": [
    {
     "data": {
      "image/png": "[encoded data removed]",
      "text/plain": [
       "<Figure size 432x288 with 1 Axes>"
      ]
     },
     "metadata": {
      "needs_background": "light"
     },
     "output_type": "display_data"
    },
    {
     "name": "stdout",
     "output_type": "stream",
     "text": [
      "47141\n",
      "47141\n"
     ]
    }
   ],
   "source": [
    "##########################\n",
    "#Log Validation ROC Curve\n",
    "#########################\n",
    "background_rejection = safe_div(1,fpr)\n",
    "#background_rejection = 1/fpr[1:] #the first and second elements of fpr are usually zero, so disregard these to avoid divide by zero\n",
    "\n",
    "#ROC curve (using background rejection)\n",
    "fig4 = plt.figure(4)\n",
    "ax4 = fig4.add_subplot(111)\n",
    "\n",
    "#plt.plot(fpr,tpr)\n",
    "plt.semilogy(tpr[1:],background_rejection[1:],linewidth=2,linestyle='solid',color='blue',label=\"ROC curve\")\n",
    "#plt.plot(background_rejection,background_rejection,linewidth=2,linestyle='dashed',color='b')\n",
    "plt.title('Validation ROC Curve, Jet $p_T$ = 550 - 650 GeV')#,color='w')\n",
    "\n",
    "ax4.set_xlabel('Top Tagging Efficiency')#, color='white')\n",
    "ax4.set_ylabel('Background Rejection, 1/fpr')#, color='white')\n",
    "plt.ylim(1, 5000)\n",
    "plt.xlim(0,1)\n",
    "\n",
    "plt.legend(loc='upper right')\n",
    "plt.legend()\n",
    "plt.show()\n",
    "\n",
    "print(len(fpr))\n",
    "print(len(tpr))"
   ]
  },
  {
   "cell_type": "code",
   "execution_count": 67,
   "metadata": {},
   "outputs": [],
   "source": [
    "#find the % closest to the % signal efficiency of interest\n",
    "def find_nearest_ind(array,value):\n",
    "    array = np.asarray(array)\n",
    "    ind = (np.abs(array-value)).argmin()\n",
    "    return ind, array[ind]"
   ]
  },
  {
   "cell_type": "code",
   "execution_count": 68,
   "metadata": {},
   "outputs": [
    {
     "data": {
      "text/html": [
       "<table>\n",
       "<tbody>\n",
       "<tr><td>Signal Efficiency</td><td>Background Rejection</td></tr>\n",
       "<tr><td>25.5             </td><td>21.53               </td></tr>\n",
       "<tr><td>50.0             </td><td>14.20               </td></tr>\n",
       "<tr><td>80.0             </td><td>9.13                </td></tr>\n",
       "</tbody>\n",
       "</table>"
      ],
      "text/plain": [
       "<IPython.core.display.HTML object>"
      ]
     },
     "metadata": {},
     "output_type": "display_data"
    }
   ],
   "source": [
    "#####################\n",
    "#Background Rejection\n",
    "#####################\n",
    "#looking at 20%, 50% and 80% signal efficiency\n",
    "index_20,signal_efficiency_20 =find_nearest_ind(tpr,0.2)\n",
    "index_50,signal_efficiency_50 =find_nearest_ind(tpr,0.5)\n",
    "index_80,signal_efficiency_80 =find_nearest_ind(tpr,0.8)\n",
    "\n",
    "#print('Background rejection at {:.1f}% signal efficiency: {:.3}\\n'.format(signal_efficiency_20*100,background_rejection[index_20]))\n",
    "#print('Background rejection at {:.1f}% signal efficiency: {:.3}\\n'.format(signal_efficiency_50*100,background_rejection[index_50]))\n",
    "#print('Background rejection at {:.1f}% signal efficiency: {:.3}\\n'.format(signal_efficiency_80*100,background_rejection[index_80]))\n",
    "\n",
    "from IPython.display import HTML, display\n",
    "import tabulate\n",
    "table = [[\"Signal Efficiency\",\"Background Rejection\"],\n",
    "         [\"{:.1f}\".format(signal_efficiency_20*100),\"{:.2f}\".format(background_rejection[index_20])],\n",
    "         [\"{:.1f}\".format(signal_efficiency_50*100),\"{:.2f}\".format(background_rejection[index_50])],\n",
    "         [\"{:.1f}\".format(signal_efficiency_80*100),\"{:.2f}\".format(background_rejection[index_80])]]\n",
    "display(HTML(tabulate.tabulate(table, tablefmt='html')))"
   ]
  },
  {
   "cell_type": "code",
   "execution_count": 69,
   "metadata": {},
   "outputs": [],
   "source": [
    "#Would like a DNN distribution for the signal and background samples (probability density as a function of neural network output)\n",
    "#plt.plot(outputs.data[:,1])\n",
    "#print(outputs.data[:,1])"
   ]
  },
  {
   "cell_type": "markdown",
   "metadata": {},
   "source": [
    "# Results: Testing the Neural Network"
   ]
  },
  {
   "cell_type": "code",
   "execution_count": 70,
   "metadata": {},
   "outputs": [],
   "source": [
    "###############################\n",
    "#Testing dataset loading class\n",
    "##############################\n",
    "class TestDataset(Dataset):\n",
    "    # Initialize our data, download, etc.\n",
    "    def __init__(self):\n",
    "        #read pickle file\n",
    "        df_test = pd.read_pickle(\"test.pkl\")\n",
    "        \n",
    "        #numpy representation of DataFrame\n",
    "        array_test = df_test.values\n",
    "        \n",
    "        self.len = array_test.shape[0]\n",
    "        self.width = array_test.shape[1]\n",
    "        self.x_data = torch.from_numpy(array_test[:,0:90]).float()\n",
    "        self.y_data = torch.from_numpy(array_test[:,-1]).long()\n",
    "        #self.rawY_data = torch.from_numpy(array_test[:,-2]).long()\n",
    "        #self.weight = torch.from_numpy(array_test[:,0]).float()\n",
    "        \n",
    "    def __getitem__(self,index):\n",
    "        return self.x_data[index],self.y_data[index]#,self.weight[index],self.rawY_data[index]\n",
    "    \n",
    "    def __len__(self):\n",
    "        return self.len"
   ]
  },
  {
   "cell_type": "code",
   "execution_count": 71,
   "metadata": {},
   "outputs": [],
   "source": [
    "###############\n",
    "#Load test data\n",
    "###############\n",
    "testing_dataset = TestDataset()\n",
    "test_len = testing_dataset.len\n",
    "\n",
    "t_batch_size = batch_len\n",
    "#make dataloader\n",
    "testing_loader = DataLoader(dataset=testing_dataset, batch_size=t_batch_size, shuffle=False, num_workers=2)"
   ]
  },
  {
   "cell_type": "code",
   "execution_count": 72,
   "metadata": {},
   "outputs": [
    {
     "name": "stdout",
     "output_type": "stream",
     "text": [
      "Accuracy:0.8916 \n",
      "\n",
      "--- 2.6079 seconds ---\n",
      "--- 0 min and 3 sec ---\n"
     ]
    }
   ],
   "source": [
    "#########\n",
    "#Testing\n",
    "########\n",
    "start_time = time.time()\n",
    "\n",
    "model.eval()\n",
    "test_loss=0\n",
    "test_corrects=0\n",
    "final_test_outputs = []\n",
    "final_test_preds = []\n",
    "    \n",
    "with torch.no_grad():\n",
    "    for data in testing_loader:\n",
    "        inputs,labels=data\n",
    "        inputs,labels = Variable(inputs), Variable(labels)\n",
    "        test_outputs = model(inputs)\n",
    "        #sum up batch loss\n",
    "        loss = criterion(test_outputs,labels)\n",
    "        #get the index of the max log-probability\n",
    "        test_preds=torch.max(test_outputs.data,1)[1]\n",
    "        test_loss += loss.item()*inputs.size(0)\n",
    "\n",
    "        #extract TP+TN\n",
    "        test_corrects += torch.sum(test_preds == labels.data)\n",
    "\n",
    "        final_test_preds.extend(test_preds.data.numpy())\n",
    "        final_test_outputs.extend(test_outputs[:,1].data.numpy())\n",
    "        #print(len(final_test_outputs),len(final_test_preds), len(labels))\n",
    "\n",
    "    final_test_loss_test = test_loss / test_len\n",
    "    final_test_acc = test_corrects.double() / test_len\n",
    "\n",
    "    print('Accuracy:{:.4f} \\n'.format(final_test_acc))\n",
    "\n",
    "end_time = time.time()   \n",
    "print(\"--- {:.4f} seconds ---\".format(end_time-start_time)) \n",
    "print(\"--- {} min and {} sec ---\".format(math.floor((end_time-start_time)/60),math.ceil((end_time-start_time)%60)))"
   ]
  },
  {
   "cell_type": "code",
   "execution_count": 73,
   "metadata": {},
   "outputs": [
    {
     "name": "stdout",
     "output_type": "stream",
     "text": [
      "AUC: 0.9223\n"
     ]
    },
    {
     "data": {
      "image/png": "[encoded data removed]",
      "text/plain": [
       "<Figure size 432x288 with 1 Axes>"
      ]
     },
     "metadata": {
      "needs_background": "light"
     },
     "output_type": "display_data"
    }
   ],
   "source": [
    "###################\n",
    "#Standard ROC curve\n",
    "###################\n",
    "\n",
    "predicted = np.array(final_test_outputs)\n",
    "truth = testing_dataset.y_data.numpy()\n",
    "preds = np.array(final_test_preds)\n",
    "\n",
    "#fpr, tpr, thresholds = sklm.roc_curve(truth,predicted,pos_label=1)\n",
    "fpr, tpr, thresholds = sklm.roc_curve(truth,predicted)#,pos_label=1)\n",
    "auc = sklm.roc_auc_score(truth,predicted)\n",
    "\n",
    "print('AUC: {:.4f}'.format(auc))\n",
    "\n",
    "#ROC curve\n",
    "fig3 = plt.figure(3)\n",
    "ax3 = fig3.add_subplot(111)\n",
    "\n",
    "#plt.plot(fpr,tpr)\n",
    "plt.plot(fpr,tpr,linewidth=2,linestyle='solid',color='orange',label=\"ROC curve (AUC={:.4f})\".format(auc))\n",
    "plt.plot(fpr,fpr,linewidth=2,linestyle='dashed',color='b')\n",
    "plt.title('Test Data ROC Curve')\n",
    "\n",
    "ax3.set_xlabel('True Positive Rate')\n",
    "ax3.set_ylabel('False Positive Rate')\n",
    "\n",
    "plt.legend(loc='lower right')\n",
    "plt.legend()\n",
    "plt.show()"
   ]
  },
  {
   "cell_type": "code",
   "execution_count": 74,
   "metadata": {},
   "outputs": [
    {
     "data": {
      "image/png": "[encoded data removed]",
      "text/plain": [
       "<Figure size 432x288 with 1 Axes>"
      ]
     },
     "metadata": {
      "needs_background": "light"
     },
     "output_type": "display_data"
    }
   ],
   "source": [
    "##############\n",
    "#Log ROC curve\n",
    "##############\n",
    "background_rejection = safe_div(1,fpr)\n",
    "#background_rejection = 1/fpr[2:] #the first and second elements of fpr are usually zero, so disregard these to avoid divide by zero\n",
    "\n",
    "#ROC curve (using background rejection)\n",
    "fig4 = plt.figure(4)\n",
    "ax4 = fig4.add_subplot(111)\n",
    "\n",
    "#plt.plot(fpr,tpr)\n",
    "plt.semilogy(tpr[1:],background_rejection[1:],linewidth=2,linestyle='solid',color='blue',label=\"ROC curve\")\n",
    "plt.title('ROC Curve, Jet $p_T$ = 550 - 650 GeV')#,color='w')\n",
    "\n",
    "ax4.set_xlabel('Top Tagging Efficiency')#, color='white')\n",
    "ax4.set_ylabel('Background Rejection, 1/fpr')#, color='white')\n",
    "\n",
    "plt.ylim(1, 5000)\n",
    "\n",
    "plt.legend(loc='upper right')\n",
    "plt.legend()\n",
    "plt.show()"
   ]
  },
  {
   "cell_type": "code",
   "execution_count": 204,
   "metadata": {},
   "outputs": [
    {
     "data": {
      "text/html": [
       "<table>\n",
       "<tbody>\n",
       "<tr><td>Signal Efficiency</td><td>Background Rejection</td></tr>\n",
       "<tr><td>20.0             </td><td>38.56               </td></tr>\n",
       "<tr><td>50.0             </td><td>16.16               </td></tr>\n",
       "<tr><td>80.0             </td><td>8.22                </td></tr>\n",
       "</tbody>\n",
       "</table>"
      ],
      "text/plain": [
       "<IPython.core.display.HTML object>"
      ]
     },
     "metadata": {},
     "output_type": "display_data"
    }
   ],
   "source": [
    "#####################\n",
    "#Background Rejection\n",
    "#####################\n",
    "#looking at 20%, 50% and 80% signal efficiency\n",
    "index_20,signal_efficiency_20 =find_nearest_ind(tpr,0.2)\n",
    "index_50,signal_efficiency_50 =find_nearest_ind(tpr,0.5)\n",
    "index_80,signal_efficiency_80 =find_nearest_ind(tpr,0.8)\n",
    "\n",
    "#print('Background rejection at {:.1f}% signal efficiency: {:.3}\\n'.format(signal_efficiency_20*100,background_rejection[index_20]))\n",
    "#print('Background rejection at {:.1f}% signal efficiency: {:.3}\\n'.format(signal_efficiency_50*100,background_rejection[index_50]))\n",
    "#print('Background rejection at {:.1f}% signal efficiency: {:.3}\\n'.format(signal_efficiency_80*100,background_rejection[index_80]))\n",
    "\n",
    "from IPython.display import HTML, display\n",
    "import tabulate\n",
    "table = [[\"Signal Efficiency\",\"Background Rejection\"],\n",
    "         [\"{:.1f}\".format(signal_efficiency_20*100),\"{:.2f}\".format(background_rejection[index_20])],\n",
    "         [\"{:.1f}\".format(signal_efficiency_50*100),\"{:.2f}\".format(background_rejection[index_50])],\n",
    "         [\"{:.1f}\".format(signal_efficiency_80*100),\"{:.2f}\".format(background_rejection[index_80])]]\n",
    "display(HTML(tabulate.tabulate(table, tablefmt='html')))"
   ]
  },
  {
   "cell_type": "code",
   "execution_count": 205,
   "metadata": {},
   "outputs": [
    {
     "data": {
      "text/html": [
       "<table>\n",
       "<tbody>\n",
       "<tr><td>Precision</td><td style=\"text-align: right;\">0.873</td></tr>\n",
       "<tr><td>Recall   </td><td style=\"text-align: right;\">0.95 </td></tr>\n",
       "<tr><td>F1       </td><td style=\"text-align: right;\">0.91 </td></tr>\n",
       "</tbody>\n",
       "</table>"
      ],
      "text/plain": [
       "<IPython.core.display.HTML object>"
      ]
     },
     "metadata": {},
     "output_type": "display_data"
    }
   ],
   "source": [
    "#####################\n",
    "#Precsion, Recall, F1\n",
    "#####################\n",
    "precision = sklm.precision_score(truth,preds)\n",
    "#print('Precision: {:.4f}'.format(precision))\n",
    "recall = sklm.recall_score(truth,preds)\n",
    "#print('Recall: {:.4f}'.format(recall))\n",
    "f1 = sklm.f1_score(truth,preds)\n",
    "#print('F1: {:.4f}'.format(f1))\n",
    "\n",
    "from IPython.display import HTML, display\n",
    "import tabulate\n",
    "table = [[\"Precision\",\"{:.3f}\".format(precision)],\n",
    "         [\"Recall\",\"{:.3f}\".format(recall)],\n",
    "         [\"F1\",\"{:.3f}\".format(f1)]]\n",
    "        \n",
    "display(HTML(tabulate.tabulate(table, tablefmt='html')))"
   ]
  },
  {
   "cell_type": "markdown",
   "metadata": {},
   "source": [
    "# Save the model and outputs"
   ]
  },
  {
   "cell_type": "code",
   "execution_count": 117,
   "metadata": {},
   "outputs": [],
   "source": [
    "# ###########\n",
    "# #Save model\n",
    "# ###########\n",
    "# torch.save(model.state_dict(),\"preproDNN1.pt\")\n",
    "\n",
    "# ##Later to Restore\n",
    "# #model.load_state_dict(torch.load(preproDNN1.pt))\n",
    "# #model.eval()\n",
    "\n",
    "# #################\n",
    "# #Save fpr and tpr\n",
    "# #################\n",
    "# import pickle as pkl\n",
    "# # f = open(\"fprtpr_preproDNN1\",\"w\")\n",
    "# # pkl.dump(fpr,f)\n",
    "# # pkl.dump(tpr,f)\n",
    "\n",
    "# with open(\"fprtpr_preproDNN1.pkl\",\"wb\") as f:\n",
    "#         pkl.dump((fpr,tpr),f)\n",
    " \n",
    "# ##Later to Restore\n",
    "# #with open(\"fprtpr_preproDNN1\",\"rb\") as f:\n",
    "# #        fpr,tpr = pkl.load(f)\n"
   ]
  },
  {
   "cell_type": "code",
   "execution_count": 118,
   "metadata": {},
   "outputs": [],
   "source": [
    "#Later to Restore\n",
    "with open(\"fprtpr_preproDNN1.pkl\",\"rb\") as f:\n",
    "        fpr,tpr = pkl.load(f)"
   ]
  },
  {
   "cell_type": "code",
   "execution_count": 119,
   "metadata": {},
   "outputs": [
    {
     "name": "stdout",
     "output_type": "stream",
     "text": [
      "38995\n"
     ]
    }
   ],
   "source": [
    "print(len(fpr))"
   ]
  },
  {
   "cell_type": "code",
   "execution_count": null,
   "metadata": {},
   "outputs": [],
   "source": []
  }
 ],
 "metadata": {
  "kernelspec": {
   "display_name": "Python 3",
   "language": "python",
   "name": "python3"
  },
  "language_info": {
   "codemirror_mode": {
    "name": "ipython",
    "version": 3
   },
   "file_extension": ".py",
   "mimetype": "text/x-python",
   "name": "python",
   "nbconvert_exporter": "python",
   "pygments_lexer": "ipython3",
   "version": "3.6.7"
  }
 },
 "nbformat": 4,
 "nbformat_minor": 2
}
